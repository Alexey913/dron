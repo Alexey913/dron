{
 "cells": [
  {
   "cell_type": "markdown",
   "id": "9b93b424",
   "metadata": {},
   "source": [
    "# Работа с видео в OpenCV"
   ]
  },
  {
   "cell_type": "markdown",
   "id": "5abbc152",
   "metadata": {},
   "source": [
    "**Видеоданные:** свойства матриц (тензоров) и временных рядов (есть порядок, последовательность). Это \"временной ряд матриц (тензоров)\", N+1-мерный пространственно-временной тензор.\n",
    "\n",
    "Основные свойства видеоданных:\n",
    "\n",
    "1. Число кадров в секунду (framerate). Стандартный поток - 25 fps (frames per second), т.е. каждый кадр держится на экране 40 мс\n",
    "\n",
    "\n",
    "2. Разрешение видео. Наиболее популярные разрешения имеют названия по размерам **w x h**\n",
    "\n",
    "- <b>SD</b> (Standard Definition), 640x360 or 720x480\n",
    "- <b>HD</b> (High Definition), 1280x720 or 720p\n",
    "- <b>Full HD</b>, 1920x1080 or 1080p\n",
    "- <b>UHD</b> (Ultra HD, 4K), 3840x2160 \n",
    "\n",
    "3. Форматы (т.н. \"кодеки\" - codecs) для чтенияи записи видео: AVI (давний) и MP4 (довольно новый). Определяют расширение файла. AVI не поддерживает самые современные HEVC/H.265 или VP9 форматы. HEVC и VP9 разработаны как UHD видео-кодеки. MP4 может поддерживать 4K UHD, тогда как AVI - только HD и FHD. Кроме того, AVI не поддреживает субтитров, хот может содержать объекты типа SubRip, SubStation Alpha и XSUB (в рамках сторонних модификаций)."
   ]
  },
  {
   "cell_type": "markdown",
   "id": "f45edcc7",
   "metadata": {},
   "source": [
    "Как и в случае **`cv2.imread`**, когда мы читаем изображение, функция **`cv2.VideoCapture`** создает объект [**VideoCapture**](https://docs.opencv.org/4.1.0/d8/dfe/classcv_1_1VideoCapture.html#ac4107fb146a762454a8a87715d9b7c96), читающий видео из локального файла или другого истчника:\n",
    "\n",
    "``` python\n",
    "VideoCapture object\t= cv.VideoCapture(filename[, apiPreference])\n",
    "```\n",
    "Параметры:\n",
    "- **`filename`** может быть:\n",
    "    - имя файла (video.avi)\n",
    "    - последовательность изорбражений с одинаковыми размерами (img_00.jpg, img_01.jpg, img_02.jpg, ...)\n",
    "    - URL видеопотока (protocol://host:port/script_name?script_params|auth). ВРпазные видеопотоки или IP-камераы имеют разные URL-схемы (см. документацию).\n",
    "- **`apiPreference`**:\tпредпочтительный обработчик видеопотока, обычно выьирается из нескольких существующих: cv2.CAP_FFMPEG, cv2.CAP_IMAGES, cv2.CAP_DSHOW\n",
    "\n",
    "**Наиболее употребляемые способы** (по источникам) для чтения видео объектом VideoCapture Object:\n",
    "1. Вебкамера (аргумент 0). Если подключено 2 и более камер - аргумент = порядковый номер камеры: 0, 1, 2...\n",
    "2. Видеофайл (аргумент = имя файла)\n",
    "3. Последовательность изображений (аргумент вида image_%03d.jpg)"
   ]
  },
  {
   "cell_type": "markdown",
   "id": "a88f2911",
   "metadata": {},
   "source": [
    "## Читаем первый кадр из видео"
   ]
  },
  {
   "cell_type": "code",
   "execution_count": null,
   "id": "83653f66",
   "metadata": {},
   "outputs": [],
   "source": [
    "import cv2\n",
    "import matplotlib.pyplot as plt\n",
    "import os # библиотека для работы с файловой системой\n",
    "import shutil # еще одна библиотека для работы с файловой системой\n",
    "%matplotlib inline"
   ]
  },
  {
   "cell_type": "code",
   "execution_count": null,
   "id": "c87ec472",
   "metadata": {},
   "outputs": [],
   "source": [
    "import matplotlib # настройки matplotlib\n",
    "matplotlib.rcParams['figure.figsize'] = (10.0, 10.0)\n",
    "matplotlib.rcParams['image.cmap'] = 'gray'"
   ]
  },
  {
   "cell_type": "markdown",
   "id": "898a5e11",
   "metadata": {},
   "source": [
    "### Файл для работы"
   ]
  },
  {
   "cell_type": "code",
   "execution_count": null,
   "id": "b594e5fa",
   "metadata": {},
   "outputs": [],
   "source": [
    "cap = cv2.VideoCapture('z2_1min.mp4') # создаем объект VideoCapture для чтения локального файла"
   ]
  },
  {
   "cell_type": "code",
   "execution_count": null,
   "id": "e7bbcfd7",
   "metadata": {},
   "outputs": [],
   "source": [
    "# Проверка успешного захвата видео\n",
    "if not cap.isOpened(): # cap.isOpened() - свойство объекта VideoCapture, возвращаующе True или False\n",
    "    print(\"Error opening video stream or file\")\n",
    "else:\n",
    "     print(\"OK!\")"
   ]
  },
  {
   "cell_type": "markdown",
   "id": "82900015",
   "metadata": {},
   "source": [
    "Для покадрового чтения видеопотока используется функцуия **`cap.read`**, которая возвращает кортеж из двух значений: логического (True = кадр прочитан) и самого прочитанного кадра: "
   ]
  },
  {
   "cell_type": "code",
   "execution_count": null,
   "id": "1dc7dd09",
   "metadata": {},
   "outputs": [],
   "source": [
    "ret, frame = cap.read() # потому мы подставлем два имени для возвращаемых функцией значений"
   ]
  },
  {
   "cell_type": "markdown",
   "id": "9ccf520a",
   "metadata": {},
   "source": [
    "После прочтения видео можно вывести его на экран покадрово. Т.к. каждый кадр это изображение - можно использовать функцию **`cv2.imshow()`**. Обычно jupyter-ноутбуки не приспособлены для воспроизводства видео, но видео в них вполне возможно вставлять и воспроизводить двумя способами:\n",
    "- matplotlib imshow в самом ноутбуке\n",
    "- cv2.imshow в локальном python-скрипте"
   ]
  },
  {
   "cell_type": "code",
   "execution_count": null,
   "id": "5bd0f3c5",
   "metadata": {},
   "outputs": [],
   "source": [
    "print(type(frame))\n",
    "frame.shape # объект frame - массив  numpy, обладающий большинством свойств таких массивов"
   ]
  },
  {
   "cell_type": "code",
   "execution_count": null,
   "id": "f3a8ee50",
   "metadata": {
    "scrolled": true
   },
   "outputs": [],
   "source": [
    "plt.imshow(frame) # выводим прочитанный (первый) кадр и... о ужас!"
   ]
  },
  {
   "cell_type": "markdown",
   "id": "c5615964",
   "metadata": {},
   "source": [
    "Можно также при чтении изображения или кадра указать конвертацию BGR --> RGB **`cv2.COLOR_BGR2RGB`**, поскольку BGR (по неведомым причинам) исходно родной формат для OpenCV."
   ]
  },
  {
   "cell_type": "code",
   "execution_count": null,
   "id": "ebe1f14d",
   "metadata": {
    "scrolled": true
   },
   "outputs": [],
   "source": [
    " # меняем  каналы местами массива (нотация среза: читаем с конца), трюк равносилен \n",
    "plt.imshow(frame[...,::-1])"
   ]
  },
  {
   "cell_type": "markdown",
   "id": "5f9e514f",
   "metadata": {},
   "source": [
    "## Отображение кадров в виде видео (только локальные файлы)\n",
    "Как и в случае с изображением, используем функцию **`cv2.waitKey()`** после функции **`cv2.imshow()`**, чтобы приостановить каждый кадр видео. В случае изображения мы передаем **0** в функцию **`waitKey`**, но для воспроизведения видео нам нужно передать в функцию **`waitKey()`** число > **0**. Значение **0** приостанавливает кадр в видео на бесконечное время, а в видео нам нужно, чтобы каждый кадр отображался небольшое время. И нужно передать в функцию **`waitKey`** число больше **0** (время в мс, в течение которого кадр отображается).\n",
    "\n",
    "- **`waitKey`** для веб-камеры. При чтении с веб-камеры использование **`waitKey(1)`** уместно (частота кадров дисплея будет ограничена частотой кадров веб-камеры, даже если указать задержку в 1 мс.\n",
    "- **`waitKey`** для видеофайла. При чтении кадров из видео, может быть полезным установить задержку в 1-2 мс, чтобы поток был освобожден для выполнения необходимой нам обработки. В редких случаях (воспроизведение с определенной частотой кадров) задержка может быть > 1 мс."
   ]
  },
  {
   "cell_type": "code",
   "execution_count": null,
   "id": "288714ab",
   "metadata": {},
   "outputs": [],
   "source": [
    "# \"бесконечный\" цикл с ключевым словом while: по этому слову создаются циклы, длящиеся по умолчанию (до наступления условия)\n",
    "while(cap.isOpened()):\n",
    "    ret, frame = cap.read() # пока кадр открывается объектом VideoCapture\n",
    "    \n",
    "    if ret == True: # если кадр прочитан успешно\n",
    "        cv2.imshow(\"Video Output\", frame) # вывод кадра на экран   \n",
    "        cv2.waitKey(25) # ждем 25 мс для вывода следующего кадра\n",
    "    \n",
    "    # выход из цикла\n",
    "    else: \n",
    "        break\n",
    "        cap.release() # не забываем в конце освободить поток (иначе придется всякий раз перезапускать jupyter)"
   ]
  },
  {
   "cell_type": "markdown",
   "id": "f917244a",
   "metadata": {},
   "source": [
    "## Как узнать свойства видеопотка?\n",
    "За это отвечают метод **`cap.get(propId)`**. Здесь **`cap`** это объект **`VideoCapture`** свойства которого надо узнать, **`propId`** это [Property ID](https://docs.opencv.org/4.1.0/d4/d15/group__videoio__flags__base.html#gaeb8dd9c89c10a5c63c139bf7c4f5704d) и **`value`** идентификатор свойства **`propId`**.\n",
    "\n",
    "Наиболее частоиспользуемые свойства и их ID (цифры):\n",
    "\n",
    "| Enumerator | Numerical Value | Property |\n",
    "| --- | --- | --- |\n",
    "| **`cv2.CAP_PROP_POS_MSEC`** | `0` | текущая позиция чтения потока в мс |\n",
    "| **`cv2.CAP_PROP_FRAME_WIDTH`** | `3` | ширина кадра |\n",
    "| **`cv2.CAP_PROP_FRAME_HEIGHT`** | `4` | высота кадра |\n",
    "| **`cv2.CAP_PROP_FPS`** | `5` | частота кадров, к / сек |\n",
    "| **`cv2.CAP_PROP_FOURCC`** | `6` | четырехбуквенное обозначение кодека обработки |\n"
   ]
  },
  {
   "cell_type": "code",
   "execution_count": null,
   "id": "7e288dec",
   "metadata": {},
   "outputs": [],
   "source": [
    "width = cap.get(3) # ширина кадра\n",
    "height = cap.get(4) # высота кадра\n",
    "\n",
    "print(width,height) # для использования переводим в целочисмленные значения с помощью int()"
   ]
  },
  {
   "cell_type": "markdown",
   "id": "6c5789eb",
   "metadata": {},
   "source": [
    "## Как установить свойства видеопотка?\n",
    "Мы можем использовать метод и **`cap.set(propId,value)`** для изменения свойств видеопотока. Например, изменить высоту и ширину входного видео во время чтения.\n",
    "\n",
    "**Примечание**: функция set может дать неожиданные результаты (настройка свойства может быть не предусмотрена файлом или камерой). Для веб-камеры невозможно установить произвольные значения ширины и высоты кадра (не все разрешения поддерживаются). Например, разрешение камеры по умолчанию 720x1280. Если установить его на 200x200, этого может не произойти, будет установлено другое значение 640x480, которое поддерживается."
   ]
  },
  {
   "cell_type": "code",
   "execution_count": null,
   "id": "93a6f15a",
   "metadata": {},
   "outputs": [],
   "source": [
    "# True = свойство изменено удачно, False - изменения не произошли или не соответсвуют точно заданным\n",
    "ret = cap.set(3, 320) # пытаемся установить ширину\n",
    "print(ret)\n",
    "\n",
    "ret = cap.set(4, 180) # пытаемся установить высоту\n",
    "print(ret)"
   ]
  },
  {
   "cell_type": "markdown",
   "id": "e075f60d",
   "metadata": {},
   "source": [
    "## Запись видео в OpenCV¶\n",
    "После завершения покадровой обработки видео, следующий шаг — это сохранить результат. С изображениями все просто. Нам просто нужно использовать **`cv2.imwrite()`** и укажите формат изображения (jpg/png). Для видео требуется дополнительная информация.\n",
    "\n",
    "1. Создайте объект VideoWriter:\n",
    "```python\n",
    "VideoWriter object = cv.VideoWriter(filename, fourcc, fps, frameSize[, isColor])\n",
    "```\n",
    "**Параметры VideoWriter:**\n",
    "- **`filename`**: имя выходного видеофайла.\n",
    "- **`fourcc`**: 4-значный код кодека, используемый для сжатия кадров. Например, VideoWriter::fourcc('P','I','M','1') — это кодек MPEG-1, VideoWriter::fourcc('M','J','P','G ') — кодек motion-jpeg и т. д. Список кодов можно получить на странице [FourCC](https://en.wikipedia.org/wiki/FourCC). Обработчик FFMPEG с контейнером MP4 изначально использует другие значения может прийти предупреждающее сообщение (не ошибка!) от OpenCV о преобразовании кода fourcc.\n",
    "- **`fps`**: частота кадров создаваемого видеопотока.\n",
    "- **`frameSize`**: размер видеокадров - кортеж из пары чисел **(W, H)**.\n",
    "- **`isColor`**: если не 0, обработчик будет ожидать и кодировать цветные кадры, иначе будет работать с кадрами в оттенках серого (флаг поддерживается только в Windows)."
   ]
  },
  {
   "cell_type": "code",
   "execution_count": null,
   "id": "4c4d02a4",
   "metadata": {},
   "outputs": [],
   "source": [
    "cap = cv2.VideoCapture('z2_1min.mp4')"
   ]
  },
  {
   "cell_type": "code",
   "execution_count": null,
   "id": "36a2a72c",
   "metadata": {},
   "outputs": [],
   "source": [
    "frame_width = int(cap.get(3)) # получаем данные исходного (читаемого) потока\n",
    "frame_height = int(cap.get(4)) # а именно - ширину и высоту кадра\n",
    "codec = cv2.VideoWriter_fourcc(*'XVID') # Если файл не записался, пробуйте другие кодеки ('mp4v' или 'M','J','P','G')\n",
    "\n",
    "# Определяем кодек и создаем объект VideoWriter. Записанное видео будет иметь имя 'z2_1min_10fps.mp4' \n",
    "# ВНИМАНИЕ! Указание имени оригинала перезапишет оригинал!\n",
    "writer = cv2.VideoWriter('z2_1min_5fps.mp4', codec, 5, (frame_width,frame_height))"
   ]
  },
  {
   "cell_type": "code",
   "execution_count": null,
   "id": "500bdea1",
   "metadata": {},
   "outputs": [],
   "source": [
    "# Читаем в условно-бесконечном цикле while (т.е. пока есть новые кадры в потоке)\n",
    "while(cap.isOpened()):\n",
    "    ret, frame = cap.read() # захват кадра за кадром\n",
    "    \n",
    "    if ret == True: # если кадр успешно открыт\n",
    "        writer.write(frame) # пишем его в последовательность файла контейнера \"z2_1min_5fps.mp4\"\n",
    "        cv2.waitKey(25) # ждем 25 мс (время на обработку)\n",
    "    else: \n",
    "        break\n",
    "        \n",
    "cap.release() # освободждаем не только читаемы оригинал,\n",
    "writer.release() # но и записываемый файл-контейнер\n",
    "print('recording complete')"
   ]
  },
  {
   "cell_type": "markdown",
   "id": "86c1b2a0",
   "metadata": {},
   "source": [
    "#### Итог: записана копия файла с  пониженной до 5 fps частотй кадров"
   ]
  },
  {
   "cell_type": "markdown",
   "id": "df4d8040",
   "metadata": {},
   "source": [
    "##  Функции обработки видео\n",
    "### 1. Разбор видео на кадры"
   ]
  },
  {
   "cell_type": "code",
   "execution_count": null,
   "id": "5d36dd2e",
   "metadata": {},
   "outputs": [],
   "source": [
    "def video2frames(src, out, sample, xr, yr, x, y, w, h):\n",
    "    \n",
    "    '''\n",
    "    Sample frames from video with constant frequency i \n",
    "    (write each i-th frame, parameter 'sample')\n",
    "    '''\n",
    "    \n",
    "    if not os.path.exists(out):\n",
    "        os.mkdir(out)\n",
    "    \n",
    "    cap = cv2.VideoCapture(src)\n",
    "    \n",
    "    if not cap.isOpened(): \n",
    "        print('Error opening video')\n",
    "    \n",
    "    i, s = 0, 0\n",
    "    while cap.isOpened():\n",
    "        ret, frame = cap.read()\n",
    "        if ret == True:\n",
    "            if i % sample == 0: # пишет каждый 'sample-th' кадр\n",
    "                frame = cv2.resize(frame, (xr, yr), cv2.INTER_NEAREST)\n",
    "#                 frame = cv2.rotate(frame, cv2.ROTATE_90_CLOCKWISE) # cv2.ROTATE_90_COUNTERCLOCKWISE, cv2.ROTATE_180\n",
    "#                 cv2.rectangle(frame , (y, x), (y+h, x+w), (255, 255, 255), thickness=2)\n",
    "#                 frame = frame[x:w, y:h]\n",
    "#                 ...\n",
    "#                 ...и другие преобразования (функции OpenCV...)\n",
    "                cv2.imwrite(out + '/' + os.path.basename(path)[:-4] + '_' + str(i) + '.jpg', frame)\n",
    "\n",
    "                s += 1\n",
    "            i += 1\n",
    "        else:\n",
    "            break\n",
    "    cap.release()\n",
    "        \n",
    "    return f'OK, {s} frames were saved'"
   ]
  },
  {
   "cell_type": "code",
   "execution_count": null,
   "id": "f72f453a",
   "metadata": {},
   "outputs": [],
   "source": [
    "%%time\n",
    "path = 'z2_1min_5fps.mp4' # путь к видео\n",
    "out = os.path.dirname(path) + 'z2_1min_5fps_frames' # путь расположения результата\n",
    "cap = cv2.VideoCapture(path) # захват видео объектом VideoCapture по указанному пути\n",
    "new_x, new_y = int(cap.get(3)), int(cap.get(4)) # получаем ширину и высоту кадра от оригинала, передаем в writer\n",
    "\n",
    "# video2frames(path, out, 1, new_x, new_y, 0, 0, new_x, new_y)"
   ]
  },
  {
   "cell_type": "markdown",
   "id": "ca930d80",
   "metadata": {},
   "source": [
    "### 2. Копирование подвыборки кадров в другую директорию"
   ]
  },
  {
   "cell_type": "code",
   "execution_count": null,
   "id": "37454cbe",
   "metadata": {},
   "outputs": [],
   "source": [
    "def frame_select(src, out, sample):\n",
    "    \n",
    "    \"\"\"\n",
    "    Здесь должно быть исчерпывающее описание функции, но как обычно времени нет на это :)\n",
    "    \"\"\"\n",
    "    if not os.path.exists(out):\n",
    "        os.mkdir(out)\n",
    "    \n",
    "    names = os.listdir(src)\n",
    "    i, n = 0, 0\n",
    "    for name in names:\n",
    "        if i % sample == 0:\n",
    "            shutil.copy2(src + '/' + name, out + '/' + name)\n",
    "            n += 1\n",
    "        i += 1\n",
    "    \n",
    "    return f'{n} frames were selected'"
   ]
  },
  {
   "cell_type": "code",
   "execution_count": null,
   "id": "2aeb5233",
   "metadata": {},
   "outputs": [],
   "source": [
    "path = 'z2_1min_5fps_frames'\n",
    "src = os.path.dirname(path) + 'z2_1min_5fps_frames'\n",
    "out = os.path.dirname(path) + 'z2_1min_5fps_frames_selected'\n",
    "\n",
    "frame_select(src, out, 2) # итог: каждый второй кадр перенесен в другую диреторию"
   ]
  },
  {
   "cell_type": "markdown",
   "id": "05c43765",
   "metadata": {},
   "source": [
    "### Сбор видео из кадров"
   ]
  },
  {
   "cell_type": "code",
   "execution_count": null,
   "id": "31331f8f",
   "metadata": {},
   "outputs": [],
   "source": [
    "def frames2video(src, out, rate, w, h):\n",
    "    \n",
    "    '''\n",
    "    Тут должна быть документация по функции, но как обычно нет времени :)\n",
    "    '''\n",
    "       \n",
    "    fourcc = cv2.VideoWriter_fourcc(*'XVID') #*'mp4v'\n",
    "    wrt = cv2.VideoWriter(out, fourcc, rate, (w, h))\n",
    "    names = os.listdir(os.getcwd() + src)\n",
    "    \n",
    "    for name in names:\n",
    "        frame = cv2.imread(os.getcwd() +  src + name)\n",
    "#         frame = cv2.rotate(frame, cv2.ROTATE_90_COUNTERCLOCKWISE)\n",
    "        wrt.write(frame)\n",
    "        \n",
    "    wrt.release()\n",
    "    \n",
    "    return 'OK'"
   ]
  },
  {
   "cell_type": "code",
   "execution_count": null,
   "id": "61834ada",
   "metadata": {},
   "outputs": [],
   "source": [
    "%%time\n",
    "path = 'z2_1min_5fps_frames_selected'\n",
    "src = os.path.dirname(path) + '\\z2_1min_5fps_frames_selected'\n",
    "out = os.path.dirname(path) + '\\z2_1min_5fps_frames_selected.mp4'\n",
    "\n",
    "frames2video(src, out, 25, 720, 1280)"
   ]
  },
  {
   "cell_type": "markdown",
   "id": "00cefc1e",
   "metadata": {},
   "source": [
    "## FFmpeg\n",
    "Блиотека-основа, которую использует \"под капотом\" OpenCV. Типичный конвеер обработки файа в FFmpeg: сперва указывается последостельность обработок в виде команд (функций с параметрами), после чего давется комнада на выполнение данной цепи преоразований."
   ]
  },
  {
   "cell_type": "code",
   "execution_count": null,
   "id": "6d87aaf3",
   "metadata": {},
   "outputs": [],
   "source": [
    "import ffmpeg"
   ]
  },
  {
   "cell_type": "code",
   "execution_count": null,
   "id": "82f811ed",
   "metadata": {},
   "outputs": [],
   "source": [
    "# полная информация о файле\n",
    "stream = ffmpeg.probe('z2_1min.mp4')\n",
    "stream"
   ]
  },
  {
   "cell_type": "code",
   "execution_count": null,
   "id": "13039f91",
   "metadata": {},
   "outputs": [],
   "source": []
  }
 ],
 "metadata": {
  "kernelspec": {
   "display_name": "Python 3 (ipykernel)",
   "language": "python",
   "name": "python3"
  },
  "language_info": {
   "codemirror_mode": {
    "name": "ipython",
    "version": 3
   },
   "file_extension": ".py",
   "mimetype": "text/x-python",
   "name": "python",
   "nbconvert_exporter": "python",
   "pygments_lexer": "ipython3",
   "version": "3.10.13"
  }
 },
 "nbformat": 4,
 "nbformat_minor": 5
}
