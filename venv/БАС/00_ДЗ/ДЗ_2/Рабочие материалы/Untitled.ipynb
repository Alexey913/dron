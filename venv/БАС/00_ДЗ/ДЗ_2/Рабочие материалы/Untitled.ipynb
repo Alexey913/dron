{
 "cells": [
  {
   "cell_type": "markdown",
   "id": "ee8f787b",
   "metadata": {},
   "source": [
    "## Разработка и обучение свёрточной нейронной сети (CNN) для классификации изображений"
   ]
  },
  {
   "cell_type": "markdown",
   "id": "7903aaea",
   "metadata": {},
   "source": [
    "### Задачи"
   ]
  },
  {
   "cell_type": "markdown",
   "id": "69b557c2",
   "metadata": {},
   "source": [
    "1. Разработайте архитектуру свёрточной нейронной сети для задачи классификации изображений.\n",
    "Опишите ваши соображения при выборе слоев (тип, количество, последовательность) и гиперпараметров (размер фильтров, их количества, функции активации и другие).\n",
    "2. Подготовьте все необходимые элементы для процесса обучения из инструментария pytorch:\n",
    "загрузчики данных, необходимую функцию потерь. Загрузить данные для обучения (предобработка данных: перевод в тензорный вид, при необходимости — изменеие размеров изображений — resize).\n",
    "3. Обучите модель на подготовленном наборе данных.\n",
    "4. Оцените качество обучения модели на тестовой выборке\n",
    "(по функции потерь — validation loss и точности — accuracy).\n",
    "5. Реализуйте один (на выбор) из следующих метод борьбы с переобучением:\n",
    "* cлой Dropout (если не было в разработанной архитектуре)\n",
    "* cлой BatchNorm (если не было в разработанной архитектуре)\n",
    "* регуляризация функции потерь,\n",
    "* техники data augmentation\n",
    "(дополнение данных — модификация копий изображений в обучающей выборке)\n",
    "6. Подготовьте краткий отчет\n",
    "(в свободной форме) с описанием выполненных шагов, архитектуры модели, процесса обучения, полученных результатов. Сделайте краткие выводы. Приложите к отчету визуализации (графики метрик обучения — loss, accuracy, примеры предсказаний сети)."
   ]
  },
  {
   "cell_type": "code",
   "execution_count": 2,
   "id": "8b88e9c6",
   "metadata": {},
   "outputs": [
    {
     "name": "stdout",
     "output_type": "stream",
     "text": [
      "Collecting torch\n",
      "  Downloading torch-2.5.0-cp39-cp39-win_amd64.whl (203.0 MB)\n",
      "     -------------------------------------- 203.0/203.0 MB 7.0 MB/s eta 0:00:00\n",
      "Requirement already satisfied: filelock in c:\\users\\al913\\anaconda3\\lib\\site-packages (from torch) (3.6.0)\n",
      "Collecting typing-extensions>=4.8.0\n",
      "  Downloading typing_extensions-4.12.2-py3-none-any.whl (37 kB)\n",
      "Requirement already satisfied: jinja2 in c:\\users\\al913\\anaconda3\\lib\\site-packages (from torch) (2.11.3)\n",
      "Collecting sympy==1.13.1\n",
      "  Downloading sympy-1.13.1-py3-none-any.whl (6.2 MB)\n",
      "     ---------------------------------------- 6.2/6.2 MB 7.8 MB/s eta 0:00:00\n",
      "Requirement already satisfied: fsspec in c:\\users\\al913\\anaconda3\\lib\\site-packages (from torch) (2022.7.1)\n",
      "Requirement already satisfied: networkx in c:\\users\\al913\\anaconda3\\lib\\site-packages (from torch) (2.8.4)\n",
      "Requirement already satisfied: mpmath<1.4,>=1.1.0 in c:\\users\\al913\\anaconda3\\lib\\site-packages (from sympy==1.13.1->torch) (1.2.1)\n",
      "Requirement already satisfied: MarkupSafe>=0.23 in c:\\users\\al913\\anaconda3\\lib\\site-packages (from jinja2->torch) (2.0.1)\n",
      "Installing collected packages: typing-extensions, sympy, torch\n",
      "  Attempting uninstall: typing-extensions\n",
      "    Found existing installation: typing_extensions 4.3.0\n",
      "    Uninstalling typing_extensions-4.3.0:\n",
      "      Successfully uninstalled typing_extensions-4.3.0\n",
      "  Attempting uninstall: sympy\n",
      "    Found existing installation: sympy 1.10.1\n",
      "    Uninstalling sympy-1.10.1:\n",
      "      Successfully uninstalled sympy-1.10.1\n",
      "Successfully installed sympy-1.13.1 torch-2.5.0 typing-extensions-4.12.2\n",
      "Note: you may need to restart the kernel to use updated packages.\n"
     ]
    }
   ],
   "source": [
    "pip install torch"
   ]
  },
  {
   "cell_type": "code",
   "execution_count": 3,
   "id": "06987065",
   "metadata": {},
   "outputs": [
    {
     "name": "stdout",
     "output_type": "stream",
     "text": [
      "Collecting torchvision\n",
      "  Downloading torchvision-0.20.0-cp39-cp39-win_amd64.whl (1.6 MB)\n",
      "     ---------------------------------------- 1.6/1.6 MB 5.5 MB/s eta 0:00:00\n",
      "Requirement already satisfied: torch==2.5.0 in c:\\users\\al913\\anaconda3\\lib\\site-packages (from torchvision) (2.5.0)\n",
      "Requirement already satisfied: pillow!=8.3.*,>=5.3.0 in c:\\users\\al913\\anaconda3\\lib\\site-packages (from torchvision) (9.2.0)\n",
      "Requirement already satisfied: numpy in c:\\users\\al913\\anaconda3\\lib\\site-packages (from torchvision) (1.21.5)\n",
      "Requirement already satisfied: sympy==1.13.1 in c:\\users\\al913\\anaconda3\\lib\\site-packages (from torch==2.5.0->torchvision) (1.13.1)\n",
      "Requirement already satisfied: filelock in c:\\users\\al913\\anaconda3\\lib\\site-packages (from torch==2.5.0->torchvision) (3.6.0)\n",
      "Requirement already satisfied: fsspec in c:\\users\\al913\\anaconda3\\lib\\site-packages (from torch==2.5.0->torchvision) (2022.7.1)\n",
      "Requirement already satisfied: jinja2 in c:\\users\\al913\\anaconda3\\lib\\site-packages (from torch==2.5.0->torchvision) (2.11.3)\n",
      "Requirement already satisfied: networkx in c:\\users\\al913\\anaconda3\\lib\\site-packages (from torch==2.5.0->torchvision) (2.8.4)\n",
      "Requirement already satisfied: typing-extensions>=4.8.0 in c:\\users\\al913\\anaconda3\\lib\\site-packages (from torch==2.5.0->torchvision) (4.12.2)\n",
      "Requirement already satisfied: mpmath<1.4,>=1.1.0 in c:\\users\\al913\\anaconda3\\lib\\site-packages (from sympy==1.13.1->torch==2.5.0->torchvision) (1.2.1)\n",
      "Requirement already satisfied: MarkupSafe>=0.23 in c:\\users\\al913\\anaconda3\\lib\\site-packages (from jinja2->torch==2.5.0->torchvision) (2.0.1)\n",
      "Installing collected packages: torchvision\n",
      "Successfully installed torchvision-0.20.0\n",
      "Note: you may need to restart the kernel to use updated packages.\n"
     ]
    }
   ],
   "source": [
    "pip install torchvision"
   ]
  },
  {
   "cell_type": "code",
   "execution_count": 4,
   "id": "e68c1d05",
   "metadata": {},
   "outputs": [],
   "source": [
    "import torch\n",
    "import numpy as np\n",
    "import torch.nn as nn\n",
    "import torchvision\n",
    "import torch.nn.functional as F\n",
    "import torchvision.transforms as T\n",
    "from torchvision import datasets\n",
    "import matplotlib.pyplot as plt"
   ]
  },
  {
   "cell_type": "markdown",
   "id": "a36fdbea",
   "metadata": {},
   "source": [
    "__1. Разработка архитектуры свёрточной нейронной сети для задачи классификации изображений__"
   ]
  },
  {
   "cell_type": "code",
   "execution_count": 6,
   "id": "a5a2432a",
   "metadata": {},
   "outputs": [],
   "source": [
    "# Простейшая архитектура CNN с одним сверточным блоком как baseline\n",
    "class CNN(nn.Module):\n",
    "    def __init__(self):\n",
    "        super(CNN, self).__init__() # наследование метода суперкласса (родительского класса)\n",
    "        # Sequential слой - контейнер для цепи преобразующих слоев\n",
    "        self.conv_layer = nn.Sequential(\n",
    "            nn.Conv2d(1, 32, kernel_size=3),\n",
    "            nn.ReLU(inplace=True),\n",
    "            nn.MaxPool2d(2)\n",
    "        )\n",
    "        self.fc_layer = nn.Sequential(\n",
    "            nn.Linear(32 * 15 * 15, 10)\n",
    "        )\n",
    "    \n",
    "    def forward(self, x):\n",
    "        x = self.conv_layer(x)\n",
    "        x = x.view(x.size(0), -1)\n",
    "        x = self.fc_layer(x)\n",
    "        return x"
   ]
  },
  {
   "cell_type": "code",
   "execution_count": 7,
   "id": "b71b68ba",
   "metadata": {},
   "outputs": [
    {
     "name": "stdout",
     "output_type": "stream",
     "text": [
      "CNN(\n",
      "  (conv_layer): Sequential(\n",
      "    (0): Conv2d(1, 32, kernel_size=(3, 3), stride=(1, 1))\n",
      "    (1): ReLU(inplace=True)\n",
      "    (2): MaxPool2d(kernel_size=2, stride=2, padding=0, dilation=1, ceil_mode=False)\n",
      "  )\n",
      "  (fc_layer): Sequential(\n",
      "    (0): Linear(in_features=7200, out_features=10, bias=True)\n",
      "  )\n",
      ")\n"
     ]
    }
   ],
   "source": [
    "new_cnn = CNN()\n",
    "print(new_cnn)"
   ]
  },
  {
   "cell_type": "code",
   "execution_count": 8,
   "id": "b3fe8cd8",
   "metadata": {},
   "outputs": [],
   "source": [
    "def get_data(batch_size, data_root='data', num_workers=1):\n",
    "    \n",
    "    train_test_transforms = transforms.Compose([\n",
    "        transforms.Resize((32, 32)), # Resize initial 28x28 size to 32X32\n",
    "        transforms.ToTensor(), # re-scales image values [0-255] to tensor values [0-1]\n",
    "        transforms.Normalize((0.2860, ), (0.3530, ))  # subtract mean (0.2860), divide by variance (0.3530).\n",
    "    ])\n",
    "    \n",
    "    # train dataloader\n",
    "    train_loader = torch.utils.data.DataLoader(\n",
    "        datasets.FashionMNIST(root=data_root, train=True, download=True, transform=train_test_transforms),\n",
    "        batch_size=batch_size,\n",
    "        shuffle=True,\n",
    "        num_workers=num_workers\n",
    "    )\n",
    "    \n",
    "    # test dataloader\n",
    "    test_loader = torch.utils.data.DataLoader(\n",
    "        datasets.FashionMNIST(root=data_root, train=False, download=True, transform=train_test_transforms),\n",
    "        batch_size=batch_size,\n",
    "        shuffle=False,\n",
    "        num_workers=num_workers\n",
    "    )\n",
    "    return train_loader, test_loader"
   ]
  },
  {
   "cell_type": "code",
   "execution_count": 9,
   "id": "56d39d43",
   "metadata": {},
   "outputs": [],
   "source": [
    "# Инструмент-1: функция расчета формулы свертки\n",
    "\n",
    "def conv_calc(data, c_out, k, p, d, s):\n",
    "    \n",
    "    '''\n",
    "    Calculate shape for a tensor of dimension (C, H, W)\n",
    "    forwarded through the conv layer with following paramters:\n",
    "    k - kernel size [int, int]\n",
    "    p - padding [int, int]\n",
    "    d - dilation [int, int]\n",
    "    s - stride [int, int]\n",
    "    '''\n",
    "    h_out = ((data[1] + 2 * p - d[0] * (k[0] - 1) - 1) / s[0]) - 1\n",
    "    w_out = ((data[2] + 2 * p - d[1] * (k[1] - 1) - 1) / s[1]) - 1\n",
    "    \n",
    "    return (c_out, int(h_out), int(w_out))"
   ]
  },
  {
   "cell_type": "code",
   "execution_count": 10,
   "id": "aa1e9243",
   "metadata": {},
   "outputs": [
    {
     "data": {
      "text/plain": [
       "(3, 32, 32)"
      ]
     },
     "execution_count": 10,
     "metadata": {},
     "output_type": "execute_result"
    }
   ],
   "source": [
    "in_dim = (3, 32, 32) # размерность входного тензора\n",
    "in_dim"
   ]
  },
  {
   "cell_type": "code",
   "execution_count": 11,
   "id": "90560da8",
   "metadata": {},
   "outputs": [
    {
     "data": {
      "text/plain": [
       "(6, 28, 28)"
      ]
     },
     "execution_count": 11,
     "metadata": {},
     "output_type": "execute_result"
    }
   ],
   "source": [
    "c_out = 6 # set to 6, in_dim[0] == in channels\n",
    "k = (3,3) # set \"standard\" kernel size of 3x3\n",
    "p = 0 # pytorch default\n",
    "d = (1,1) # pytorch default\n",
    "s = (1,1) # pytorch default\n",
    "\n",
    "out = conv_calc(in_dim, c_out, k, p, d, s)\n",
    "out"
   ]
  },
  {
   "cell_type": "code",
   "execution_count": 12,
   "id": "6773a732",
   "metadata": {},
   "outputs": [],
   "source": [
    "trans = T.ToTensor() # transformation set\n",
    "bs = 16 # batch size\n",
    "num_w = 4 # num of CPU threads to load data"
   ]
  },
  {
   "cell_type": "code",
   "execution_count": null,
   "id": "55b12015",
   "metadata": {},
   "outputs": [],
   "source": []
  }
 ],
 "metadata": {
  "kernelspec": {
   "display_name": "Python 3 (ipykernel)",
   "language": "python",
   "name": "python3"
  },
  "language_info": {
   "codemirror_mode": {
    "name": "ipython",
    "version": 3
   },
   "file_extension": ".py",
   "mimetype": "text/x-python",
   "name": "python",
   "nbconvert_exporter": "python",
   "pygments_lexer": "ipython3",
   "version": "3.9.13"
  }
 },
 "nbformat": 4,
 "nbformat_minor": 5
}
