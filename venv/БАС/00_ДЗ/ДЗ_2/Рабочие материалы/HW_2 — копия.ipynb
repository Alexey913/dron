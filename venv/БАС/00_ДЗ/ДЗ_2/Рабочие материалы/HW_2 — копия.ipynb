{
 "cells": [
  {
   "cell_type": "markdown",
   "id": "2b1358df",
   "metadata": {},
   "source": [
    "## Разработка и обучение свёрточной нейронной сети (CNN) для классификации изображений"
   ]
  },
  {
   "cell_type": "markdown",
   "id": "f9b8d9fa",
   "metadata": {},
   "source": [
    "### Задачи"
   ]
  },
  {
   "cell_type": "markdown",
   "id": "c8a4334b",
   "metadata": {},
   "source": [
    "1. Разработайте архитектуру свёрточной нейронной сети для задачи классификации изображений.\n",
    "Опишите ваши соображения при выборе слоев (тип, количество, последовательность) и гиперпараметров (размер фильтров, их количества, функции активации и другие).\n",
    "2. Подготовьте все необходимые элементы для процесса обучения из инструментария pytorch:\n",
    "загрузчики данных, необходимую функцию потерь. Загрузить данные для обучения (предобработка данных: перевод в тензорный вид, при необходимости — изменеие размеров изображений — resize).\n",
    "3. Обучите модель на подготовленном наборе данных.\n",
    "4. Оцените качество обучения модели на тестовой выборке\n",
    "(по функции потерь — validation loss и точности — accuracy).\n",
    "5. Реализуйте один (на выбор) из следующих метод борьбы с переобучением:\n",
    "* cлой Dropout (если не было в разработанной архитектуре)\n",
    "* cлой BatchNorm (если не было в разработанной архитектуре)\n",
    "* регуляризация функции потерь,\n",
    "* техники data augmentation\n",
    "(дополнение данных — модификация копий изображений в обучающей выборке)\n",
    "6. Подготовьте краткий отчет\n",
    "(в свободной форме) с описанием выполненных шагов, архитектуры модели, процесса обучения, полученных результатов. Сделайте краткие выводы. Приложите к отчету визуализации (графики метрик обучения — loss, accuracy, примеры предсказаний сети)."
   ]
  },
  {
   "cell_type": "code",
   "execution_count": 20,
   "id": "a3bdc8c1",
   "metadata": {},
   "outputs": [],
   "source": [
    "import matplotlib.pyplot as plt\n",
    "import os\n",
    "import time\n",
    "\n",
    "from typing import Iterable\n",
    "from dataclasses import dataclass\n",
    "\n",
    "import numpy as np\n",
    "import torch\n",
    "import torch.nn as nn\n",
    "import torch.optim as O\n",
    "import torch.nn.functional as F\n",
    "from torch.utils.data import DataLoader as DL\n",
    "from torchvision.utils import make_grid\n",
    "\n",
    "from torchvision import datasets\n",
    "from torchvision import transforms as T"
   ]
  },
  {
   "cell_type": "markdown",
   "id": "8b126012",
   "metadata": {},
   "source": [
    "__1. Разработка архитектуры свёрточной нейронной сети для задачи классификации изображений__"
   ]
  },
  {
   "cell_type": "markdown",
   "id": "a1bf9900",
   "metadata": {},
   "source": [
    "### Формула свертки"
   ]
  },
  {
   "cell_type": "code",
   "execution_count": 21,
   "id": "13f057de",
   "metadata": {},
   "outputs": [],
   "source": [
    "@dataclass # т.н. \"декоратор\", подробности: https://realpython.com/primer-on-python-decorators/\n",
    "class SystemConfiguration:\n",
    "    '''\n",
    "    Describes the common system setting needed for reproducible training\n",
    "    '''\n",
    "    seed: int = 42  # seed number to set the state of all random number generators\n",
    "    cudnn_benchmark_enabled: bool = True  # enable CuDNN benchmark for the sake of performance\n",
    "    cudnn_deterministic: bool = True  # make cudnn deterministic (reproducible training)"
   ]
  },
  {
   "cell_type": "markdown",
   "id": "269ceb8f",
   "metadata": {},
   "source": [
    "**Аналогичный класс-обертка для существенных параметров процесса обучения:**\n"
   ]
  },
  {
   "cell_type": "code",
   "execution_count": 38,
   "id": "d59e0797",
   "metadata": {},
   "outputs": [],
   "source": [
    "@dataclass\n",
    "class TrainingConfiguration:\n",
    "    '''\n",
    "    Describes configuration of the training process\n",
    "    '''\n",
    "    batch_size: int = 16  # amount of data to pass through the network at each forward-backward iteration\n",
    "    epochs_count: int = 10  # number of times the whole dataset will be passed through the network\n",
    "    learning_rate: float = 0.001  # determines the speed of network's weights update\n",
    "    log_interval: int = 100  # how many batches to wait between logging training status\n",
    "    test_interval: int = 1  # how many epochs to wait before another test. Set to 1 to get val loss at each epoch\n",
    "    data_root: str = \"data\"  # folder to save MNIST data (default: data)\n",
    "    num_workers: int = 8  # number of concurrent processes used to prepare data\n",
    "    device: str = \"cuda\"  # device to use for training."
   ]
  },
  {
   "cell_type": "code",
   "execution_count": 39,
   "id": "76f4785f",
   "metadata": {},
   "outputs": [],
   "source": [
    "# Инструмент-1: функция расчета формулы свертки\n",
    "\n",
    "def conv_calc(data, c_out, k, p, d, s):\n",
    "    \n",
    "    '''\n",
    "    Calculate shape for a tensor of dimension (C, H, W)\n",
    "    forwarded through the conv layer with following paramters:\n",
    "    k - kernel size [int, int]\n",
    "    p - padding [int, int]\n",
    "    d - dilation [int, int]\n",
    "    s - stride [int, int]\n",
    "    '''\n",
    "    h_out = ((data[1] + 2 * p - d[0] * (k[0] - 1) - 1) / s[0]) + 1\n",
    "    w_out = ((data[2] + 2 * p - d[1] * (k[1] - 1) - 1) / s[1]) + 1\n",
    "    \n",
    "    return (c_out, int(h_out), int(w_out))"
   ]
  },
  {
   "cell_type": "code",
   "execution_count": 40,
   "id": "a5187ed2",
   "metadata": {},
   "outputs": [
    {
     "data": {
      "text/plain": [
       "(3, 8, 8)"
      ]
     },
     "execution_count": 40,
     "metadata": {},
     "output_type": "execute_result"
    }
   ],
   "source": [
    "in_dim = (3, 8, 8) # размерность входного тензора\n",
    "in_dim"
   ]
  },
  {
   "cell_type": "code",
   "execution_count": 41,
   "id": "1c622611",
   "metadata": {},
   "outputs": [
    {
     "data": {
      "text/plain": [
       "(12, 6, 6)"
      ]
     },
     "execution_count": 41,
     "metadata": {},
     "output_type": "execute_result"
    }
   ],
   "source": [
    "c_out = 12 # set to 6, in_dim[0] == in channels\n",
    "k = (3,3) # set \"standard\" kernel size of 3x3\n",
    "p = 0 # pytorch default\n",
    "d = (1,1) # pytorch default\n",
    "s = (1,1) # pytorch default\n",
    "\n",
    "out = conv_calc(in_dim, c_out, k, p, d, s)\n",
    "out"
   ]
  },
  {
   "cell_type": "code",
   "execution_count": 42,
   "id": "25a384fe",
   "metadata": {},
   "outputs": [
    {
     "data": {
      "text/plain": [
       "['AdaptiveAvgPool1d',\n",
       " 'AdaptiveAvgPool2d',\n",
       " 'AdaptiveAvgPool3d',\n",
       " 'AdaptiveLogSoftmaxWithLoss',\n",
       " 'AdaptiveMaxPool1d',\n",
       " 'AdaptiveMaxPool2d',\n",
       " 'AdaptiveMaxPool3d',\n",
       " 'AlphaDropout',\n",
       " 'AvgPool1d',\n",
       " 'AvgPool2d',\n",
       " 'AvgPool3d',\n",
       " 'BCELoss',\n",
       " 'BCEWithLogitsLoss',\n",
       " 'BatchNorm1d',\n",
       " 'BatchNorm2d',\n",
       " 'BatchNorm3d',\n",
       " 'Bilinear',\n",
       " 'CELU',\n",
       " 'CTCLoss',\n",
       " 'ChannelShuffle',\n",
       " 'ConstantPad1d',\n",
       " 'ConstantPad2d',\n",
       " 'ConstantPad3d',\n",
       " 'Container',\n",
       " 'Conv1d',\n",
       " 'Conv2d',\n",
       " 'Conv3d',\n",
       " 'ConvTranspose1d',\n",
       " 'ConvTranspose2d',\n",
       " 'ConvTranspose3d',\n",
       " 'CosineEmbeddingLoss',\n",
       " 'CosineSimilarity',\n",
       " 'CrossEntropyLoss',\n",
       " 'CrossMapLRN2d',\n",
       " 'DataParallel',\n",
       " 'Dropout',\n",
       " 'Dropout1d',\n",
       " 'Dropout2d',\n",
       " 'Dropout3d',\n",
       " 'ELU',\n",
       " 'Embedding',\n",
       " 'EmbeddingBag',\n",
       " 'FeatureAlphaDropout',\n",
       " 'Flatten',\n",
       " 'Fold',\n",
       " 'FractionalMaxPool2d',\n",
       " 'FractionalMaxPool3d',\n",
       " 'GELU',\n",
       " 'GLU',\n",
       " 'GRU',\n",
       " 'GRUCell',\n",
       " 'GaussianNLLLoss',\n",
       " 'GroupNorm',\n",
       " 'Hardshrink',\n",
       " 'Hardsigmoid',\n",
       " 'Hardswish',\n",
       " 'Hardtanh',\n",
       " 'HingeEmbeddingLoss',\n",
       " 'HuberLoss',\n",
       " 'Identity',\n",
       " 'InstanceNorm1d',\n",
       " 'InstanceNorm2d',\n",
       " 'InstanceNorm3d',\n",
       " 'KLDivLoss',\n",
       " 'L1Loss',\n",
       " 'LPPool1d',\n",
       " 'LPPool2d',\n",
       " 'LSTM',\n",
       " 'LSTMCell',\n",
       " 'LayerNorm',\n",
       " 'LazyBatchNorm1d',\n",
       " 'LazyBatchNorm2d',\n",
       " 'LazyBatchNorm3d',\n",
       " 'LazyConv1d',\n",
       " 'LazyConv2d',\n",
       " 'LazyConv3d',\n",
       " 'LazyConvTranspose1d',\n",
       " 'LazyConvTranspose2d',\n",
       " 'LazyConvTranspose3d',\n",
       " 'LazyInstanceNorm1d',\n",
       " 'LazyInstanceNorm2d',\n",
       " 'LazyInstanceNorm3d',\n",
       " 'LazyLinear',\n",
       " 'LeakyReLU',\n",
       " 'Linear',\n",
       " 'LocalResponseNorm',\n",
       " 'LogSigmoid',\n",
       " 'LogSoftmax',\n",
       " 'MSELoss',\n",
       " 'MarginRankingLoss',\n",
       " 'MaxPool1d',\n",
       " 'MaxPool2d',\n",
       " 'MaxPool3d',\n",
       " 'MaxUnpool1d',\n",
       " 'MaxUnpool2d',\n",
       " 'MaxUnpool3d',\n",
       " 'Mish',\n",
       " 'Module',\n",
       " 'ModuleDict',\n",
       " 'ModuleList',\n",
       " 'MultiLabelMarginLoss',\n",
       " 'MultiLabelSoftMarginLoss',\n",
       " 'MultiMarginLoss',\n",
       " 'MultiheadAttention',\n",
       " 'NLLLoss',\n",
       " 'NLLLoss2d',\n",
       " 'PReLU',\n",
       " 'PairwiseDistance',\n",
       " 'Parameter',\n",
       " 'ParameterDict',\n",
       " 'ParameterList',\n",
       " 'PixelShuffle',\n",
       " 'PixelUnshuffle',\n",
       " 'PoissonNLLLoss',\n",
       " 'RNN',\n",
       " 'RNNBase',\n",
       " 'RNNCell',\n",
       " 'RNNCellBase',\n",
       " 'RReLU',\n",
       " 'ReLU',\n",
       " 'ReLU6',\n",
       " 'ReflectionPad1d',\n",
       " 'ReflectionPad2d',\n",
       " 'ReflectionPad3d',\n",
       " 'ReplicationPad1d',\n",
       " 'ReplicationPad2d',\n",
       " 'ReplicationPad3d',\n",
       " 'SELU',\n",
       " 'Sequential',\n",
       " 'SiLU',\n",
       " 'Sigmoid',\n",
       " 'SmoothL1Loss',\n",
       " 'SoftMarginLoss',\n",
       " 'Softmax',\n",
       " 'Softmax2d',\n",
       " 'Softmin',\n",
       " 'Softplus',\n",
       " 'Softshrink',\n",
       " 'Softsign',\n",
       " 'SyncBatchNorm',\n",
       " 'Tanh',\n",
       " 'Tanhshrink',\n",
       " 'Threshold',\n",
       " 'Transformer',\n",
       " 'TransformerDecoder',\n",
       " 'TransformerDecoderLayer',\n",
       " 'TransformerEncoder',\n",
       " 'TransformerEncoderLayer',\n",
       " 'TripletMarginLoss',\n",
       " 'TripletMarginWithDistanceLoss',\n",
       " 'Unflatten',\n",
       " 'Unfold',\n",
       " 'UninitializedBuffer',\n",
       " 'UninitializedParameter',\n",
       " 'Upsample',\n",
       " 'UpsamplingBilinear2d',\n",
       " 'UpsamplingNearest2d',\n",
       " 'ZeroPad2d',\n",
       " '__builtins__',\n",
       " '__cached__',\n",
       " '__doc__',\n",
       " '__file__',\n",
       " '__loader__',\n",
       " '__name__',\n",
       " '__package__',\n",
       " '__path__',\n",
       " '__spec__',\n",
       " '_reduction',\n",
       " 'common_types',\n",
       " 'factory_kwargs',\n",
       " 'functional',\n",
       " 'grad',\n",
       " 'init',\n",
       " 'intrinsic',\n",
       " 'modules',\n",
       " 'parallel',\n",
       " 'parameter',\n",
       " 'qat',\n",
       " 'quantizable',\n",
       " 'quantized',\n",
       " 'utils']"
      ]
     },
     "execution_count": 42,
     "metadata": {},
     "output_type": "execute_result"
    }
   ],
   "source": [
    "dir(nn)"
   ]
  },
  {
   "cell_type": "code",
   "execution_count": 43,
   "id": "1b631caf",
   "metadata": {},
   "outputs": [],
   "source": [
    "# Простейшая архитектура CNN с одним сверточным блоком как baseline\n",
    "class CNN(nn.Module):\n",
    "    def __init__(self):\n",
    "        super().__init__() # наследование метода суперкласса (родительского класса)\n",
    "        # Sequential слой - контейнер для цепи преобразующих слоев\n",
    "        \n",
    "        # backbone (body)\n",
    "        self._body = nn.Sequential(\n",
    "            # conv layer-1: input size = (32, 32), output size = (32, 32)\n",
    "            nn.Conv2d(in_channels=3, out_channels=6, kernel_size=5),\n",
    "            nn.BatchNorm2d(6),\n",
    "            nn.LeakyReLU(inplace=True),\n",
    "            nn.MaxPool2d(kernel_size=2, stride=2), # output size = (16, 16),\n",
    "              \n",
    "            # conv layer-2: input size = (16,16), output size = (16, 16)\n",
    "            nn.Conv2d(in_channels=6, out_channels=16, kernel_size=5),\n",
    "            nn.BatchNorm2d(16),\n",
    "            nn.LeakyReLU(inplace=True),\n",
    "            nn.MaxPool2d(kernel_size=2, stride=2), # output size = (8, 8),\n",
    "\n",
    "#             # conv layer-3: input size = (8,8), output size = (6, 6)\n",
    "#             nn.Conv2d(in_channels=16, out_channels=32, kernel_size=3),\n",
    "#             nn.BatchNorm2d(32),\n",
    "#             nn.LeakyReLU(inplace=True),\n",
    "#             nn.MaxPool2d(kernel_size=2, stride=2), # output size = (3, 3),\n",
    "        )\n",
    "        \n",
    "        # head\n",
    "        self._head = nn.Sequential(\n",
    "            # in_features = total number of weight in last conv layer = 32 * 3 * 3\n",
    "            nn.Linear(in_features=16*5*5, out_features=120), \n",
    "            nn.LeakyReLU(inplace=True),\n",
    "            \n",
    "            # in_features = output of last linear layer = 128 \n",
    "            nn.Linear(in_features=120, out_features=84), \n",
    "            nn.LeakyReLU(inplace=True),\n",
    "            \n",
    "            # in_features = output of last linear layer = 64\n",
    "            # and out_features = number of classes = 10 (CIFAR10)\n",
    "            nn.Linear(in_features=84, out_features=10)\n",
    "        )\n",
    "\n",
    "    def forward(self, x):\n",
    "        x = self._body(x)\n",
    "        # flatten the output of conv layers\n",
    "        # dimension should be batch_size * number_of weights_in_last conv_layer\n",
    "        x = x.view(x.size()[0], -1)\n",
    "        x = self._head(x)\n",
    "        return x"
   ]
  },
  {
   "cell_type": "markdown",
   "id": "da88d86f",
   "metadata": {},
   "source": [
    "**Нормализация данных**"
   ]
  },
  {
   "cell_type": "code",
   "execution_count": 44,
   "id": "678faae7",
   "metadata": {},
   "outputs": [],
   "source": [
    "# Инструмент-3: функция вычисления среднего и станадртного отклонения для 1-канального и 3-канального изображений\n",
    "def get_mean_std_train_data(data_root):\n",
    "    train_set = datasets.CIFAR10(root=data_root, train=True, download=True)\n",
    "\n",
    "    r_mean = train_set.data[...,0].mean()/255 # каналы в последнем измерении\n",
    "    r_std = train_set.data[...,0].std()/255\n",
    "    g_mean = train_set.data[...,1].mean()/255\n",
    "    g_std = train_set.data[...,1].std()/255\n",
    "    b_mean = train_set.data[...,2].mean()/255\n",
    "    b_std = train_set.data[...,2].std()/255\n",
    "\n",
    "    mean = (r_mean, g_mean, b_mean)\n",
    "    std = (r_std, g_std, b_std)\n",
    "    \n",
    "    return mean, std"
   ]
  },
  {
   "cell_type": "markdown",
   "id": "cf510a96",
   "metadata": {},
   "source": [
    "**Функция для загрузки и подготовки данных:**\n",
    "- Набор трансформаций (использует pytorch-класс transforms): изменяем размер всех загружаемых изображений, переводим в тензорный вид и нормализуем по известным (предоставленым в описании дататсета среднему значению и стандартному отклонению, в данном случае - MNIST).\n",
    "- Загрузчик обучающей выборки (использует общий pytorch-класс загрузчика torch.utils.data.DataLoader): определяется размер батча, обязательно перемешивание элементов, число потоков процессора для загрузки данных\n",
    "- Загрузчик проверочной выборки (также использует общий pytorch-класс загрузчика): также размер батча, перемешивание отсутствует, число потоков процессора\n",
    "\n",
    "Значения аргументов будут определены позже."
   ]
  },
  {
   "cell_type": "code",
   "execution_count": 45,
   "id": "147f1712",
   "metadata": {},
   "outputs": [],
   "source": [
    "def get_data(batch_size=TrainingConfiguration.batch_size,\n",
    "             data_root=TrainingConfiguration.data_root,\n",
    "             num_workers=TrainingConfiguration.num_workers):\n",
    "    \n",
    "    train_test_transforms = T.Compose([\n",
    "        T.Resize((32, 32)), # Resize initial 28x28 size to 32X32\n",
    "        T.ToTensor(), # re-scales image values [0-255] to tensor values [0-1]\n",
    "        T.Normalize(*get_mean_std_train_data(data_root))  # subtract mean, divide by variance по функции выше\n",
    "    ])\n",
    "    \n",
    "    # train dataloader\n",
    "    train_loader = DL(\n",
    "        datasets.CIFAR10(root=data_root, train=True, download=True,\n",
    "                         transform=train_test_transforms),\n",
    "        batch_size=batch_size,\n",
    "        shuffle=True,\n",
    "        num_workers=num_workers\n",
    "    )\n",
    "    \n",
    "    # test dataloader\n",
    "    test_loader = DL(\n",
    "        datasets.CIFAR10(root=data_root, train=False, download=True, transform=train_test_transforms),\n",
    "        batch_size=batch_size,\n",
    "        shuffle=False,\n",
    "        num_workers=num_workers\n",
    "    )\n",
    "    return train_loader, test_loader"
   ]
  },
  {
   "cell_type": "markdown",
   "id": "82b780b6",
   "metadata": {},
   "source": [
    "**Визуализация датасета**"
   ]
  },
  {
   "cell_type": "code",
   "execution_count": 46,
   "id": "a3ca4690",
   "metadata": {
    "scrolled": true
   },
   "outputs": [
    {
     "name": "stdout",
     "output_type": "stream",
     "text": [
      "Files already downloaded and verified\n"
     ]
    }
   ],
   "source": [
    "trans = T.ToTensor()\n",
    "visual_loader = DL(\n",
    "    datasets.CIFAR10(root=TrainingConfiguration.data_root, train=True,\n",
    "                     download=True, transform=trans),\n",
    "        batch_size=TrainingConfiguration.batch_size,\n",
    "        shuffle=True,\n",
    "        num_workers=TrainingConfiguration.num_workers\n",
    "    )"
   ]
  },
  {
   "cell_type": "code",
   "execution_count": 49,
   "id": "cd0204b6",
   "metadata": {
    "scrolled": true
   },
   "outputs": [
    {
     "ename": "KeyboardInterrupt",
     "evalue": "",
     "output_type": "error",
     "traceback": [
      "\u001b[1;31m---------------------------------------------------------------------------\u001b[0m",
      "\u001b[1;31mKeyboardInterrupt\u001b[0m                         Traceback (most recent call last)",
      "\u001b[1;32m~\\AppData\\Local\\Temp\\ipykernel_20796\\2594758060.py\u001b[0m in \u001b[0;36m<module>\u001b[1;34m\u001b[0m\n\u001b[0;32m      8\u001b[0m     \u001b[0mplt\u001b[0m\u001b[1;33m.\u001b[0m\u001b[0mshow\u001b[0m\u001b[1;33m(\u001b[0m\u001b[1;33m)\u001b[0m\u001b[1;33m\u001b[0m\u001b[1;33m\u001b[0m\u001b[0m\n\u001b[0;32m      9\u001b[0m \u001b[1;33m\u001b[0m\u001b[0m\n\u001b[1;32m---> 10\u001b[1;33m \u001b[0mdataiter\u001b[0m \u001b[1;33m=\u001b[0m \u001b[0miter\u001b[0m\u001b[1;33m(\u001b[0m\u001b[0mvisual_loader\u001b[0m\u001b[1;33m)\u001b[0m \u001b[1;31m# итератор на основе загрузчика\u001b[0m\u001b[1;33m\u001b[0m\u001b[1;33m\u001b[0m\u001b[0m\n\u001b[0m\u001b[0;32m     11\u001b[0m \u001b[0mimages\u001b[0m\u001b[1;33m,\u001b[0m \u001b[0mlabels\u001b[0m \u001b[1;33m=\u001b[0m \u001b[0mnext\u001b[0m\u001b[1;33m(\u001b[0m\u001b[0mdataiter\u001b[0m\u001b[1;33m)\u001b[0m \u001b[1;31m# метод next - вызвать следующий объект итератора\u001b[0m\u001b[1;33m\u001b[0m\u001b[1;33m\u001b[0m\u001b[0m\n\u001b[0;32m     12\u001b[0m \u001b[1;33m\u001b[0m\u001b[0m\n",
      "\u001b[1;32m~\\anaconda3\\lib\\site-packages\\torch\\utils\\data\\dataloader.py\u001b[0m in \u001b[0;36m__iter__\u001b[1;34m(self)\u001b[0m\n\u001b[0;32m    442\u001b[0m             \u001b[1;32mreturn\u001b[0m \u001b[0mself\u001b[0m\u001b[1;33m.\u001b[0m\u001b[0m_iterator\u001b[0m\u001b[1;33m\u001b[0m\u001b[1;33m\u001b[0m\u001b[0m\n\u001b[0;32m    443\u001b[0m         \u001b[1;32melse\u001b[0m\u001b[1;33m:\u001b[0m\u001b[1;33m\u001b[0m\u001b[1;33m\u001b[0m\u001b[0m\n\u001b[1;32m--> 444\u001b[1;33m             \u001b[1;32mreturn\u001b[0m \u001b[0mself\u001b[0m\u001b[1;33m.\u001b[0m\u001b[0m_get_iterator\u001b[0m\u001b[1;33m(\u001b[0m\u001b[1;33m)\u001b[0m\u001b[1;33m\u001b[0m\u001b[1;33m\u001b[0m\u001b[0m\n\u001b[0m\u001b[0;32m    445\u001b[0m \u001b[1;33m\u001b[0m\u001b[0m\n\u001b[0;32m    446\u001b[0m     \u001b[1;33m@\u001b[0m\u001b[0mproperty\u001b[0m\u001b[1;33m\u001b[0m\u001b[1;33m\u001b[0m\u001b[0m\n",
      "\u001b[1;32m~\\anaconda3\\lib\\site-packages\\torch\\utils\\data\\dataloader.py\u001b[0m in \u001b[0;36m_get_iterator\u001b[1;34m(self)\u001b[0m\n\u001b[0;32m    388\u001b[0m         \u001b[1;32melse\u001b[0m\u001b[1;33m:\u001b[0m\u001b[1;33m\u001b[0m\u001b[1;33m\u001b[0m\u001b[0m\n\u001b[0;32m    389\u001b[0m             \u001b[0mself\u001b[0m\u001b[1;33m.\u001b[0m\u001b[0mcheck_worker_number_rationality\u001b[0m\u001b[1;33m(\u001b[0m\u001b[1;33m)\u001b[0m\u001b[1;33m\u001b[0m\u001b[1;33m\u001b[0m\u001b[0m\n\u001b[1;32m--> 390\u001b[1;33m             \u001b[1;32mreturn\u001b[0m \u001b[0m_MultiProcessingDataLoaderIter\u001b[0m\u001b[1;33m(\u001b[0m\u001b[0mself\u001b[0m\u001b[1;33m)\u001b[0m\u001b[1;33m\u001b[0m\u001b[1;33m\u001b[0m\u001b[0m\n\u001b[0m\u001b[0;32m    391\u001b[0m \u001b[1;33m\u001b[0m\u001b[0m\n\u001b[0;32m    392\u001b[0m     \u001b[1;33m@\u001b[0m\u001b[0mproperty\u001b[0m\u001b[1;33m\u001b[0m\u001b[1;33m\u001b[0m\u001b[0m\n",
      "\u001b[1;32m~\\anaconda3\\lib\\site-packages\\torch\\utils\\data\\dataloader.py\u001b[0m in \u001b[0;36m__init__\u001b[1;34m(self, loader)\u001b[0m\n\u001b[0;32m   1075\u001b[0m             \u001b[1;31m#     before it starts, and __del__ tries to join but will get:\u001b[0m\u001b[1;33m\u001b[0m\u001b[1;33m\u001b[0m\u001b[0m\n\u001b[0;32m   1076\u001b[0m             \u001b[1;31m#     AssertionError: can only join a started process.\u001b[0m\u001b[1;33m\u001b[0m\u001b[1;33m\u001b[0m\u001b[0m\n\u001b[1;32m-> 1077\u001b[1;33m             \u001b[0mw\u001b[0m\u001b[1;33m.\u001b[0m\u001b[0mstart\u001b[0m\u001b[1;33m(\u001b[0m\u001b[1;33m)\u001b[0m\u001b[1;33m\u001b[0m\u001b[1;33m\u001b[0m\u001b[0m\n\u001b[0m\u001b[0;32m   1078\u001b[0m             \u001b[0mself\u001b[0m\u001b[1;33m.\u001b[0m\u001b[0m_index_queues\u001b[0m\u001b[1;33m.\u001b[0m\u001b[0mappend\u001b[0m\u001b[1;33m(\u001b[0m\u001b[0mindex_queue\u001b[0m\u001b[1;33m)\u001b[0m\u001b[1;33m\u001b[0m\u001b[1;33m\u001b[0m\u001b[0m\n\u001b[0;32m   1079\u001b[0m             \u001b[0mself\u001b[0m\u001b[1;33m.\u001b[0m\u001b[0m_workers\u001b[0m\u001b[1;33m.\u001b[0m\u001b[0mappend\u001b[0m\u001b[1;33m(\u001b[0m\u001b[0mw\u001b[0m\u001b[1;33m)\u001b[0m\u001b[1;33m\u001b[0m\u001b[1;33m\u001b[0m\u001b[0m\n",
      "\u001b[1;32m~\\anaconda3\\lib\\multiprocessing\\process.py\u001b[0m in \u001b[0;36mstart\u001b[1;34m(self)\u001b[0m\n\u001b[0;32m    119\u001b[0m                \u001b[1;34m'daemonic processes are not allowed to have children'\u001b[0m\u001b[1;33m\u001b[0m\u001b[1;33m\u001b[0m\u001b[0m\n\u001b[0;32m    120\u001b[0m         \u001b[0m_cleanup\u001b[0m\u001b[1;33m(\u001b[0m\u001b[1;33m)\u001b[0m\u001b[1;33m\u001b[0m\u001b[1;33m\u001b[0m\u001b[0m\n\u001b[1;32m--> 121\u001b[1;33m         \u001b[0mself\u001b[0m\u001b[1;33m.\u001b[0m\u001b[0m_popen\u001b[0m \u001b[1;33m=\u001b[0m \u001b[0mself\u001b[0m\u001b[1;33m.\u001b[0m\u001b[0m_Popen\u001b[0m\u001b[1;33m(\u001b[0m\u001b[0mself\u001b[0m\u001b[1;33m)\u001b[0m\u001b[1;33m\u001b[0m\u001b[1;33m\u001b[0m\u001b[0m\n\u001b[0m\u001b[0;32m    122\u001b[0m         \u001b[0mself\u001b[0m\u001b[1;33m.\u001b[0m\u001b[0m_sentinel\u001b[0m \u001b[1;33m=\u001b[0m \u001b[0mself\u001b[0m\u001b[1;33m.\u001b[0m\u001b[0m_popen\u001b[0m\u001b[1;33m.\u001b[0m\u001b[0msentinel\u001b[0m\u001b[1;33m\u001b[0m\u001b[1;33m\u001b[0m\u001b[0m\n\u001b[0;32m    123\u001b[0m         \u001b[1;31m# Avoid a refcycle if the target function holds an indirect\u001b[0m\u001b[1;33m\u001b[0m\u001b[1;33m\u001b[0m\u001b[0m\n",
      "\u001b[1;32m~\\anaconda3\\lib\\multiprocessing\\context.py\u001b[0m in \u001b[0;36m_Popen\u001b[1;34m(process_obj)\u001b[0m\n\u001b[0;32m    222\u001b[0m     \u001b[1;33m@\u001b[0m\u001b[0mstaticmethod\u001b[0m\u001b[1;33m\u001b[0m\u001b[1;33m\u001b[0m\u001b[0m\n\u001b[0;32m    223\u001b[0m     \u001b[1;32mdef\u001b[0m \u001b[0m_Popen\u001b[0m\u001b[1;33m(\u001b[0m\u001b[0mprocess_obj\u001b[0m\u001b[1;33m)\u001b[0m\u001b[1;33m:\u001b[0m\u001b[1;33m\u001b[0m\u001b[1;33m\u001b[0m\u001b[0m\n\u001b[1;32m--> 224\u001b[1;33m         \u001b[1;32mreturn\u001b[0m \u001b[0m_default_context\u001b[0m\u001b[1;33m.\u001b[0m\u001b[0mget_context\u001b[0m\u001b[1;33m(\u001b[0m\u001b[1;33m)\u001b[0m\u001b[1;33m.\u001b[0m\u001b[0mProcess\u001b[0m\u001b[1;33m.\u001b[0m\u001b[0m_Popen\u001b[0m\u001b[1;33m(\u001b[0m\u001b[0mprocess_obj\u001b[0m\u001b[1;33m)\u001b[0m\u001b[1;33m\u001b[0m\u001b[1;33m\u001b[0m\u001b[0m\n\u001b[0m\u001b[0;32m    225\u001b[0m \u001b[1;33m\u001b[0m\u001b[0m\n\u001b[0;32m    226\u001b[0m \u001b[1;32mclass\u001b[0m \u001b[0mDefaultContext\u001b[0m\u001b[1;33m(\u001b[0m\u001b[0mBaseContext\u001b[0m\u001b[1;33m)\u001b[0m\u001b[1;33m:\u001b[0m\u001b[1;33m\u001b[0m\u001b[1;33m\u001b[0m\u001b[0m\n",
      "\u001b[1;32m~\\anaconda3\\lib\\multiprocessing\\context.py\u001b[0m in \u001b[0;36m_Popen\u001b[1;34m(process_obj)\u001b[0m\n\u001b[0;32m    325\u001b[0m         \u001b[1;32mdef\u001b[0m \u001b[0m_Popen\u001b[0m\u001b[1;33m(\u001b[0m\u001b[0mprocess_obj\u001b[0m\u001b[1;33m)\u001b[0m\u001b[1;33m:\u001b[0m\u001b[1;33m\u001b[0m\u001b[1;33m\u001b[0m\u001b[0m\n\u001b[0;32m    326\u001b[0m             \u001b[1;32mfrom\u001b[0m \u001b[1;33m.\u001b[0m\u001b[0mpopen_spawn_win32\u001b[0m \u001b[1;32mimport\u001b[0m \u001b[0mPopen\u001b[0m\u001b[1;33m\u001b[0m\u001b[1;33m\u001b[0m\u001b[0m\n\u001b[1;32m--> 327\u001b[1;33m             \u001b[1;32mreturn\u001b[0m \u001b[0mPopen\u001b[0m\u001b[1;33m(\u001b[0m\u001b[0mprocess_obj\u001b[0m\u001b[1;33m)\u001b[0m\u001b[1;33m\u001b[0m\u001b[1;33m\u001b[0m\u001b[0m\n\u001b[0m\u001b[0;32m    328\u001b[0m \u001b[1;33m\u001b[0m\u001b[0m\n\u001b[0;32m    329\u001b[0m     \u001b[1;32mclass\u001b[0m \u001b[0mSpawnContext\u001b[0m\u001b[1;33m(\u001b[0m\u001b[0mBaseContext\u001b[0m\u001b[1;33m)\u001b[0m\u001b[1;33m:\u001b[0m\u001b[1;33m\u001b[0m\u001b[1;33m\u001b[0m\u001b[0m\n",
      "\u001b[1;32m~\\anaconda3\\lib\\multiprocessing\\popen_spawn_win32.py\u001b[0m in \u001b[0;36m__init__\u001b[1;34m(self, process_obj)\u001b[0m\n\u001b[0;32m     91\u001b[0m             \u001b[1;32mtry\u001b[0m\u001b[1;33m:\u001b[0m\u001b[1;33m\u001b[0m\u001b[1;33m\u001b[0m\u001b[0m\n\u001b[0;32m     92\u001b[0m                 \u001b[0mreduction\u001b[0m\u001b[1;33m.\u001b[0m\u001b[0mdump\u001b[0m\u001b[1;33m(\u001b[0m\u001b[0mprep_data\u001b[0m\u001b[1;33m,\u001b[0m \u001b[0mto_child\u001b[0m\u001b[1;33m)\u001b[0m\u001b[1;33m\u001b[0m\u001b[1;33m\u001b[0m\u001b[0m\n\u001b[1;32m---> 93\u001b[1;33m                 \u001b[0mreduction\u001b[0m\u001b[1;33m.\u001b[0m\u001b[0mdump\u001b[0m\u001b[1;33m(\u001b[0m\u001b[0mprocess_obj\u001b[0m\u001b[1;33m,\u001b[0m \u001b[0mto_child\u001b[0m\u001b[1;33m)\u001b[0m\u001b[1;33m\u001b[0m\u001b[1;33m\u001b[0m\u001b[0m\n\u001b[0m\u001b[0;32m     94\u001b[0m             \u001b[1;32mfinally\u001b[0m\u001b[1;33m:\u001b[0m\u001b[1;33m\u001b[0m\u001b[1;33m\u001b[0m\u001b[0m\n\u001b[0;32m     95\u001b[0m                 \u001b[0mset_spawning_popen\u001b[0m\u001b[1;33m(\u001b[0m\u001b[1;32mNone\u001b[0m\u001b[1;33m)\u001b[0m\u001b[1;33m\u001b[0m\u001b[1;33m\u001b[0m\u001b[0m\n",
      "\u001b[1;32m~\\anaconda3\\lib\\multiprocessing\\reduction.py\u001b[0m in \u001b[0;36mdump\u001b[1;34m(obj, file, protocol)\u001b[0m\n\u001b[0;32m     58\u001b[0m \u001b[1;32mdef\u001b[0m \u001b[0mdump\u001b[0m\u001b[1;33m(\u001b[0m\u001b[0mobj\u001b[0m\u001b[1;33m,\u001b[0m \u001b[0mfile\u001b[0m\u001b[1;33m,\u001b[0m \u001b[0mprotocol\u001b[0m\u001b[1;33m=\u001b[0m\u001b[1;32mNone\u001b[0m\u001b[1;33m)\u001b[0m\u001b[1;33m:\u001b[0m\u001b[1;33m\u001b[0m\u001b[1;33m\u001b[0m\u001b[0m\n\u001b[0;32m     59\u001b[0m     \u001b[1;34m'''Replacement for pickle.dump() using ForkingPickler.'''\u001b[0m\u001b[1;33m\u001b[0m\u001b[1;33m\u001b[0m\u001b[0m\n\u001b[1;32m---> 60\u001b[1;33m     \u001b[0mForkingPickler\u001b[0m\u001b[1;33m(\u001b[0m\u001b[0mfile\u001b[0m\u001b[1;33m,\u001b[0m \u001b[0mprotocol\u001b[0m\u001b[1;33m)\u001b[0m\u001b[1;33m.\u001b[0m\u001b[0mdump\u001b[0m\u001b[1;33m(\u001b[0m\u001b[0mobj\u001b[0m\u001b[1;33m)\u001b[0m\u001b[1;33m\u001b[0m\u001b[1;33m\u001b[0m\u001b[0m\n\u001b[0m\u001b[0;32m     61\u001b[0m \u001b[1;33m\u001b[0m\u001b[0m\n\u001b[0;32m     62\u001b[0m \u001b[1;31m#\u001b[0m\u001b[1;33m\u001b[0m\u001b[1;33m\u001b[0m\u001b[0m\n",
      "\u001b[1;32m~\\anaconda3\\lib\\site-packages\\numpy\\core\\__init__.py\u001b[0m in \u001b[0;36m_DType_reduce\u001b[1;34m(DType)\u001b[0m\n\u001b[0;32m    146\u001b[0m     \u001b[1;31m# To pickle a DType without having to add top-level names, pickle the\u001b[0m\u001b[1;33m\u001b[0m\u001b[1;33m\u001b[0m\u001b[0m\n\u001b[0;32m    147\u001b[0m     \u001b[1;31m# scalar type for now (and assume that reconstruction will be possible).\u001b[0m\u001b[1;33m\u001b[0m\u001b[1;33m\u001b[0m\u001b[0m\n\u001b[1;32m--> 148\u001b[1;33m     \u001b[1;32mif\u001b[0m \u001b[0mDType\u001b[0m \u001b[1;32mis\u001b[0m \u001b[0mdtype\u001b[0m\u001b[1;33m:\u001b[0m\u001b[1;33m\u001b[0m\u001b[1;33m\u001b[0m\u001b[0m\n\u001b[0m\u001b[0;32m    149\u001b[0m         \u001b[1;32mreturn\u001b[0m \u001b[1;34m\"dtype\"\u001b[0m  \u001b[1;31m# must pickle `np.dtype` as a singleton.\u001b[0m\u001b[1;33m\u001b[0m\u001b[1;33m\u001b[0m\u001b[0m\n\u001b[0;32m    150\u001b[0m     \u001b[0mscalar_type\u001b[0m \u001b[1;33m=\u001b[0m \u001b[0mDType\u001b[0m\u001b[1;33m.\u001b[0m\u001b[0mtype\u001b[0m  \u001b[1;31m# pickle the scalar type for reconstruction\u001b[0m\u001b[1;33m\u001b[0m\u001b[1;33m\u001b[0m\u001b[0m\n",
      "\u001b[1;31mKeyboardInterrupt\u001b[0m: "
     ]
    }
   ],
   "source": [
    "# Инструмент-2: функция визуализации данных\n",
    "classes = ['airplane', 'automobile', 'bird', 'cat', 'deer', 'dog', 'frog', 'horse', 'ship', 'truck']\n",
    "\n",
    "def imshow(img):\n",
    "    img = img / 2 + 0.5 # денормализуем\n",
    "    npimg = img.numpy() # перевод в массив numpy\n",
    "    plt.imshow(np.transpose(npimg, (1, 2, 0))) # замена местами размерностей: C,H,W --> H,W,C (matplotlib ожидает именно так) \n",
    "    plt.show()\n",
    "\n",
    "dataiter = iter(visual_loader) # итератор на основе загрузчика\n",
    "images, labels = next(dataiter) # метод next - вызвать следующий объект итератора\n",
    "\n",
    "imshow(make_grid(images))\n",
    "print(' '.join(f'{classes[labels[j]]:5s}' for j in range(TrainingConfiguration.batch_size))) # bs = batch size (см выше)"
   ]
  },
  {
   "cell_type": "markdown",
   "id": "c6007e22",
   "metadata": {},
   "source": [
    "**Класс-обертка для существенных параметров окружения и их значений:**"
   ]
  },
  {
   "cell_type": "markdown",
   "id": "c8150d55",
   "metadata": {},
   "source": [
    "Функция для для доступа и изменения параметров окружения:"
   ]
  },
  {
   "cell_type": "code",
   "execution_count": 50,
   "id": "0633d324",
   "metadata": {},
   "outputs": [],
   "source": [
    "def setup_system(system_config: SystemConfiguration) -> None:\n",
    "    torch.manual_seed(system_config.seed)\n",
    "    if torch.cuda.is_available():\n",
    "        torch.backends.cudnn_benchmark_enabled = system_config.cudnn_benchmark_enabled\n",
    "        torch.backends.cudnn.deterministic = system_config.cudnn_deterministic"
   ]
  },
  {
   "cell_type": "markdown",
   "id": "fd4ffbd1",
   "metadata": {},
   "source": [
    "Функция определяющая ход обучения, принимает аргуемнтами:\n",
    "- имя класса-обертки с параметрами процесса обучения\n",
    "- имена компонентов алгоритма обучения (загрузчики, комопненты сети, оптимизатор...)\n",
    "- аргумент числа эпох (int)"
   ]
  },
  {
   "cell_type": "code",
   "execution_count": 51,
   "id": "a9f06274",
   "metadata": {},
   "outputs": [],
   "source": [
    "def train(\n",
    "    train_config: TrainingConfiguration, model: nn.Module, optimizer: O.Optimizer,\n",
    "    train_loader: DL, epoch_idx: int\n",
    ") -> None:\n",
    "    \n",
    "    model.train() # model in training mode\n",
    "    batch_loss = np.array([])\n",
    "    batch_acc = np.array([])\n",
    "        \n",
    "    for batch_idx, (data, target) in enumerate(train_loader):\n",
    "        \n",
    "        indx_target = target.clone() # clone target\n",
    "        data = data.to(train_config.device)  # send data to device\n",
    "        target = target.to(train_config.device) # send target to device\n",
    " \n",
    "        optimizer.zero_grad() # reset parameters gradient to zero\n",
    "        output = model(data) # forward pass to the model\n",
    "        loss = F.cross_entropy(output, target) # cross entropy loss\n",
    "        \n",
    "        loss.backward() # find gradients w.r.t training parameters\n",
    "        optimizer.step() # Update parameters using gradients\n",
    "        \n",
    "        batch_loss = np.append(batch_loss, [loss.item()]) # accumulate the loss on each batch\n",
    "        \n",
    "        prob = F.softmax(output, dim=1) # get probability score using soft\n",
    "        pred = prob.data.max(dim=1)[1]  # get the index of the max probability\n",
    "                        \n",
    "        correct = pred.cpu().eq(indx_target).sum() # correct prediction\n",
    "        acc = float(correct) / float(len(data)) # accuracy\n",
    "        batch_acc = np.append(batch_acc, [acc]) # # accumalate the accuracy on the current batch\n",
    "\n",
    "        if batch_idx % train_config.log_interval == 0 and batch_idx > 0:              \n",
    "            print(\n",
    "                'Train Epoch: {} [{}/{}] Loss: {:.6f} Acc: {:.4f}'.format(\n",
    "                    epoch_idx, batch_idx * len(data), len(train_loader.dataset), loss.item(), acc\n",
    "                )\n",
    "            )\n",
    "            \n",
    "    epoch_loss = batch_loss.mean()\n",
    "    epoch_acc = batch_acc.mean()\n",
    "    return epoch_loss, epoch_acc"
   ]
  },
  {
   "cell_type": "markdown",
   "id": "ea1d437b",
   "metadata": {},
   "source": [
    "Аналогичная функция, определяющая процедуру проверки:"
   ]
  },
  {
   "cell_type": "code",
   "execution_count": 52,
   "id": "4a795bf4",
   "metadata": {},
   "outputs": [],
   "source": [
    "def validate(\n",
    "    train_config: TrainingConfiguration,\n",
    "    model: nn.Module,\n",
    "    test_loader: DL,\n",
    ") -> float:\n",
    "\n",
    "    model.eval()\n",
    "    test_loss = 0\n",
    "    count_corect_predictions = 0\n",
    "    \n",
    "    with torch.no_grad():\n",
    "        for data, target in test_loader:\n",
    "            \n",
    "            indx_target = target.clone()\n",
    "            data = data.to(train_config.device)\n",
    "            target = target.to(train_config.device)\n",
    "            \n",
    "            output = model(data) \n",
    "            \n",
    "            test_loss += F.cross_entropy(output, target).item() # add loss for each batch\n",
    "            prob = F.softmax(output, dim=1) # get probs with softmax\n",
    "            pred = prob.data.max(dim=1)[1] # get the index of the max prob\n",
    "            count_corect_predictions += pred.cpu().eq(indx_target).sum() # add correct prediction count\n",
    "\n",
    "        test_loss = test_loss / len(test_loader) # average over number of batches \n",
    "        accuracy = 100. * count_corect_predictions / len(test_loader.dataset) # average over number of dataset\n",
    "\n",
    "        print(\n",
    "            '\\nTest set: Average loss: {:.4f}, Accuracy: {}/{} ({:.0f}%)\\n'.format(\n",
    "                test_loss, count_corect_predictions, len(test_loader.dataset), accuracy\n",
    "            )\n",
    "        )\n",
    "    return test_loss, accuracy/100.0"
   ]
  },
  {
   "cell_type": "markdown",
   "id": "026ae6a4",
   "metadata": {},
   "source": [
    "### Основной цикл обучения (main loop)\n",
    "\n",
    "- Устанавлениваем параметры окружения (CPU/GPU, число потоков процессора и т.д.)\n",
    "- Загружаем данные при помощи Загрузчиков\n",
    "- Созадаем экземпляр модели LeNet по ваыше описанному классу\n",
    "- Указываем какой оптимизатор использовать\n",
    "- Устанавливаем периоды отслеживания loss и accuracy"
   ]
  },
  {
   "cell_type": "code",
   "execution_count": 53,
   "id": "b26c3c2e",
   "metadata": {},
   "outputs": [],
   "source": [
    "def main(\n",
    "    model, \n",
    "    system_configuration=SystemConfiguration(), \n",
    "    training_configuration=TrainingConfiguration()\n",
    "):\n",
    "    setup_system(system_configuration) # system configuration as setted above\n",
    "\n",
    "    # training configuration set the parameters:\n",
    "    batch_size_to_set = training_configuration.batch_size # batch size\n",
    "    num_workers_to_set = training_configuration.num_workers # num_workers\n",
    "    epoch_num_to_set = training_configuration.epochs_count # epochs\n",
    "\n",
    "    # if GPU is available use training config, else lower batch_size, num_workers, epochs\n",
    "    if torch.cuda.is_available():\n",
    "        device = \"cuda\"\n",
    "    else:\n",
    "        device = \"cpu\"\n",
    "#         batch_size_to_set = 16\n",
    "#         num_workers_to_set = 2\n",
    "#         epoch_num_to_set = 10\n",
    "\n",
    "    # data loader\n",
    "    train_loader, test_loader = get_data(\n",
    "        batch_size=batch_size_to_set,\n",
    "        data_root=training_configuration.data_root,\n",
    "        num_workers=num_workers_to_set\n",
    "    )\n",
    "    \n",
    "    # Update training configuration\n",
    "    training_configuration = TrainingConfiguration(\n",
    "        device=device,\n",
    "        epochs_count=epoch_num_to_set,\n",
    "        batch_size=batch_size_to_set,\n",
    "        num_workers=num_workers_to_set\n",
    "    )\n",
    "        \n",
    "    # send model to device (GPU/CPU)\n",
    "    model.to(training_configuration.device)\n",
    "\n",
    "    # optimizer\n",
    "    optimizer = O.Adam(\n",
    "        model.parameters(),\n",
    "        lr=training_configuration.learning_rate\n",
    "    )\n",
    "\n",
    "    best_loss = torch.tensor(np.inf) # infinity\n",
    "    \n",
    "    # arrays for storing the values per epoch\n",
    "    epoch_train_loss = np.array([])\n",
    "    epoch_test_loss = np.array([])\n",
    "    epoch_train_acc = np.array([])\n",
    "    epoch_test_acc = np.array([])\n",
    "   \n",
    "    t_begin = time.time()  # trainig time measurement\n",
    "    for epoch in range(training_configuration.epochs_count):\n",
    "        \n",
    "        train_loss, train_acc = train(training_configuration, model, optimizer, train_loader, epoch)\n",
    "        epoch_train_loss = np.append(epoch_train_loss, [train_loss])\n",
    "        epoch_train_acc = np.append(epoch_train_acc, [train_acc])\n",
    "\n",
    "        elapsed_time = time.time() - t_begin\n",
    "        speed_epoch = elapsed_time / (epoch + 1)\n",
    "        speed_batch = speed_epoch / len(train_loader)\n",
    "        eta = speed_epoch * training_configuration.epochs_count - elapsed_time\n",
    "        \n",
    "        print(\n",
    "            \"Elapsed {:.2f}s, {:.2f} s/epoch, {:.2f} s/batch, ets {:.2f}s\".format(\n",
    "                elapsed_time, speed_epoch, speed_batch, eta\n",
    "            )\n",
    "        )\n",
    "\n",
    "        if epoch % training_configuration.test_interval == 0:\n",
    "            \n",
    "            current_loss, current_accuracy = validate(training_configuration, model, test_loader)\n",
    "            epoch_test_loss = np.append(epoch_test_loss, [current_loss])\n",
    "            epoch_test_acc = np.append(epoch_test_acc, [current_accuracy])\n",
    "            \n",
    "            if current_loss < best_loss:\n",
    "                best_loss = current_loss\n",
    "                \n",
    "    print(\"Total time: {:.2f}, Best Loss: {:.3f}\".format(time.time() - t_begin, best_loss))\n",
    "    \n",
    "    return model, epoch_train_loss, epoch_train_acc, epoch_test_loss, epoch_test_acc"
   ]
  },
  {
   "cell_type": "markdown",
   "id": "b1c31d2e",
   "metadata": {},
   "source": [
    "### Запуск main loop"
   ]
  },
  {
   "cell_type": "code",
   "execution_count": 54,
   "id": "6467a263",
   "metadata": {},
   "outputs": [
    {
     "name": "stdout",
     "output_type": "stream",
     "text": [
      "Files already downloaded and verified\n",
      "Files already downloaded and verified\n",
      "Files already downloaded and verified\n",
      "Train Epoch: 0 [1600/50000] Loss: 2.120694 Acc: 0.1875\n",
      "Train Epoch: 0 [3200/50000] Loss: 1.621562 Acc: 0.5000\n",
      "Train Epoch: 0 [4800/50000] Loss: 1.586351 Acc: 0.4375\n",
      "Train Epoch: 0 [6400/50000] Loss: 1.360912 Acc: 0.3750\n",
      "Train Epoch: 0 [8000/50000] Loss: 2.069651 Acc: 0.1250\n",
      "Train Epoch: 0 [9600/50000] Loss: 1.564322 Acc: 0.4375\n",
      "Train Epoch: 0 [11200/50000] Loss: 1.681217 Acc: 0.3750\n",
      "Train Epoch: 0 [12800/50000] Loss: 1.573342 Acc: 0.3750\n",
      "Train Epoch: 0 [14400/50000] Loss: 1.936904 Acc: 0.2500\n",
      "Train Epoch: 0 [16000/50000] Loss: 1.278155 Acc: 0.6250\n",
      "Train Epoch: 0 [17600/50000] Loss: 1.705123 Acc: 0.4375\n",
      "Train Epoch: 0 [19200/50000] Loss: 1.669419 Acc: 0.4375\n",
      "Train Epoch: 0 [20800/50000] Loss: 1.203783 Acc: 0.5625\n",
      "Train Epoch: 0 [22400/50000] Loss: 1.401122 Acc: 0.4375\n",
      "Train Epoch: 0 [24000/50000] Loss: 1.585704 Acc: 0.3750\n",
      "Train Epoch: 0 [25600/50000] Loss: 1.282107 Acc: 0.5000\n",
      "Train Epoch: 0 [27200/50000] Loss: 1.436929 Acc: 0.5625\n",
      "Train Epoch: 0 [28800/50000] Loss: 1.285401 Acc: 0.4375\n",
      "Train Epoch: 0 [30400/50000] Loss: 1.290735 Acc: 0.5625\n",
      "Train Epoch: 0 [32000/50000] Loss: 1.667256 Acc: 0.5625\n",
      "Train Epoch: 0 [33600/50000] Loss: 1.402478 Acc: 0.6875\n",
      "Train Epoch: 0 [35200/50000] Loss: 1.627168 Acc: 0.3125\n",
      "Train Epoch: 0 [36800/50000] Loss: 1.175086 Acc: 0.5625\n",
      "Train Epoch: 0 [38400/50000] Loss: 1.478139 Acc: 0.5625\n",
      "Train Epoch: 0 [40000/50000] Loss: 1.470622 Acc: 0.4375\n",
      "Train Epoch: 0 [41600/50000] Loss: 1.322831 Acc: 0.6250\n",
      "Train Epoch: 0 [43200/50000] Loss: 1.749523 Acc: 0.3750\n",
      "Train Epoch: 0 [44800/50000] Loss: 1.282507 Acc: 0.5625\n",
      "Train Epoch: 0 [46400/50000] Loss: 1.053509 Acc: 0.6875\n",
      "Train Epoch: 0 [48000/50000] Loss: 1.018914 Acc: 0.7500\n",
      "Train Epoch: 0 [49600/50000] Loss: 1.422505 Acc: 0.4375\n",
      "Elapsed 117.23s, 117.23 s/epoch, 0.04 s/batch, ets 1055.03s\n",
      "\n",
      "Test set: Average loss: 1.2531, Accuracy: 5450/10000 (54%)\n",
      "\n",
      "Train Epoch: 1 [1600/50000] Loss: 1.379781 Acc: 0.4375\n",
      "Train Epoch: 1 [3200/50000] Loss: 1.058722 Acc: 0.6875\n",
      "Train Epoch: 1 [4800/50000] Loss: 1.567346 Acc: 0.4375\n",
      "Train Epoch: 1 [6400/50000] Loss: 1.522897 Acc: 0.3750\n",
      "Train Epoch: 1 [8000/50000] Loss: 1.835141 Acc: 0.4375\n",
      "Train Epoch: 1 [9600/50000] Loss: 1.571153 Acc: 0.5000\n",
      "Train Epoch: 1 [11200/50000] Loss: 1.150897 Acc: 0.4375\n",
      "Train Epoch: 1 [12800/50000] Loss: 1.071695 Acc: 0.6250\n",
      "Train Epoch: 1 [14400/50000] Loss: 0.956208 Acc: 0.7500\n",
      "Train Epoch: 1 [16000/50000] Loss: 1.187461 Acc: 0.6250\n",
      "Train Epoch: 1 [17600/50000] Loss: 0.918616 Acc: 0.4375\n",
      "Train Epoch: 1 [19200/50000] Loss: 1.397489 Acc: 0.5625\n",
      "Train Epoch: 1 [20800/50000] Loss: 0.775765 Acc: 0.7500\n",
      "Train Epoch: 1 [22400/50000] Loss: 1.134415 Acc: 0.6875\n",
      "Train Epoch: 1 [24000/50000] Loss: 1.288316 Acc: 0.3750\n",
      "Train Epoch: 1 [25600/50000] Loss: 1.084422 Acc: 0.7500\n",
      "Train Epoch: 1 [27200/50000] Loss: 0.723924 Acc: 0.8125\n",
      "Train Epoch: 1 [28800/50000] Loss: 0.993646 Acc: 0.6875\n",
      "Train Epoch: 1 [30400/50000] Loss: 0.912593 Acc: 0.6875\n",
      "Train Epoch: 1 [32000/50000] Loss: 0.978162 Acc: 0.6875\n",
      "Train Epoch: 1 [33600/50000] Loss: 1.124744 Acc: 0.6250\n",
      "Train Epoch: 1 [35200/50000] Loss: 1.392730 Acc: 0.6250\n",
      "Train Epoch: 1 [36800/50000] Loss: 1.079251 Acc: 0.6250\n",
      "Train Epoch: 1 [38400/50000] Loss: 1.114826 Acc: 0.6250\n",
      "Train Epoch: 1 [40000/50000] Loss: 1.394857 Acc: 0.3750\n",
      "Train Epoch: 1 [41600/50000] Loss: 0.747215 Acc: 0.6250\n",
      "Train Epoch: 1 [43200/50000] Loss: 1.040379 Acc: 0.5625\n",
      "Train Epoch: 1 [44800/50000] Loss: 0.931163 Acc: 0.6875\n",
      "Train Epoch: 1 [46400/50000] Loss: 0.997352 Acc: 0.6250\n",
      "Train Epoch: 1 [48000/50000] Loss: 0.944421 Acc: 0.5625\n",
      "Train Epoch: 1 [49600/50000] Loss: 1.331393 Acc: 0.4375\n",
      "Elapsed 258.44s, 129.22 s/epoch, 0.04 s/batch, ets 1033.75s\n",
      "\n",
      "Test set: Average loss: 1.1441, Accuracy: 5986/10000 (60%)\n",
      "\n",
      "Train Epoch: 2 [1600/50000] Loss: 1.000225 Acc: 0.5625\n",
      "Train Epoch: 2 [3200/50000] Loss: 0.999236 Acc: 0.6875\n",
      "Train Epoch: 2 [4800/50000] Loss: 0.989435 Acc: 0.6875\n",
      "Train Epoch: 2 [6400/50000] Loss: 1.391487 Acc: 0.5625\n",
      "Train Epoch: 2 [8000/50000] Loss: 1.380146 Acc: 0.5000\n",
      "Train Epoch: 2 [9600/50000] Loss: 1.051616 Acc: 0.6875\n",
      "Train Epoch: 2 [11200/50000] Loss: 0.649428 Acc: 0.8125\n",
      "Train Epoch: 2 [12800/50000] Loss: 0.999617 Acc: 0.5625\n",
      "Train Epoch: 2 [14400/50000] Loss: 1.069705 Acc: 0.7500\n",
      "Train Epoch: 2 [16000/50000] Loss: 0.844461 Acc: 0.6875\n",
      "Train Epoch: 2 [17600/50000] Loss: 0.863285 Acc: 0.7500\n",
      "Train Epoch: 2 [19200/50000] Loss: 1.240931 Acc: 0.7500\n",
      "Train Epoch: 2 [20800/50000] Loss: 1.529444 Acc: 0.5000\n",
      "Train Epoch: 2 [22400/50000] Loss: 1.516696 Acc: 0.4375\n",
      "Train Epoch: 2 [24000/50000] Loss: 1.146573 Acc: 0.5000\n",
      "Train Epoch: 2 [25600/50000] Loss: 1.099148 Acc: 0.6250\n",
      "Train Epoch: 2 [27200/50000] Loss: 1.212467 Acc: 0.5000\n",
      "Train Epoch: 2 [28800/50000] Loss: 0.579003 Acc: 0.8125\n",
      "Train Epoch: 2 [30400/50000] Loss: 1.208929 Acc: 0.5000\n",
      "Train Epoch: 2 [32000/50000] Loss: 1.082918 Acc: 0.5625\n",
      "Train Epoch: 2 [33600/50000] Loss: 1.031102 Acc: 0.7500\n",
      "Train Epoch: 2 [35200/50000] Loss: 0.971643 Acc: 0.5625\n",
      "Train Epoch: 2 [36800/50000] Loss: 1.096709 Acc: 0.5000\n",
      "Train Epoch: 2 [38400/50000] Loss: 1.298372 Acc: 0.5000\n",
      "Train Epoch: 2 [40000/50000] Loss: 0.925522 Acc: 0.6250\n",
      "Train Epoch: 2 [41600/50000] Loss: 0.946826 Acc: 0.6250\n",
      "Train Epoch: 2 [43200/50000] Loss: 1.032816 Acc: 0.6875\n",
      "Train Epoch: 2 [44800/50000] Loss: 0.670738 Acc: 0.9375\n",
      "Train Epoch: 2 [46400/50000] Loss: 0.689426 Acc: 0.8125\n",
      "Train Epoch: 2 [48000/50000] Loss: 0.797276 Acc: 0.6875\n",
      "Train Epoch: 2 [49600/50000] Loss: 1.042048 Acc: 0.6250\n",
      "Elapsed 398.24s, 132.75 s/epoch, 0.04 s/batch, ets 929.22s\n",
      "\n",
      "Test set: Average loss: 1.1513, Accuracy: 5922/10000 (59%)\n",
      "\n",
      "Train Epoch: 3 [1600/50000] Loss: 1.563378 Acc: 0.6250\n",
      "Train Epoch: 3 [3200/50000] Loss: 1.538493 Acc: 0.4375\n",
      "Train Epoch: 3 [4800/50000] Loss: 0.906952 Acc: 0.6250\n",
      "Train Epoch: 3 [6400/50000] Loss: 1.060006 Acc: 0.6250\n",
      "Train Epoch: 3 [8000/50000] Loss: 1.365019 Acc: 0.5625\n",
      "Train Epoch: 3 [9600/50000] Loss: 1.046978 Acc: 0.5625\n",
      "Train Epoch: 3 [11200/50000] Loss: 1.357682 Acc: 0.5625\n",
      "Train Epoch: 3 [12800/50000] Loss: 0.982720 Acc: 0.6250\n",
      "Train Epoch: 3 [14400/50000] Loss: 1.377906 Acc: 0.5625\n",
      "Train Epoch: 3 [16000/50000] Loss: 0.568284 Acc: 0.7500\n",
      "Train Epoch: 3 [17600/50000] Loss: 0.747271 Acc: 0.8750\n",
      "Train Epoch: 3 [19200/50000] Loss: 1.503156 Acc: 0.5000\n",
      "Train Epoch: 3 [20800/50000] Loss: 0.439859 Acc: 0.8125\n",
      "Train Epoch: 3 [22400/50000] Loss: 1.200644 Acc: 0.5625\n",
      "Train Epoch: 3 [24000/50000] Loss: 1.113593 Acc: 0.5000\n",
      "Train Epoch: 3 [25600/50000] Loss: 1.339357 Acc: 0.5000\n",
      "Train Epoch: 3 [27200/50000] Loss: 0.938849 Acc: 0.5625\n",
      "Train Epoch: 3 [28800/50000] Loss: 1.030160 Acc: 0.6250\n",
      "Train Epoch: 3 [30400/50000] Loss: 1.071735 Acc: 0.5000\n",
      "Train Epoch: 3 [32000/50000] Loss: 0.933190 Acc: 0.8125\n",
      "Train Epoch: 3 [33600/50000] Loss: 0.819714 Acc: 0.7500\n",
      "Train Epoch: 3 [35200/50000] Loss: 1.061411 Acc: 0.6250\n",
      "Train Epoch: 3 [36800/50000] Loss: 0.949050 Acc: 0.5625\n",
      "Train Epoch: 3 [38400/50000] Loss: 1.378105 Acc: 0.4375\n",
      "Train Epoch: 3 [40000/50000] Loss: 0.890861 Acc: 0.7500\n",
      "Train Epoch: 3 [41600/50000] Loss: 0.796696 Acc: 0.7500\n",
      "Train Epoch: 3 [43200/50000] Loss: 1.506833 Acc: 0.6250\n",
      "Train Epoch: 3 [44800/50000] Loss: 1.248837 Acc: 0.4375\n",
      "Train Epoch: 3 [46400/50000] Loss: 1.030682 Acc: 0.5625\n",
      "Train Epoch: 3 [48000/50000] Loss: 1.106718 Acc: 0.6250\n",
      "Train Epoch: 3 [49600/50000] Loss: 1.256619 Acc: 0.6250\n",
      "Elapsed 538.35s, 134.59 s/epoch, 0.04 s/batch, ets 807.52s\n",
      "\n",
      "Test set: Average loss: 1.0478, Accuracy: 6379/10000 (64%)\n",
      "\n",
      "Train Epoch: 4 [1600/50000] Loss: 1.069131 Acc: 0.6250\n",
      "Train Epoch: 4 [3200/50000] Loss: 1.261045 Acc: 0.6875\n",
      "Train Epoch: 4 [4800/50000] Loss: 1.706798 Acc: 0.3750\n",
      "Train Epoch: 4 [6400/50000] Loss: 0.813571 Acc: 0.7500\n",
      "Train Epoch: 4 [8000/50000] Loss: 0.654432 Acc: 0.8125\n",
      "Train Epoch: 4 [9600/50000] Loss: 0.598626 Acc: 0.8750\n",
      "Train Epoch: 4 [11200/50000] Loss: 1.082483 Acc: 0.5625\n",
      "Train Epoch: 4 [12800/50000] Loss: 0.757463 Acc: 0.6250\n",
      "Train Epoch: 4 [14400/50000] Loss: 0.961073 Acc: 0.6875\n",
      "Train Epoch: 4 [16000/50000] Loss: 0.852528 Acc: 0.6250\n",
      "Train Epoch: 4 [17600/50000] Loss: 1.602585 Acc: 0.5625\n",
      "Train Epoch: 4 [19200/50000] Loss: 1.037474 Acc: 0.5625\n",
      "Train Epoch: 4 [20800/50000] Loss: 0.907820 Acc: 0.7500\n"
     ]
    },
    {
     "name": "stdout",
     "output_type": "stream",
     "text": [
      "Train Epoch: 4 [22400/50000] Loss: 0.711029 Acc: 0.6250\n",
      "Train Epoch: 4 [24000/50000] Loss: 0.799697 Acc: 0.6250\n",
      "Train Epoch: 4 [25600/50000] Loss: 0.974422 Acc: 0.7500\n",
      "Train Epoch: 4 [27200/50000] Loss: 0.840367 Acc: 0.6875\n",
      "Train Epoch: 4 [28800/50000] Loss: 0.869982 Acc: 0.6250\n",
      "Train Epoch: 4 [30400/50000] Loss: 1.476687 Acc: 0.5625\n",
      "Train Epoch: 4 [32000/50000] Loss: 0.448501 Acc: 0.8125\n",
      "Train Epoch: 4 [33600/50000] Loss: 1.322404 Acc: 0.5625\n",
      "Train Epoch: 4 [35200/50000] Loss: 0.799411 Acc: 0.6875\n",
      "Train Epoch: 4 [36800/50000] Loss: 1.126039 Acc: 0.6250\n",
      "Train Epoch: 4 [38400/50000] Loss: 1.137652 Acc: 0.5625\n",
      "Train Epoch: 4 [40000/50000] Loss: 1.413939 Acc: 0.5625\n",
      "Train Epoch: 4 [41600/50000] Loss: 0.923632 Acc: 0.6250\n",
      "Train Epoch: 4 [43200/50000] Loss: 1.308745 Acc: 0.5625\n",
      "Train Epoch: 4 [44800/50000] Loss: 1.041462 Acc: 0.6875\n",
      "Train Epoch: 4 [46400/50000] Loss: 0.617070 Acc: 0.8125\n",
      "Train Epoch: 4 [48000/50000] Loss: 0.739226 Acc: 0.6250\n",
      "Train Epoch: 4 [49600/50000] Loss: 0.665677 Acc: 0.8125\n",
      "Elapsed 678.40s, 135.68 s/epoch, 0.04 s/batch, ets 678.40s\n",
      "\n",
      "Test set: Average loss: 1.0610, Accuracy: 6294/10000 (63%)\n",
      "\n",
      "Train Epoch: 5 [1600/50000] Loss: 0.963797 Acc: 0.6875\n",
      "Train Epoch: 5 [3200/50000] Loss: 0.644103 Acc: 0.8125\n",
      "Train Epoch: 5 [4800/50000] Loss: 0.585546 Acc: 0.8125\n",
      "Train Epoch: 5 [6400/50000] Loss: 1.485599 Acc: 0.4375\n",
      "Train Epoch: 5 [8000/50000] Loss: 0.721333 Acc: 0.7500\n",
      "Train Epoch: 5 [9600/50000] Loss: 1.438178 Acc: 0.4375\n",
      "Train Epoch: 5 [11200/50000] Loss: 1.024884 Acc: 0.5000\n",
      "Train Epoch: 5 [12800/50000] Loss: 1.158094 Acc: 0.4375\n",
      "Train Epoch: 5 [14400/50000] Loss: 0.946435 Acc: 0.6250\n",
      "Train Epoch: 5 [16000/50000] Loss: 0.475722 Acc: 0.8750\n",
      "Train Epoch: 5 [17600/50000] Loss: 0.660336 Acc: 0.6875\n",
      "Train Epoch: 5 [19200/50000] Loss: 1.148064 Acc: 0.6250\n",
      "Train Epoch: 5 [20800/50000] Loss: 0.643990 Acc: 0.7500\n",
      "Train Epoch: 5 [22400/50000] Loss: 0.822251 Acc: 0.6875\n",
      "Train Epoch: 5 [24000/50000] Loss: 0.445612 Acc: 0.9375\n",
      "Train Epoch: 5 [25600/50000] Loss: 1.133580 Acc: 0.5625\n",
      "Train Epoch: 5 [27200/50000] Loss: 1.268340 Acc: 0.6250\n",
      "Train Epoch: 5 [28800/50000] Loss: 0.963066 Acc: 0.6875\n",
      "Train Epoch: 5 [30400/50000] Loss: 0.644189 Acc: 0.7500\n",
      "Train Epoch: 5 [32000/50000] Loss: 1.073363 Acc: 0.6875\n",
      "Train Epoch: 5 [33600/50000] Loss: 0.894458 Acc: 0.7500\n",
      "Train Epoch: 5 [35200/50000] Loss: 1.173316 Acc: 0.6875\n",
      "Train Epoch: 5 [36800/50000] Loss: 0.715679 Acc: 0.6875\n",
      "Train Epoch: 5 [38400/50000] Loss: 0.989532 Acc: 0.6875\n",
      "Train Epoch: 5 [40000/50000] Loss: 1.091426 Acc: 0.6250\n",
      "Train Epoch: 5 [41600/50000] Loss: 0.955579 Acc: 0.6250\n",
      "Train Epoch: 5 [43200/50000] Loss: 0.721160 Acc: 0.7500\n",
      "Train Epoch: 5 [44800/50000] Loss: 0.655813 Acc: 0.7500\n",
      "Train Epoch: 5 [46400/50000] Loss: 1.155915 Acc: 0.6250\n",
      "Train Epoch: 5 [48000/50000] Loss: 0.992861 Acc: 0.5625\n",
      "Train Epoch: 5 [49600/50000] Loss: 1.264787 Acc: 0.5625\n",
      "Elapsed 818.67s, 136.44 s/epoch, 0.04 s/batch, ets 545.78s\n",
      "\n",
      "Test set: Average loss: 1.0208, Accuracy: 6437/10000 (64%)\n",
      "\n",
      "Train Epoch: 6 [1600/50000] Loss: 1.012182 Acc: 0.5625\n",
      "Train Epoch: 6 [3200/50000] Loss: 0.985087 Acc: 0.5625\n",
      "Train Epoch: 6 [4800/50000] Loss: 0.556384 Acc: 0.7500\n",
      "Train Epoch: 6 [6400/50000] Loss: 0.978567 Acc: 0.6875\n",
      "Train Epoch: 6 [8000/50000] Loss: 0.780772 Acc: 0.7500\n",
      "Train Epoch: 6 [9600/50000] Loss: 0.742063 Acc: 0.7500\n",
      "Train Epoch: 6 [11200/50000] Loss: 0.741289 Acc: 0.6250\n",
      "Train Epoch: 6 [12800/50000] Loss: 0.893922 Acc: 0.7500\n",
      "Train Epoch: 6 [14400/50000] Loss: 1.454654 Acc: 0.5000\n",
      "Train Epoch: 6 [16000/50000] Loss: 1.488880 Acc: 0.5000\n",
      "Train Epoch: 6 [17600/50000] Loss: 1.412123 Acc: 0.5625\n",
      "Train Epoch: 6 [19200/50000] Loss: 0.681516 Acc: 0.7500\n",
      "Train Epoch: 6 [20800/50000] Loss: 0.714744 Acc: 0.6250\n",
      "Train Epoch: 6 [22400/50000] Loss: 0.784309 Acc: 0.6875\n",
      "Train Epoch: 6 [24000/50000] Loss: 1.058451 Acc: 0.6250\n",
      "Train Epoch: 6 [25600/50000] Loss: 0.838796 Acc: 0.7500\n",
      "Train Epoch: 6 [27200/50000] Loss: 1.388522 Acc: 0.7500\n",
      "Train Epoch: 6 [28800/50000] Loss: 0.653231 Acc: 0.8125\n",
      "Train Epoch: 6 [30400/50000] Loss: 1.042591 Acc: 0.6875\n",
      "Train Epoch: 6 [32000/50000] Loss: 1.431039 Acc: 0.6250\n",
      "Train Epoch: 6 [33600/50000] Loss: 0.883338 Acc: 0.5000\n",
      "Train Epoch: 6 [35200/50000] Loss: 0.820693 Acc: 0.6875\n",
      "Train Epoch: 6 [36800/50000] Loss: 0.958466 Acc: 0.6250\n",
      "Train Epoch: 6 [38400/50000] Loss: 1.422229 Acc: 0.5625\n",
      "Train Epoch: 6 [40000/50000] Loss: 0.953789 Acc: 0.6250\n",
      "Train Epoch: 6 [41600/50000] Loss: 0.531552 Acc: 0.7500\n",
      "Train Epoch: 6 [43200/50000] Loss: 1.012303 Acc: 0.7500\n",
      "Train Epoch: 6 [44800/50000] Loss: 0.925988 Acc: 0.6250\n",
      "Train Epoch: 6 [46400/50000] Loss: 0.834829 Acc: 0.8125\n",
      "Train Epoch: 6 [48000/50000] Loss: 0.872950 Acc: 0.6250\n",
      "Train Epoch: 6 [49600/50000] Loss: 0.715068 Acc: 0.6250\n",
      "Elapsed 958.77s, 136.97 s/epoch, 0.04 s/batch, ets 410.90s\n",
      "\n",
      "Test set: Average loss: 1.0069, Accuracy: 6520/10000 (65%)\n",
      "\n",
      "Train Epoch: 7 [1600/50000] Loss: 0.722330 Acc: 0.6875\n",
      "Train Epoch: 7 [3200/50000] Loss: 0.308141 Acc: 0.9375\n",
      "Train Epoch: 7 [4800/50000] Loss: 0.960760 Acc: 0.5625\n",
      "Train Epoch: 7 [6400/50000] Loss: 0.680877 Acc: 0.8125\n",
      "Train Epoch: 7 [8000/50000] Loss: 0.699529 Acc: 0.8125\n",
      "Train Epoch: 7 [9600/50000] Loss: 0.704008 Acc: 0.8125\n",
      "Train Epoch: 7 [11200/50000] Loss: 0.614185 Acc: 0.8125\n",
      "Train Epoch: 7 [12800/50000] Loss: 0.989997 Acc: 0.6250\n",
      "Train Epoch: 7 [14400/50000] Loss: 0.669247 Acc: 0.7500\n",
      "Train Epoch: 7 [16000/50000] Loss: 0.900468 Acc: 0.5625\n",
      "Train Epoch: 7 [17600/50000] Loss: 1.079464 Acc: 0.7500\n",
      "Train Epoch: 7 [19200/50000] Loss: 1.105297 Acc: 0.7500\n",
      "Train Epoch: 7 [20800/50000] Loss: 1.295387 Acc: 0.7500\n",
      "Train Epoch: 7 [22400/50000] Loss: 0.922566 Acc: 0.5625\n",
      "Train Epoch: 7 [24000/50000] Loss: 0.980541 Acc: 0.7500\n",
      "Train Epoch: 7 [25600/50000] Loss: 1.328620 Acc: 0.5000\n",
      "Train Epoch: 7 [27200/50000] Loss: 0.706003 Acc: 0.7500\n",
      "Train Epoch: 7 [28800/50000] Loss: 0.614242 Acc: 0.7500\n",
      "Train Epoch: 7 [30400/50000] Loss: 0.488967 Acc: 0.7500\n",
      "Train Epoch: 7 [32000/50000] Loss: 0.801528 Acc: 0.7500\n",
      "Train Epoch: 7 [33600/50000] Loss: 0.642441 Acc: 0.8125\n",
      "Train Epoch: 7 [35200/50000] Loss: 0.819256 Acc: 0.7500\n",
      "Train Epoch: 7 [36800/50000] Loss: 1.454098 Acc: 0.5625\n",
      "Train Epoch: 7 [38400/50000] Loss: 1.186873 Acc: 0.5625\n",
      "Train Epoch: 7 [40000/50000] Loss: 0.423271 Acc: 0.8750\n",
      "Train Epoch: 7 [41600/50000] Loss: 1.062181 Acc: 0.5625\n",
      "Train Epoch: 7 [43200/50000] Loss: 0.584961 Acc: 0.6875\n",
      "Train Epoch: 7 [44800/50000] Loss: 1.509140 Acc: 0.5625\n",
      "Train Epoch: 7 [46400/50000] Loss: 1.144271 Acc: 0.5000\n",
      "Train Epoch: 7 [48000/50000] Loss: 0.585418 Acc: 0.7500\n",
      "Train Epoch: 7 [49600/50000] Loss: 1.151294 Acc: 0.6250\n",
      "Elapsed 1098.29s, 137.29 s/epoch, 0.04 s/batch, ets 274.57s\n",
      "\n",
      "Test set: Average loss: 1.0361, Accuracy: 6450/10000 (64%)\n",
      "\n",
      "Train Epoch: 8 [1600/50000] Loss: 0.760346 Acc: 0.7500\n",
      "Train Epoch: 8 [3200/50000] Loss: 0.488046 Acc: 0.8750\n",
      "Train Epoch: 8 [4800/50000] Loss: 0.193976 Acc: 1.0000\n",
      "Train Epoch: 8 [6400/50000] Loss: 1.040873 Acc: 0.6875\n",
      "Train Epoch: 8 [8000/50000] Loss: 0.887238 Acc: 0.6875\n",
      "Train Epoch: 8 [9600/50000] Loss: 1.164357 Acc: 0.5625\n",
      "Train Epoch: 8 [11200/50000] Loss: 0.573732 Acc: 0.8125\n",
      "Train Epoch: 8 [12800/50000] Loss: 1.216084 Acc: 0.6250\n",
      "Train Epoch: 8 [14400/50000] Loss: 0.668959 Acc: 0.7500\n",
      "Train Epoch: 8 [16000/50000] Loss: 0.844290 Acc: 0.6875\n",
      "Train Epoch: 8 [17600/50000] Loss: 0.722065 Acc: 0.6875\n",
      "Train Epoch: 8 [19200/50000] Loss: 0.733509 Acc: 0.8125\n",
      "Train Epoch: 8 [20800/50000] Loss: 0.595559 Acc: 0.7500\n",
      "Train Epoch: 8 [22400/50000] Loss: 0.387608 Acc: 0.9375\n",
      "Train Epoch: 8 [24000/50000] Loss: 0.584746 Acc: 0.8125\n",
      "Train Epoch: 8 [25600/50000] Loss: 0.745793 Acc: 0.6250\n",
      "Train Epoch: 8 [27200/50000] Loss: 0.708548 Acc: 0.7500\n",
      "Train Epoch: 8 [28800/50000] Loss: 0.694548 Acc: 0.8125\n",
      "Train Epoch: 8 [30400/50000] Loss: 0.506382 Acc: 0.8125\n",
      "Train Epoch: 8 [32000/50000] Loss: 0.861931 Acc: 0.6250\n",
      "Train Epoch: 8 [33600/50000] Loss: 0.388214 Acc: 0.9375\n",
      "Train Epoch: 8 [35200/50000] Loss: 0.796534 Acc: 0.6250\n",
      "Train Epoch: 8 [36800/50000] Loss: 0.871693 Acc: 0.6875\n",
      "Train Epoch: 8 [38400/50000] Loss: 1.003258 Acc: 0.5625\n",
      "Train Epoch: 8 [40000/50000] Loss: 1.607382 Acc: 0.5000\n",
      "Train Epoch: 8 [41600/50000] Loss: 0.915346 Acc: 0.5000\n",
      "Train Epoch: 8 [43200/50000] Loss: 1.060462 Acc: 0.6250\n",
      "Train Epoch: 8 [44800/50000] Loss: 0.613944 Acc: 0.6875\n"
     ]
    },
    {
     "name": "stdout",
     "output_type": "stream",
     "text": [
      "Train Epoch: 8 [46400/50000] Loss: 0.271832 Acc: 0.8750\n",
      "Train Epoch: 8 [48000/50000] Loss: 1.416254 Acc: 0.5000\n",
      "Train Epoch: 8 [49600/50000] Loss: 0.686469 Acc: 0.7500\n",
      "Elapsed 1237.42s, 137.49 s/epoch, 0.04 s/batch, ets 137.49s\n",
      "\n",
      "Test set: Average loss: 1.0080, Accuracy: 6572/10000 (66%)\n",
      "\n",
      "Train Epoch: 9 [1600/50000] Loss: 0.563888 Acc: 0.8125\n",
      "Train Epoch: 9 [3200/50000] Loss: 0.509211 Acc: 0.8125\n",
      "Train Epoch: 9 [4800/50000] Loss: 0.793890 Acc: 0.6875\n",
      "Train Epoch: 9 [6400/50000] Loss: 0.479368 Acc: 0.8125\n",
      "Train Epoch: 9 [8000/50000] Loss: 0.553762 Acc: 0.8125\n",
      "Train Epoch: 9 [9600/50000] Loss: 0.748261 Acc: 0.6875\n",
      "Train Epoch: 9 [11200/50000] Loss: 0.195312 Acc: 1.0000\n",
      "Train Epoch: 9 [12800/50000] Loss: 0.594338 Acc: 0.7500\n",
      "Train Epoch: 9 [14400/50000] Loss: 0.890551 Acc: 0.6875\n",
      "Train Epoch: 9 [16000/50000] Loss: 0.799105 Acc: 0.7500\n",
      "Train Epoch: 9 [17600/50000] Loss: 0.791025 Acc: 0.6875\n",
      "Train Epoch: 9 [19200/50000] Loss: 0.924938 Acc: 0.6875\n",
      "Train Epoch: 9 [20800/50000] Loss: 0.761135 Acc: 0.7500\n",
      "Train Epoch: 9 [22400/50000] Loss: 0.845562 Acc: 0.6875\n",
      "Train Epoch: 9 [24000/50000] Loss: 0.559663 Acc: 0.8125\n",
      "Train Epoch: 9 [25600/50000] Loss: 0.619417 Acc: 0.7500\n",
      "Train Epoch: 9 [27200/50000] Loss: 0.562909 Acc: 0.8125\n",
      "Train Epoch: 9 [28800/50000] Loss: 0.604152 Acc: 0.8125\n",
      "Train Epoch: 9 [30400/50000] Loss: 0.347662 Acc: 0.9375\n",
      "Train Epoch: 9 [32000/50000] Loss: 0.692034 Acc: 0.6875\n",
      "Train Epoch: 9 [33600/50000] Loss: 0.931089 Acc: 0.6875\n",
      "Train Epoch: 9 [35200/50000] Loss: 0.801374 Acc: 0.6875\n",
      "Train Epoch: 9 [36800/50000] Loss: 0.955616 Acc: 0.6875\n",
      "Train Epoch: 9 [38400/50000] Loss: 0.674319 Acc: 0.7500\n",
      "Train Epoch: 9 [40000/50000] Loss: 0.860824 Acc: 0.6250\n",
      "Train Epoch: 9 [41600/50000] Loss: 0.496221 Acc: 0.9375\n",
      "Train Epoch: 9 [43200/50000] Loss: 0.700441 Acc: 0.8125\n",
      "Train Epoch: 9 [44800/50000] Loss: 0.953441 Acc: 0.5000\n",
      "Train Epoch: 9 [46400/50000] Loss: 0.709249 Acc: 0.7500\n",
      "Train Epoch: 9 [48000/50000] Loss: 0.806721 Acc: 0.8125\n",
      "Train Epoch: 9 [49600/50000] Loss: 0.731438 Acc: 0.6875\n",
      "Elapsed 1377.76s, 137.78 s/epoch, 0.04 s/batch, ets 0.00s\n",
      "\n",
      "Test set: Average loss: 1.0408, Accuracy: 6536/10000 (65%)\n",
      "\n",
      "Total time: 1401.50, Best Loss: 1.007\n"
     ]
    }
   ],
   "source": [
    "model = CNN()\n",
    "model, epoch_train_loss, epoch_train_acc, epoch_test_loss, epoch_test_acc = main(model)"
   ]
  },
  {
   "cell_type": "markdown",
   "id": "72c302dd",
   "metadata": {},
   "source": [
    "### 20 эпох:\n",
    "- на GPU (RTX 3070 notebook) = 336 сек\n",
    "- на СPU (Intel i7) = 397 сек"
   ]
  },
  {
   "cell_type": "code",
   "execution_count": 56,
   "id": "f6a0f2d0",
   "metadata": {
    "scrolled": true
   },
   "outputs": [
    {
     "data": {
      "text/plain": [
       "Text(0.5, 1.0, 'Training and Validation Accuracy')"
      ]
     },
     "execution_count": 56,
     "metadata": {},
     "output_type": "execute_result"
    },
    {
     "data": {
      "image/png": "[encoded data removed]",
      "text/plain": [
       "<Figure size 2000x800 with 2 Axes>"
      ]
     },
     "metadata": {},
     "output_type": "display_data"
    }
   ],
   "source": [
    "# Plot loss\n",
    "plt.rcParams[\"figure.figsize\"] = (10, 6)\n",
    "x_loss = range(len(epoch_train_loss))\n",
    "x_acc = range(len(epoch_train_acc))\n",
    "\n",
    "plt.figure(figsize=[20,8])\n",
    "plt.subplot(121)\n",
    "plt.plot(x_loss, epoch_train_loss, 'r', label=\"train loss\")\n",
    "plt.plot(x_loss, epoch_test_loss, 'b', label=\"validation loss\")\n",
    "plt.xlabel('epoch no.')\n",
    "plt.ylabel('loss')\n",
    "plt.legend(loc='upper right')\n",
    "plt.title('Training and Validation Loss')\n",
    "\n",
    "plt.subplot(122)\n",
    "plt.plot(x_acc, epoch_train_acc, 'r', label=\"train accuracy\")\n",
    "plt.plot(x_acc, epoch_test_acc, 'b', label=\"validation accuracy\")\n",
    "plt.xlabel('epoch no.')\n",
    "plt.ylabel('accuracy')\n",
    "plt.legend(loc='upper right')\n",
    "plt.title('Training and Validation Accuracy')"
   ]
  },
  {
   "cell_type": "markdown",
   "id": "95d16606",
   "metadata": {},
   "source": [
    "### Примененрие сети (инференс)\n",
    "Берем батч из загрузчика проверочной выборки, выбираем одно изображение (по индексам), пропускаем через сеть, смотрим результат, сравниваем в предсказанным, делаем вывод."
   ]
  },
  {
   "cell_type": "code",
   "execution_count": 57,
   "id": "a7d31abd",
   "metadata": {},
   "outputs": [
    {
     "name": "stdout",
     "output_type": "stream",
     "text": [
      "Files already downloaded and verified\n"
     ]
    }
   ],
   "source": [
    "check_pic_loader = DL(\n",
    "    datasets.CIFAR10(root=TrainingConfiguration.data_root, train=True,\n",
    "                     download=True, transform=trans),\n",
    "#         batch_size=128,\n",
    "        shuffle=True,\n",
    "        num_workers=TrainingConfiguration.num_workers\n",
    "    )"
   ]
  },
  {
   "cell_type": "code",
   "execution_count": 58,
   "id": "6a9d9f17",
   "metadata": {},
   "outputs": [
    {
     "data": {
      "image/png": "[encoded data removed]",
      "text/plain": [
       "<Figure size 1000x600 with 1 Axes>"
      ]
     },
     "metadata": {},
     "output_type": "display_data"
    }
   ],
   "source": [
    "def imshow(img):\n",
    "    npimg = img.numpy() # перевод в массив numpy\n",
    "    plt.imshow(np.transpose(npimg, (1, 2, 0))) # замена местами размерностей: C,H,W --> H,W,C (matplotlib ожидает именно так) \n",
    "    plt.show()\n",
    "\n",
    "dataiter = iter(check_pic_loader) # итератор на основе загрузчика\n",
    "image, label = next(dataiter) # метод next - вызвать следующий объект итератора\n",
    "\n",
    "imshow(make_grid(image))"
   ]
  },
  {
   "cell_type": "code",
   "execution_count": 59,
   "id": "37d2ea32",
   "metadata": {},
   "outputs": [
    {
     "name": "stdout",
     "output_type": "stream",
     "text": [
      "tensor([[ 0.3649, -3.9062, -0.7660,  0.8097, -0.7004, -0.7081, -0.5418, -3.6083,\n",
      "          0.7778, -2.1520]])\n"
     ]
    }
   ],
   "source": [
    "with torch.no_grad():\n",
    "    outputs = model(image)\n",
    "    print(outputs)\n",
    "    # pred is the index value of the maximum value\n",
    "    _, pred = torch.max(outputs,dim=1)\n",
    "    pred = pred.numpy()"
   ]
  },
  {
   "cell_type": "code",
   "execution_count": 60,
   "id": "51313fb2",
   "metadata": {},
   "outputs": [
    {
     "data": {
      "text/plain": [
       "array([3], dtype=int64)"
      ]
     },
     "execution_count": 60,
     "metadata": {},
     "output_type": "execute_result"
    }
   ],
   "source": [
    "pred"
   ]
  },
  {
   "cell_type": "code",
   "execution_count": 61,
   "id": "b57d8c04",
   "metadata": {
    "scrolled": false
   },
   "outputs": [
    {
     "data": {
      "text/plain": [
       "'cat'"
      ]
     },
     "execution_count": 61,
     "metadata": {},
     "output_type": "execute_result"
    }
   ],
   "source": [
    "classes[pred[0]]"
   ]
  },
  {
   "cell_type": "code",
   "execution_count": 62,
   "id": "4d626ca2",
   "metadata": {},
   "outputs": [
    {
     "data": {
      "text/plain": [
       "'airplane'"
      ]
     },
     "execution_count": 62,
     "metadata": {},
     "output_type": "execute_result"
    }
   ],
   "source": [
    "classes[label]"
   ]
  },
  {
   "cell_type": "code",
   "execution_count": 63,
   "id": "2ba8d893",
   "metadata": {},
   "outputs": [],
   "source": [
    "transform = T.Compose(\n",
    "    [T.Resize((32,32)),\n",
    "     T.ToTensor(),\n",
    "     T.Normalize((0.5,0.5,0.5),(0.5,0.5,0.5))])"
   ]
  },
  {
   "cell_type": "code",
   "execution_count": 64,
   "id": "6557265a",
   "metadata": {},
   "outputs": [],
   "source": [
    "from PIL import Image\n",
    "\n",
    "# Load the picture as a PIL picture and store them as img1, img2, img3, img4\n",
    "img0,img1,img2,img3 = map(Image.open,\n",
    "                          ('data/dog.jpg','data/horse.jpg',\n",
    "                           'data/ship.jpg','data/truck.jpg'))\n",
    "                                                     \n",
    "img0,img1,img2,img3 = map(transform, (img0,img1,img2,img3))"
   ]
  },
  {
   "cell_type": "code",
   "execution_count": 65,
   "id": "972c6e0f",
   "metadata": {},
   "outputs": [],
   "source": [
    "# Add the dimension representing the batch size\n",
    "img0 = torch.unsqueeze(img0, dim=0)\n",
    "img1 = torch.unsqueeze(img1, dim=0)\n",
    "img2 = torch.unsqueeze(img2, dim=0)\n",
    "img3 = torch.unsqueeze(img3, dim=0)\n",
    "# Four pictures into one batch\n",
    "images = torch.cat((img0, img1, img2, img3),dim=0)"
   ]
  },
  {
   "cell_type": "code",
   "execution_count": 66,
   "id": "5fe9c3f0",
   "metadata": {},
   "outputs": [],
   "source": [
    "with torch.no_grad():\n",
    "    outputs = model(images)\n",
    "    # pred is the index value of the maximum value\n",
    "    _, pred = torch.max(outputs,dim=1)\n",
    "    pred = pred.numpy()"
   ]
  },
  {
   "cell_type": "code",
   "execution_count": 67,
   "id": "0327d88f",
   "metadata": {},
   "outputs": [
    {
     "name": "stdout",
     "output_type": "stream",
     "text": [
      "dog\n",
      "deer\n",
      "ship\n",
      "frog\n"
     ]
    }
   ],
   "source": [
    "for i in range(4):\n",
    "    print(classes[pred[i]])"
   ]
  },
  {
   "cell_type": "code",
   "execution_count": null,
   "id": "b928e98b",
   "metadata": {},
   "outputs": [],
   "source": []
  }
 ],
 "metadata": {
  "kernelspec": {
   "display_name": "Python 3 (ipykernel)",
   "language": "python",
   "name": "python3"
  },
  "language_info": {
   "codemirror_mode": {
    "name": "ipython",
    "version": 3
   },
   "file_extension": ".py",
   "mimetype": "text/x-python",
   "name": "python",
   "nbconvert_exporter": "python",
   "pygments_lexer": "ipython3",
   "version": "3.9.13"
  }
 },
 "nbformat": 4,
 "nbformat_minor": 5
}
