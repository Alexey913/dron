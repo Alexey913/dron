{
 "cells": [
  {
   "cell_type": "markdown",
   "id": "c9952c55-f467-46f9-954e-18424f913f99",
   "metadata": {},
   "source": [
    "# Подзадача 1\n",
    "## Сбор (отбор) и предварительная обработка данных (предобработка данных)."
   ]
  },
  {
   "cell_type": "markdown",
   "id": "ca17e834-71ce-4850-887f-bd81c5cfbd70",
   "metadata": {},
   "source": [
    "__Исходный материал:__ видео, снятое с камеры летящего БПЛА (https://cloud.sketcher-services.ru/s/tBHnPdoBF22sfdt). \n",
    "\n",
    "__Задача:__ на основе материалов предоставленного исходного материала видео отобрать и подготовить релевантные данные для обучения модели. "
   ]
  },
  {
   "cell_type": "code",
   "execution_count": 1,
   "id": "c2ab71d7-96e0-4040-91d3-b959f552c23a",
   "metadata": {},
   "outputs": [
    {
     "name": "stdout",
     "output_type": "stream",
     "text": [
      "Requirement already satisfied: natsort in /home/alex/bpla/venv/lib/python3.12/site-packages (8.4.0)\n",
      "Note: you may need to restart the kernel to use updated packages.\n"
     ]
    }
   ],
   "source": [
    "pip install natsort"
   ]
  },
  {
   "cell_type": "code",
   "execution_count": 1,
   "id": "6f4e35a4-cfeb-4333-ba8a-8c462a236d12",
   "metadata": {},
   "outputs": [],
   "source": [
    "import cv2\n",
    "import os\n",
    "import natsort as ns"
   ]
  },
  {
   "cell_type": "markdown",
   "id": "7c24460b-e46b-460c-a32e-9f0faa8a0f7d",
   "metadata": {},
   "source": [
    "## 1.1 Отбор кадров из видео с помощью автоматической функции"
   ]
  },
  {
   "cell_type": "code",
   "execution_count": 2,
   "id": "a50210ca-385b-482e-ba26-45920c960832",
   "metadata": {},
   "outputs": [],
   "source": [
    "def video2frames(src, out, sample, xr, yr):\n",
    "    \n",
    "    if not os.path.exists(out):\n",
    "        os.mkdir(out)\n",
    "    \n",
    "    cap = cv2.VideoCapture(src)\n",
    "    \n",
    "    if not cap.isOpened(): \n",
    "        print('Ошибка чтения видео-файла')\n",
    "    \n",
    "    i, s = 0, 0\n",
    "    while cap.isOpened():\n",
    "        ret, frame = cap.read()\n",
    "        if ret == True:\n",
    "            if i % sample == 0:\n",
    "                frame = cv2.resize(frame, (xr, yr), cv2.INTER_NEAREST)\n",
    "                cv2.imwrite(os.path.join(out, src.split('.')[0] + '_' + str(i) + '.jpg'), frame)\n",
    "                s += 1\n",
    "            i += 1\n",
    "        else:\n",
    "            break\n",
    "    cap.release()\n",
    "        \n",
    "    return f'Задача завершена. Сохранено кадров: {s}.'"
   ]
  },
  {
   "cell_type": "code",
   "execution_count": 7,
   "id": "e1f96ee9-1cd9-4cc0-9774-3ecb6f55e0fc",
   "metadata": {},
   "outputs": [],
   "source": [
    "# загрузка видео и определение директорий\n",
    "src = '2.mp4'\n",
    "out = os.path.join(os.path.dirname(src), 'frames')\n",
    "cap = cv2.VideoCapture(src)\n",
    "\n",
    "# задаем размеры видео\n",
    "new_x = int(cap.get(cv2.CAP_PROP_FRAME_WIDTH))\n",
    "new_y = int(cap.get(cv2.CAP_PROP_FRAME_HEIGHT))\n",
    "\n",
    "sample = cap.get(cv2.CAP_PROP_FRAME_COUNT) // 50"
   ]
  },
  {
   "cell_type": "code",
   "execution_count": 8,
   "id": "992d4f2d-4d59-49d4-a373-b37271e08be9",
   "metadata": {},
   "outputs": [
    {
     "name": "stdout",
     "output_type": "stream",
     "text": [
      "CPU times: user 57.8 s, sys: 2.57 s, total: 1min\n",
      "Wall time: 51.5 s\n"
     ]
    },
    {
     "data": {
      "text/plain": [
       "'Задача завершена. Сохранено кадров: 56.'"
      ]
     },
     "execution_count": 8,
     "metadata": {},
     "output_type": "execute_result"
    }
   ],
   "source": [
    "%%time\n",
    "\n",
    "video2frames(src, out, sample, new_x, new_y)"
   ]
  },
  {
   "cell_type": "markdown",
   "id": "4d997782-7b73-433f-b8cc-8301aa9660f6",
   "metadata": {},
   "source": [
    "## 1.2. Создание выборки вырезок из отобранных кадров с помощью автоматической функции (также предоставлена преподавателями)"
   ]
  },
  {
   "cell_type": "code",
   "execution_count": 9,
   "id": "cddffe39-68b2-4a32-8cf8-713064564a45",
   "metadata": {},
   "outputs": [],
   "source": [
    "def click_sampler(name, size, out):\n",
    "    \n",
    "    if not os.path.exists(out):\n",
    "        os.mkdir(out)\n",
    "        \n",
    "    if size[0] <= 0 or size[1] <= 0:\n",
    "        raise ValueError ('Размер вырезки должен быть больше 0')\n",
    "  \n",
    "    img = cv2.imread(name)\n",
    "    \n",
    "    if size[0] > img.shape[0] or size[1] > img.shape[1]:\n",
    "        print('Внимание: размер вырезки больше размера изображения')\n",
    "        pass\n",
    "    \n",
    "    img_c = img.copy()\n",
    "\n",
    "    cv2.namedWindow(name, cv2.WINDOW_NORMAL)\n",
    "    cv2.imshow(name, img)\n",
    "    cv2.resizeWindow(name, img.shape[1], img.shape[0])\n",
    "\n",
    "    coords = []\n",
    "\n",
    "    def mouse_click(event, x, y, flags, param):\n",
    "        \n",
    "        if event == cv2.EVENT_LBUTTONDOWN:\n",
    "            cv2.circle(img, (x, y), 10, (0, 0, 255), -1)\n",
    "            x0, y0 = x - int(size[0]/2), y - int(size[1]/2)\n",
    "            xw, yh = x + int(size[0]/2), y + int(size[1]/2)\n",
    "            cv2.rectangle(img, (x0, y0), (xw, yh), (0, 0, 255), 3)\n",
    "            cv2.imshow(name, img)\n",
    "            coords.append((x, y))\n",
    "\n",
    "        return coords\n",
    "\n",
    "    cv2.setMouseCallback(name, mouse_click)\n",
    "    cv2.waitKey(0)\n",
    "    cv2.destroyAllWindows()\n",
    "    \n",
    "    t = 0\n",
    "    nm, ext = os.path.basename(name.split('.')[0]), os.path.basename(name.split('.')[1])\n",
    "    \n",
    "    for coord in coords:\n",
    "        x, y = coord[0], coord[1]\n",
    "        x0, y0 = x - int(size[0]/2), y - int(size[1]/2)\n",
    "        xw, yh = x + int(size[0]/2), y + int(size[1]/2)\n",
    "        \n",
    "        if x0 < 0:\n",
    "            xw = xw - x0\n",
    "            x0 = 0\n",
    "        if y0 < 0:\n",
    "            yh = yh - y0\n",
    "            y0 = 0\n",
    "            \n",
    "        title = img_c[y0:yh, x0:xw]\n",
    "        print(f\"Создан фрейм {os.path.join(out, nm + '_' + str(x)+ 'x' + str(y) + '.' + ext)}\")\n",
    "        cv2.imwrite(os.path.join(out, nm + '_' + str(x) + 'x' + str(y) + '.' + ext), title)\n",
    "                    \n",
    "        t += 1\n",
    "        \n",
    "    return f'Создано вырезок: {t}'"
   ]
  },
  {
   "cell_type": "code",
   "execution_count": 1,
   "id": "dadbcff6-6acc-4078-86c3-62844056ee28",
   "metadata": {
    "scrolled": true
   },
   "outputs": [
    {
     "ename": "NameError",
     "evalue": "name 'os' is not defined",
     "output_type": "error",
     "traceback": [
      "\u001b[1;31m---------------------------------------------------------------------------\u001b[0m",
      "\u001b[1;31mNameError\u001b[0m                                 Traceback (most recent call last)",
      "\u001b[1;32m~\\AppData\\Local\\Temp\\ipykernel_17200\\4051878966.py\u001b[0m in \u001b[0;36m<module>\u001b[1;34m\u001b[0m\n\u001b[0;32m      3\u001b[0m \u001b[0mout\u001b[0m \u001b[1;33m=\u001b[0m \u001b[1;34m'640x640'\u001b[0m\u001b[1;33m\u001b[0m\u001b[1;33m\u001b[0m\u001b[0m\n\u001b[0;32m      4\u001b[0m \u001b[1;33m\u001b[0m\u001b[0m\n\u001b[1;32m----> 5\u001b[1;33m \u001b[0mout_pth\u001b[0m \u001b[1;33m=\u001b[0m \u001b[0mos\u001b[0m\u001b[1;33m.\u001b[0m\u001b[0mpath\u001b[0m\u001b[1;33m.\u001b[0m\u001b[0mjoin\u001b[0m\u001b[1;33m(\u001b[0m\u001b[0mpth\u001b[0m\u001b[1;33m,\u001b[0m \u001b[0mout\u001b[0m\u001b[1;33m)\u001b[0m\u001b[1;33m\u001b[0m\u001b[1;33m\u001b[0m\u001b[0m\n\u001b[0m\u001b[0;32m      6\u001b[0m \u001b[1;33m\u001b[0m\u001b[0m\n\u001b[0;32m      7\u001b[0m \u001b[1;32mif\u001b[0m \u001b[1;32mnot\u001b[0m \u001b[0mos\u001b[0m\u001b[1;33m.\u001b[0m\u001b[0mpath\u001b[0m\u001b[1;33m.\u001b[0m\u001b[0mexists\u001b[0m\u001b[1;33m(\u001b[0m\u001b[0mout_pth\u001b[0m\u001b[1;33m)\u001b[0m\u001b[1;33m:\u001b[0m\u001b[1;33m\u001b[0m\u001b[1;33m\u001b[0m\u001b[0m\n",
      "\u001b[1;31mNameError\u001b[0m: name 'os' is not defined"
     ]
    }
   ],
   "source": [
    "# Применяем скрипт click_sampler итеративно для всех изображений в папке frame\n",
    "pth = 'frames'\n",
    "out = '640x640'\n",
    "\n",
    "out_pth = os.path.join(pth, out)\n",
    "\n",
    "if not os.path.exists(out_pth):\n",
    "    os.mkdir(out_pth)\n",
    "\n",
    "for file in ns.natsorted(os.listdir(pth)):\n",
    "    print(os.path.join(out_pth, os.path.basename(file)))\n",
    "    click_sampler(os.path.join(pth, os.path.basename(file)), (640,640), out_pth)"
   ]
  },
  {
   "cell_type": "markdown",
   "id": "00f5091b-0105-4428-8e44-d7b478c33484",
   "metadata": {},
   "source": [
    "## Итог работы:\n",
    "* Набор вырезок 640х640 пикс из кадров (199 объектов), релевантных целевым объектам (автомобили и здания).\n",
    "* Сформированный набор: в папке ./frames/640x640"
   ]
  }
 ],
 "metadata": {
  "kernelspec": {
   "display_name": "Python 3 (ipykernel)",
   "language": "python",
   "name": "python3"
  },
  "language_info": {
   "codemirror_mode": {
    "name": "ipython",
    "version": 3
   },
   "file_extension": ".py",
   "mimetype": "text/x-python",
   "name": "python",
   "nbconvert_exporter": "python",
   "pygments_lexer": "ipython3",
   "version": "3.9.13"
  }
 },
 "nbformat": 4,
 "nbformat_minor": 5
}
