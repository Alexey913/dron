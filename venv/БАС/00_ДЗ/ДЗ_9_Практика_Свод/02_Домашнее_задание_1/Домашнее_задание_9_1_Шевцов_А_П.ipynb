{
 "cells": [
  {
   "cell_type": "markdown",
   "id": "71a9ee02",
   "metadata": {},
   "source": [
    "# Подготовка обучающего датасета для модели YOLO из видео\n",
    "## Цель задания: \n",
    "**Получить практический опыт в создании базового датасета для детекции объектов в формате YOLO, используя видео продолжительностью 20 секунд и любой удобный инструмент разметки**"
   ]
  },
  {
   "cell_type": "markdown",
   "id": "48eeb30a",
   "metadata": {},
   "source": [
    "## 1.\tВыбор видео:\n",
    "* Выберите видео длительностью около 25 секунд. Видео должно содержать объекты, которые вы планируете детектировать (например, автомобили, люди, животные и т.д.).\n",
    "*\tУбедитесь, что качество видео достаточное для разметки (четкие изображения объектов)."
   ]
  },
  {
   "cell_type": "markdown",
   "id": "0aff3a51",
   "metadata": {},
   "source": [
    "При выборе видео необходимо учитывать наличие на нем четкого изображения объектов, котрые необходимо детектировать. При этом желательно наличие примерно одинакового количества кадров с детектирумыми объектами, а также их изображение с разных ракурсов.\n",
    "\n",
    "В качестве такого видео используем файл \"2.mp4\", находящийся в директории \"01_Задание_1\" (см. структуру папок ниже):"
   ]
  },
  {
   "cell_type": "raw",
   "id": "d37af179",
   "metadata": {},
   "source": [
    "ДЗ\n",
    "├── ДЗ_9_Практика_Свод\n",
    "│   ├── 01_Задание_1 (папка с видео)\n",
    "│   │   └── 2.mp4\n",
    "│   └── 02_Домашнее_задание_1 (текущая папка)"
   ]
  },
  {
   "cell_type": "markdown",
   "id": "37b76162",
   "metadata": {},
   "source": [
    "## 2. Извлечение кадров:\n",
    "* С помощью любого видеоредактора или скрипта извлеките кадры из видео.\n",
    "* Рекомендуется извлекать кадры с интервалом, чтобы получить примерно 50 изображений."
   ]
  },
  {
   "cell_type": "markdown",
   "id": "4df0b26a",
   "metadata": {
    "scrolled": true
   },
   "source": [
    "### Импорт библиотек"
   ]
  },
  {
   "cell_type": "code",
   "execution_count": 2,
   "id": "98fec52c",
   "metadata": {},
   "outputs": [],
   "source": [
    "import pandas as pd\n",
    "import torch\n",
    "import cv2\n",
    "import os\n",
    "import shutil\n",
    "import natsort as ns\n",
    "import json"
   ]
  },
  {
   "cell_type": "markdown",
   "id": "563ebd7d",
   "metadata": {},
   "source": [
    "### Для извлечения кадров используем скрипт ниже:"
   ]
  },
  {
   "cell_type": "code",
   "execution_count": 18,
   "id": "ebef5d10",
   "metadata": {},
   "outputs": [],
   "source": [
    "def video2frames(src, out, sample, xr, yr):\n",
    "    \n",
    "    if not os.path.exists(out):\n",
    "        os.mkdir(out)\n",
    "    \n",
    "    cap = cv2.VideoCapture(src)\n",
    "    \n",
    "    if not cap.isOpened(): \n",
    "        print('Ошибка чтения видео-файла')\n",
    "    \n",
    "    i, s = 0, 0\n",
    "    while cap.isOpened():\n",
    "        ret, frame = cap.read()\n",
    "        if ret == True:\n",
    "            if i % sample == 0:\n",
    "                frame = cv2.resize(frame, (xr, yr), cv2.INTER_NEAREST)\n",
    "                cv2.imwrite(os.path.join(out, os.path.split(src)[-1].split('.')[0] + '_' + str(i) + '.jpg'), frame)\n",
    "                s += 1\n",
    "            i += 1\n",
    "        else:\n",
    "            break\n",
    "    cap.release()\n",
    "        \n",
    "    return f'Задача завершена. Сохранено кадров: {s}.'"
   ]
  },
  {
   "cell_type": "markdown",
   "id": "954cf520",
   "metadata": {},
   "source": [
    "Функция читает видео по па адресу **src** по кадрам и сохраняет их как изображения в директорию **out**. Настраиваем выборку не всех, а каждого i-того кадра (параметр **sample** определяем ниже)"
   ]
  },
  {
   "cell_type": "markdown",
   "id": "e0c4a2b1",
   "metadata": {},
   "source": [
    "**Загрузка видео и определение директорий**"
   ]
  },
  {
   "cell_type": "code",
   "execution_count": 1,
   "id": "fe098d3b",
   "metadata": {
    "scrolled": true
   },
   "outputs": [
    {
     "ename": "NameError",
     "evalue": "name 'os' is not defined",
     "output_type": "error",
     "traceback": [
      "\u001b[1;31m---------------------------------------------------------------------------\u001b[0m",
      "\u001b[1;31mNameError\u001b[0m                                 Traceback (most recent call last)",
      "\u001b[1;32m~\\AppData\\Local\\Temp\\ipykernel_12092\\4107109156.py\u001b[0m in \u001b[0;36m<module>\u001b[1;34m\u001b[0m\n\u001b[0;32m      1\u001b[0m \u001b[0mname_video\u001b[0m \u001b[1;33m=\u001b[0m \u001b[1;34m'2.mp4'\u001b[0m\u001b[1;33m\u001b[0m\u001b[1;33m\u001b[0m\u001b[0m\n\u001b[0;32m      2\u001b[0m \u001b[0mfolder_video\u001b[0m \u001b[1;33m=\u001b[0m \u001b[1;34m'01_Задание_1'\u001b[0m\u001b[1;33m\u001b[0m\u001b[1;33m\u001b[0m\u001b[0m\n\u001b[1;32m----> 3\u001b[1;33m \u001b[0msrc\u001b[0m \u001b[1;33m=\u001b[0m \u001b[0mos\u001b[0m\u001b[1;33m.\u001b[0m\u001b[0mpath\u001b[0m\u001b[1;33m.\u001b[0m\u001b[0mjoin\u001b[0m\u001b[1;33m(\u001b[0m\u001b[1;34m'..'\u001b[0m\u001b[1;33m,\u001b[0m \u001b[0mfolder_video\u001b[0m\u001b[1;33m,\u001b[0m \u001b[0mname_video\u001b[0m\u001b[1;33m)\u001b[0m\u001b[1;33m\u001b[0m\u001b[1;33m\u001b[0m\u001b[0m\n\u001b[0m\u001b[0;32m      4\u001b[0m \u001b[0mout\u001b[0m \u001b[1;33m=\u001b[0m \u001b[0mos\u001b[0m\u001b[1;33m.\u001b[0m\u001b[0mpath\u001b[0m\u001b[1;33m.\u001b[0m\u001b[0mjoin\u001b[0m\u001b[1;33m(\u001b[0m\u001b[0mos\u001b[0m\u001b[1;33m.\u001b[0m\u001b[0mcurdir\u001b[0m\u001b[1;33m,\u001b[0m \u001b[1;34m'frames'\u001b[0m\u001b[1;33m)\u001b[0m\u001b[1;33m\u001b[0m\u001b[1;33m\u001b[0m\u001b[0m\n\u001b[0;32m      5\u001b[0m \u001b[0mcap\u001b[0m \u001b[1;33m=\u001b[0m \u001b[0mcv2\u001b[0m\u001b[1;33m.\u001b[0m\u001b[0mVideoCapture\u001b[0m\u001b[1;33m(\u001b[0m\u001b[0msrc\u001b[0m\u001b[1;33m)\u001b[0m\u001b[1;33m\u001b[0m\u001b[1;33m\u001b[0m\u001b[0m\n",
      "\u001b[1;31mNameError\u001b[0m: name 'os' is not defined"
     ]
    }
   ],
   "source": [
    "name_video = '2.mp4'\n",
    "folder_video = '01_Задание_1'\n",
    "src = os.path.join('..', folder_video, name_video)\n",
    "out = os.path.join(os.curdir, 'frames')\n",
    "cap = cv2.VideoCapture(src)"
   ]
  },
  {
   "cell_type": "markdown",
   "id": "3f0f06a4",
   "metadata": {},
   "source": [
    "**Задаем размеры кадров для скрипта, выгрузив ширину и высоту видео**"
   ]
  },
  {
   "cell_type": "code",
   "execution_count": null,
   "id": "39ce79d1",
   "metadata": {},
   "outputs": [],
   "source": [
    "new_x = int(cap.get(cv2.CAP_PROP_FRAME_WIDTH))\n",
    "new_y = int(cap.get(cv2.CAP_PROP_FRAME_HEIGHT))"
   ]
  },
  {
   "cell_type": "markdown",
   "id": "c6e960e6",
   "metadata": {},
   "source": [
    "**Определяем количество кадров видео. Затем, учитывая, что в соответствии с условиями задания, необходимое количество кадров для разметки равно примерно 50, определяем параметр sample**"
   ]
  },
  {
   "cell_type": "code",
   "execution_count": null,
   "id": "25863093",
   "metadata": {},
   "outputs": [],
   "source": [
    "frame_count = cap.get(cv2.CAP_PROP_FRAME_COUNT)\n",
    "sample = frame_count // 50"
   ]
  },
  {
   "cell_type": "markdown",
   "id": "4f8f2ed0",
   "metadata": {},
   "source": [
    "**Запускаем скрипт**"
   ]
  },
  {
   "cell_type": "code",
   "execution_count": 21,
   "id": "c2408982",
   "metadata": {
    "scrolled": true
   },
   "outputs": [
    {
     "name": "stdout",
     "output_type": "stream",
     "text": [
      "Wall time: 16.5 s\n"
     ]
    },
    {
     "data": {
      "text/plain": [
       "'Задача завершена. Сохранено кадров: 56.'"
      ]
     },
     "execution_count": 21,
     "metadata": {},
     "output_type": "execute_result"
    }
   ],
   "source": [
    "%%time\n",
    "\n",
    "video2frames(src, out, sample, new_x, new_y)"
   ]
  },
  {
   "cell_type": "markdown",
   "id": "b26053ca",
   "metadata": {},
   "source": [
    "### Создание вырезок 640х640"
   ]
  },
  {
   "cell_type": "markdown",
   "id": "e180355c",
   "metadata": {},
   "source": [
    "Далее из полученных кадров делаем вырезки 640х640 из собранных кадров, так как именно на 640х640 обучалась YOLO. \n",
    "\n",
    "640х640 - оптимальный размер изображений.\n",
    "\n",
    "Для получения вырезок используем функцию **click_sampler**.\n",
    "При запуске функции проиходит открытие стандратного окна OpenCV. Далее с помошью левой кнопки мыши отмечаем центр будущей вырезки на изображении: функция рисует границы вырезки и сохраняет данный фрагмент в указанную директорию (out).\n",
    "В функции предусмотрен тот момент, что если указать центр вырезки близко к краю изображения, размер рамки остается 640х640 и смещается таким образом, что ее край свомещается с краем изображения.\n",
    "- Любая кнопка на клавиатуре: вызывает следующее изображение.\n",
    "- Скрипт завершится после обработки всех изображений!"
   ]
  },
  {
   "cell_type": "code",
   "execution_count": 25,
   "id": "a52c8663",
   "metadata": {},
   "outputs": [],
   "source": [
    "def click_sampler(name, size, out):\n",
    "    \n",
    "    if not os.path.exists(out):\n",
    "        os.mkdir(out)\n",
    "        \n",
    "    if size[0] <= 0 or size[1] <= 0:\n",
    "        raise ValueError ('Размер вырезки должен быть больше 0')\n",
    "  \n",
    "    img = cv2.imread(name)\n",
    "    \n",
    "    if size[0] > img.shape[0] or size[1] > img.shape[1]:\n",
    "        print('Внимание: размер вырезки больше размера изображения')\n",
    "        pass\n",
    "    \n",
    "    img_c = img.copy()\n",
    "\n",
    "    cv2.namedWindow(name, cv2.WINDOW_NORMAL)\n",
    "    cv2.imshow(name, img)\n",
    "    cv2.resizeWindow(name, img.shape[1], img.shape[0])\n",
    "\n",
    "    coords = []\n",
    "\n",
    "    def mouse_click(event, x, y, flags, param):\n",
    "        \n",
    "        if event == cv2.EVENT_LBUTTONDOWN:\n",
    "            cv2.circle(img, (x, y), 10, (0, 0, 255), -1)\n",
    "            x0, y0 = x - int(size[0]/2), y - int(size[1]/2)\n",
    "            xw, yh = x + int(size[0]/2), y + int(size[1]/2)\n",
    "            cv2.rectangle(img, (x0, y0), (xw, yh), (0, 0, 255), 3)\n",
    "            cv2.imshow(name, img)\n",
    "            coords.append((x, y))\n",
    "\n",
    "        return coords\n",
    "\n",
    "    cv2.setMouseCallback(name, mouse_click)\n",
    "    cv2.waitKey(0)\n",
    "    cv2.destroyAllWindows()\n",
    "    \n",
    "    t = 0\n",
    "    nm, ext = os.path.basename(name.split('.')[0]), os.path.basename(name.split('.')[1])\n",
    "    \n",
    "    for coord in coords:\n",
    "        x, y = coord[0], coord[1]\n",
    "        x0, y0 = x - int(size[0]/2), y - int(size[1]/2)\n",
    "        xw, yh = x + int(size[0]/2), y + int(size[1]/2)\n",
    "        \n",
    "        if x0 < 0:\n",
    "            xw = xw - x0\n",
    "            x0 = 0\n",
    "        if y0 < 0:\n",
    "            yh = yh - y0\n",
    "            y0 = 0\n",
    "            \n",
    "        title = img_c[y0:yh, x0:xw]\n",
    "        print(f\"Создан фрейм {os.path.join(out, nm + '_' + str(x)+ 'x' + str(y) + '.' + ext)}\")\n",
    "        cv2.imwrite(os.path.join(out, nm + '_' + str(x) + 'x' + str(y) + '.' + ext), title)\n",
    "                    \n",
    "        t += 1\n",
    "        \n",
    "    return f'Создано вырезок: {t}'"
   ]
  },
  {
   "cell_type": "markdown",
   "id": "7eb07b6a",
   "metadata": {},
   "source": [
    "**Применяем скрипт click_sampler итеративно для всех изображений в папке frame**"
   ]
  },
  {
   "cell_type": "code",
   "execution_count": null,
   "id": "375f1e06",
   "metadata": {},
   "outputs": [],
   "source": [
    "pth = 'frames'\n",
    "out = '640x640'\n",
    "\n",
    "out_pth = os.path.join(pth, out)\n",
    "\n",
    "if not os.path.exists(out_pth):\n",
    "    os.mkdir(out_pth)\n",
    "\n",
    "for file in ns.natsorted(os.listdir(pth)):\n",
    "    print(os.path.join(out_pth, os.path.basename(file)))\n",
    "    click_sampler(os.path.join(pth, os.path.basename(file)), (640,640), out_pth)"
   ]
  },
  {
   "cell_type": "markdown",
   "id": "53edb387",
   "metadata": {},
   "source": [
    "## 3. Разметка данных:\n",
    "* Выберите любой инструмент для разметки данных (например, LabelImg, LabelMe, CVAT, VoTT и т.д.).\n",
    "* Разметьте объекты на каждом кадре, используя bounding boxes, и присвойте им соответствующие классы.\n",
    "* Убедитесь, что разметка сохранена в формате, совместимом с YOLO (текстовые файлы с координатами и метками классов)."
   ]
  },
  {
   "cell_type": "markdown",
   "id": "bf3193d2",
   "metadata": {},
   "source": [
    "Для разметки изображений будем использовать VGG Image Annotation (VIA) - браузерный инструмент разметки изображений для создания обучающих выборок.\n",
    "Инструмент обладает рядом преимуществ, однако для возможности загрузки размеченных изображений в YOLO, будет необходим скрипт VIA2YOLO_detect, приведенный ниже."
   ]
  },
  {
   "cell_type": "markdown",
   "id": "c3b12d7b",
   "metadata": {},
   "source": [
    "В рамках задания будем размечать автомобили для решения задачи обнаружения (локализация объекта, определение его класса и примерных размеров на изображении). Используем разметку bounding boxes – ограничивающие прямоугольники."
   ]
  },
  {
   "cell_type": "markdown",
   "id": "8058e1c3",
   "metadata": {},
   "source": [
    "### Порядок работы:\n",
    "1. Открыв VIA в браузере, загружаем полученную выборку 640х640.\n",
    "2. Выбираем тип разметки в меню Region Shape - для задачи детекции это Rectangle.\n",
    "3. Настраиваем атрибуты файлов:\n",
    "* заведомо пуустые (не содержащие автомобили)\n",
    "* один-два автомобиля\n",
    "* много автомобилей\n",
    "4. Также настраиваем атрибуты регионов разметки:\n",
    "* Name - Object\n",
    "* Type - Car (используем радио-кнопку; здесь не принципиально, т.к. класс один, но в случае нескольких классов объект обычно относится только к одному)\n",
    "* Значение def зхдесь также не играет особой роли (значение класс по умолчанию)\n",
    "5. Далее для каждого автомобиля создаем ограничивающие рамки, переходя к следующему изображению после заверешения обработки предыдущего.\n",
    "6. При необходимости редактируем рамки или удаляем их.\n",
    "7. После завершения разметки сохраняем результат в файл csv."
   ]
  },
  {
   "cell_type": "code",
   "execution_count": null,
   "id": "b85f9476",
   "metadata": {},
   "outputs": [],
   "source": [
    "def VIA2YOLO_detect(data, cls_codes, out_dir, imgsize):\n",
    "    \n",
    "    annot = pd.read_csv(data, index_col=0)\n",
    "    \n",
    "    if not os.path.exists(out_dir):\n",
    "        os.mkdir(out_dir)\n",
    "        \n",
    "    for label, row in annot.iterrows():\n",
    "        name, r_count, coords, cls = label, int(row[2]), json.loads(row[4]), json.loads(row[5])\n",
    "        cls = str(cls)\n",
    "        \n",
    "#         # with empty files for empty pics \n",
    "        if r_count == 0:\n",
    "            with open(out_dir + str(label[:-4]) + '.txt', 'w') as f:\n",
    "                f.write('')\n",
    "        \n",
    "        if r_count == 1:\n",
    "            if coords['name'] == 'rect':\n",
    "                xywh = []\n",
    "                xywh.append(coords['x']/imgsize[0] + (coords['width']/imgsize[0])/2)\n",
    "                xywh.append(coords['y']/imgsize[1] + (coords['height']/imgsize[1])/2)\n",
    "                xywh.append(coords['width']/imgsize[0])\n",
    "                xywh.append(coords['height']/imgsize[1])\n",
    "\n",
    "                for key in cls_codes.keys():\n",
    "                    if key in cls:\n",
    "                        cls_id = cls_codes[key]\n",
    "\n",
    "                fin_str = str(cls_id) + ' ' + str(xywh)[1:-1].replace(',','')\n",
    "\n",
    "                with open(out_dir + str(label[:-4]) + '.txt', 'w') as f:\n",
    "                    f.write(fin_str + '\\n')\n",
    "            \n",
    "        if r_count > 1:\n",
    "            if coords['name'] == 'rect':\n",
    "                xywh = []\n",
    "                xywh.append(coords['x']/imgsize[0] + (coords['width']/imgsize[0])/2)\n",
    "                xywh.append(coords['y']/imgsize[1] + (coords['height']/imgsize[1])/2)\n",
    "                xywh.append(coords['width']/imgsize[0])\n",
    "                xywh.append(coords['height']/imgsize[1])\n",
    "\n",
    "                for key in cls_codes.keys():\n",
    "                    if key in cls:\n",
    "                        cls_id = cls_codes[key]\n",
    "\n",
    "                fin_str = str(cls_id) + ' ' + str(xywh)[1:-1].replace(',','')\n",
    "\n",
    "                with open(out_dir + str(label[:-4]) + '.txt', 'a') as f:\n",
    "                    f.write(fin_str + '\\n')\n",
    "    \n",
    "    return annot['region_attributes'].value_counts()"
   ]
  },
  {
   "cell_type": "code",
   "execution_count": null,
   "id": "17db7dbb",
   "metadata": {},
   "outputs": [],
   "source": [
    "data = 'from_VIA_detect.csv'\n",
    "out_dir = './data_labels/'\n",
    "\n",
    "# словарь имен классов - задает соответствие между текстовой разметкой из VIA и индексами для формата YOLO\n",
    "mcodes = { \n",
    "    'object_A': 0,\n",
    "    'object_B': 1,\n",
    "    'object_C': 2,\n",
    "}\n",
    "\n",
    "mcodes = {'bear': 0} # единственный класс\n",
    "\n",
    "VIA2YOLO_detect(data, mcodes, out_dir, (640, 640))"
   ]
  },
  {
   "cell_type": "markdown",
   "id": "a09a4fe9",
   "metadata": {},
   "source": [
    "## 4. Структура датасета:\n",
    "* Создайте папки для изображений и аннотаций (например, images/ и labels/).\n",
    "* Проверьте, что имена файлов изображений и соответствующих аннотаций совпадают (например, image1.jpg и image1.txt)."
   ]
  },
  {
   "cell_type": "markdown",
   "id": "167bc0b7",
   "metadata": {},
   "source": [
    "## 5. Проверка данных:\n",
    "* Выберите несколько изображений и убедитесь, что bounding boxes отображаются корректно.\n",
    "* Проверьте формат аннотаций на соответствие требованиям YOLO."
   ]
  },
  {
   "cell_type": "markdown",
   "id": "c5423144",
   "metadata": {},
   "source": [
    "## 6. Подготовка отчета:\n",
    "* Напишите краткий отчет (1-2 страницы), в котором опишите:\n",
    "* Процесс выбора видео и извлечения кадров.+\n",
    "* Используемый инструмент для разметки и опыт его использования.\n",
    "* Возможные сложности и способы их решения.\n",
    "* Приложите несколько примеров размеченных изображений.\n"
   ]
  }
 ],
 "metadata": {
  "kernelspec": {
   "display_name": "Python 3 (ipykernel)",
   "language": "python",
   "name": "python3"
  },
  "language_info": {
   "codemirror_mode": {
    "name": "ipython",
    "version": 3
   },
   "file_extension": ".py",
   "mimetype": "text/x-python",
   "name": "python",
   "nbconvert_exporter": "python",
   "pygments_lexer": "ipython3",
   "version": "3.9.13"
  }
 },
 "nbformat": 4,
 "nbformat_minor": 5
}
