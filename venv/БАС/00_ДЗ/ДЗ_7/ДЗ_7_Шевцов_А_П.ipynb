{
 "cells": [
  {
   "cell_type": "markdown",
   "id": "42c081ee-6ddc-4d3a-a166-83a4ebca67cf",
   "metadata": {},
   "source": [
    "# Домашнее задание: Оценка качества модели по метрикам для задач классификации и детекции"
   ]
  },
  {
   "cell_type": "markdown",
   "id": "22bbaee3-7797-42e5-897d-9e25930c6d3c",
   "metadata": {},
   "source": [
    "## Часть 1: Теоретические вопросы"
   ]
  },
  {
   "cell_type": "markdown",
   "id": "68e4b683-6304-4b7c-8505-11620274f4d8",
   "metadata": {},
   "source": [
    "### Метрики классификации"
   ]
  },
  {
   "cell_type": "markdown",
   "id": "7db5f77d-cb89-4eca-83e7-28e9e2818127",
   "metadata": {},
   "source": [
    "__1. Вопрос 1: Объясните разницу между precision (точностью) и recall (полнотой) в контексте задачи бинарной классификации.__"
   ]
  },
  {
   "cell_type": "markdown",
   "id": "ad3ca92f-fe36-4422-a144-88537abaf5d4",
   "metadata": {},
   "source": [
    "__Ответ:__"
   ]
  },
  {
   "cell_type": "markdown",
   "id": "2baf2a22-5cc9-48a7-aecc-94c07ebf3666",
   "metadata": {},
   "source": [
    "Разница между точностью и полнотой заключается в том, что чем выше точность, тем меньше модель выдает ложных срабатываний. а чем выше полнота, тем у модели меньше пропусков реальных определений класса. Точность определяет, как много ложных срабатываний, полнота - как много пропусков в правильных ответах.\n",
    "То есть условно можно сказать, что точность - это мера качества определения классов, полнота - мера количества определения."
   ]
  },
  {
   "cell_type": "markdown",
   "id": "d93a555e-ff2a-49ff-b0a1-e3e742f83f3c",
   "metadata": {},
   "source": [
    "__2. Вопрос 2: Что такое F1-мера и почему она полезна?__"
   ]
  },
  {
   "cell_type": "markdown",
   "id": "c2b2c57e-2e2b-4697-8231-147489011e1e",
   "metadata": {},
   "source": [
    "__Ответ:__"
   ]
  },
  {
   "cell_type": "markdown",
   "id": "51c9c52f-7aa9-4808-84bb-c5e596ca12fc",
   "metadata": {},
   "source": [
    "F1-мера - объединенная метрика, использует гармоническое среднее точности и полноты. Позволяет с помощью одной характеристики найти \"золотую середину\" между полнотой и точностью. F1-мера учитывает как ложные срабатывания, так и пропущенные позитивы, а следовательно, менее подвержена влиянию несбалансированных данных по сравнению с точностью."
   ]
  },
  {
   "cell_type": "markdown",
   "id": "4e0992f3-ebf5-4862-a847-96594c4e0490",
   "metadata": {},
   "source": [
    "__3. Вопрос 3: Опишите ROC-кривую и метрику AUC. Как они используются для оценки моделей классификации?__"
   ]
  },
  {
   "cell_type": "markdown",
   "id": "82e907b2-00a2-4722-9f09-abaeed5e7879",
   "metadata": {},
   "source": [
    "__Ответ:__"
   ]
  },
  {
   "cell_type": "markdown",
   "id": "8fda5dc6-a194-427f-a7aa-87d6095a0bb8",
   "metadata": {},
   "source": [
    "* ROC-кривая (Receiver Operating Characteristic) — это график, отображающий по оси Y доли истинно положительных предсказаний (TPR - полнота), а по оси X долю ложно положительных предсказаний (FPR) при различных порогах классификации. Чем больше значений порогов классификации (confidence), тем точнее кривая как характеристика качества модели.\n",
    "* AUC (Area Under Curve) - площадь под кривой ROC. Измеряет общую способность модели различать классы. Чем больше AUC, тем больше точность модели.\n",
    "\n",
    "Данные метрики не зависят от порога и устойчивы к несбалансированным данным, т.к. AUC учитывает ранжирование предсказаний, а не их абсолютные значения."
   ]
  },
  {
   "cell_type": "markdown",
   "id": "7f32cd5c-d711-45b4-a343-28678a85e67c",
   "metadata": {},
   "source": [
    "__4. Вопрос 4: В задаче многоклассовой классификации, почему метрика accuracy (доля правильных ответов) может быть вводящей в заблуждение?__"
   ]
  },
  {
   "cell_type": "markdown",
   "id": "2aecf338-f9ef-4d0c-b468-bc3b107cae95",
   "metadata": {},
   "source": [
    "__Ответ:__"
   ]
  },
  {
   "cell_type": "markdown",
   "id": "45f78313-36cc-4fe1-abcf-69eb3e3627eb",
   "metadata": {},
   "source": [
    "Метрика Accuracy учитывает общее количество верных определений классов. То есть, если кллассы не сбалансированы, и основную массу объектов составляет класс, определять который обучена модель (при этом она не может определять другие классы), Accuracy будет очень высокой. При этом модель будет практически бесполезной для других классов."
   ]
  },
  {
   "cell_type": "markdown",
   "id": "ef3f424d-71a5-40d6-81f2-7b5f6d5a430d",
   "metadata": {},
   "source": [
    "__5. Вопрос 5: Объясните, как матрица ошибок (confusion matrix) используется при оценке моделей классификации.__"
   ]
  },
  {
   "cell_type": "markdown",
   "id": "4201d2a1-7d31-47fc-8a64-255165cf34ed",
   "metadata": {},
   "source": [
    "__Ответ:__"
   ]
  },
  {
   "cell_type": "markdown",
   "id": "f6fcde9c-0a85-4c64-9722-a94ea589fc33",
   "metadata": {},
   "source": [
    "Матрица ошибок позволяет оценить производительность модели. Она показывает, сколько объектов класса было классифицировано верно (TP - True Positive), сколько объектов - неверно (FP - False Positive), сколько объектов другого класса было классфицировано, как объект данного класса (TN - True Negative), и сколько объектов других классов было классфицировано, как объекты другиого класса (FN - False Negative).\n",
    "Матрица ошибок не является метрикой, но позволяет вычислить такие метрики, как точность, полнота и F1-мера"
   ]
  },
  {
   "cell_type": "markdown",
   "id": "3264d463-7660-418e-a6ce-fe221f5f04b4",
   "metadata": {},
   "source": [
    "### Метрики детекции"
   ]
  },
  {
   "cell_type": "markdown",
   "id": "f1c77e6e-70ff-407f-a9bf-043e670ac2cb",
   "metadata": {},
   "source": [
    "__6. Вопрос 6: Что такое Intersection over Union (IoU) и как он используется в задачах детекции объектов?__"
   ]
  },
  {
   "cell_type": "markdown",
   "id": "c12ff0c5-b51d-480f-a34c-9d3ad49c12b3",
   "metadata": {},
   "source": [
    "__Ответ:__"
   ]
  },
  {
   "cell_type": "markdown",
   "id": "2f045953-3c04-4422-b30f-4239ce5f7211",
   "metadata": {},
   "source": [
    "Intersection over Union (IoU) - Пересечение над Объединением - это основная метрика для оценки точности детекции объектов. Она представляет собой отношение площади пересечения предсказанной границы объекта и реальной к объединенной площади этих границ.\n",
    "Метрика оценивает совпадение истинной и предсказанной границ объекта.\n",
    "Для IoU подбирается порог confidence (по умолчанию обычно принимается равным 0,5). Это фильтр предсказаний - те, для которых IoU < conf<sub>IoU</sub> отбрасыавются как ненадежные, для которых IoU > conf<sub>IoU</sub> будут оцениваться далее метриками классификации.\n",
    "Например, при таких входных данных:\n",
    "* Площадь пересечения предсказанного и реального ограничивающих прямоугольников составляет 100 пикселей;\n",
    "* Площадь объединения предсказанного и реального ограничивающих прямоугольников составляет 250 пикселей;\n",
    "IoU = 100 / 250 = 0,4\n",
    "\n",
    "Если пороговое значение принято равным 0,5, то такое предсказание не будет считаться верным и будет отброшено."
   ]
  },
  {
   "cell_type": "markdown",
   "id": "f71ab7ca-320f-4276-86c8-18de2eed248c",
   "metadata": {},
   "source": [
    "__7. Вопрос 7: Опишите метрику mean Average Precision (mAP) в контексте детекции объектов.__"
   ]
  },
  {
   "cell_type": "markdown",
   "id": "fe66275d-2039-4864-bd02-fa011e8f6fb2",
   "metadata": {},
   "source": [
    "__Ответ:__"
   ]
  },
  {
   "cell_type": "markdown",
   "id": "78aa4a4f-e816-4428-8baa-ebfa53f3472e",
   "metadata": {},
   "source": [
    "В рамках объяснения mean Average Precision (mAP) вначале необходимо сказать о метрике Average Precision (AP).\n",
    "\n",
    "Средняя точность (Average Precision, AP) — это интегральная метрика, объединющая информацию о точности и полноте при различных порогах уверенности модели.\n",
    "\n",
    "AP вычисляется:\n",
    "* графически: построением кривой зависимости точности от полноты при изменении порога уверенности модели:\n",
    " * По оси X: Полнота (Recall).\n",
    " * По оси Y: Точность (Precision).\n",
    "* дискретно:\n",
    " * Сортируются предсказания по убыванию уверенности модели.\n",
    " * Для каждого порога уверенности вычисляются значения точности и полноты.\n",
    " * Площадь под кривой приближается суммированием по отрезкам.\n",
    " \n",
    "mean Average Precision (mAP) вычисляется как среднее значение AP для всех классов модели. Ее основное назначение - измерить общую производительность модели по всем классам и обеспечить возможность сравнивать модели между собой на основе единой метрики."
   ]
  },
  {
   "cell_type": "markdown",
   "id": "d8ca523d-1891-4c13-a103-818133ca434c",
   "metadata": {},
   "source": [
    "__8. Вопрос 8: Объясните, как порог уверенности (confidence threshold) влияет на precision и recall в задачах детекции.__"
   ]
  },
  {
   "cell_type": "markdown",
   "id": "5030259c-0c9a-47f5-8dc8-a174c73af4f2",
   "metadata": {},
   "source": [
    "__Ответ:__"
   ]
  },
  {
   "cell_type": "markdown",
   "id": "7d907212-5bf7-47ca-87c9-c9b1446c41d9",
   "metadata": {},
   "source": [
    "Порог уверенности интерпретируется как вероятность принадлежности объекта к классу. Можно задавать некое значение confidence score, ниже которого все предсказания буду считаться некорректными. Например, установив значение порога уверенности равным 0,5, мы получим, что при детекции значениями ниже 0,5 будут отбрасываться как сомнительные, рассматриваться будут только от 0,5 и выше.\n",
    "Соответственно, точность (precision) повысится, но полнота (recall) снизится, т.к. мы снижаем вероятность ложного срабатывания, но увеличиваем вероятность отсеивания верных результатов."
   ]
  },
  {
   "cell_type": "markdown",
   "id": "f9c1e4ac-4077-48dd-bc17-79cb56bdfb77",
   "metadata": {},
   "source": [
    "__9. Вопрос 9: Какова роль алгоритма Non-Maximum Suppression (NMS) в детекции объектов и как он влияет на метрики оценки?__"
   ]
  },
  {
   "cell_type": "markdown",
   "id": "a84a43fb-e733-401b-8577-10e0ea2b82ef",
   "metadata": {},
   "source": [
    "__Ответ:__"
   ]
  },
  {
   "cell_type": "markdown",
   "id": "53dd1820-9f06-43e3-b8ea-6d327a553bd0",
   "metadata": {},
   "source": [
    "Non-Maximum Suppression (NMS) устраняет дублирующие предсказания. Метод оставляет только наиболее вероятные из них. Применение NMS уменьшает количество ложных срабатываний и увеличивает точность модели."
   ]
  },
  {
   "cell_type": "markdown",
   "id": "b8034bf5-b0b0-4558-ae29-a8b5884bbd9f",
   "metadata": {},
   "source": [
    "__10. Вопрос 10: Обсудите проблемы оценки моделей на наборах данных с несбалансированными классами в задачах детекции.__"
   ]
  },
  {
   "cell_type": "markdown",
   "id": "8fa03f6c-7f19-44e3-9ce0-a7d6a37ee1a2",
   "metadata": {},
   "source": [
    "__Ответ:__"
   ]
  },
  {
   "cell_type": "markdown",
   "id": "3cfa6dd5-7204-4666-b190-ba7d784628d8",
   "metadata": {},
   "source": [
    "Если модель обучается на несбалансированных данных, она склонна к смещению в сторону более представленного класса, что приводит к неверной ее работе. Обучение на несбалансированных данных приводит к следующим проблемам:\n",
    "* искажение метрик - следовательно, неверная оценка работы модели;\n",
    "* низкая способность обнаружения наименее представленных классов;\n",
    "* потеря информации (вытекает из предыдущего пункта) - при игнорировании наименее представленного класса при применении порогов доверия могут теряться целые классы;\n",
    "* увелиение количества ложных срабатываний - предсказывются наименьшие классы там, где их нет.\n",
    "\n",
    "Для ликвидации несбалансированности данных используются следующие методы: \"взвешивание\" классов, т.е. присвоение веса каждому классу в зависимости от его распространенности в выборке; своместное и раздельное увеличение и уменьшение выборки; генерация синтетических данных и др."
   ]
  },
  {
   "cell_type": "markdown",
   "id": "c5401704-44c7-4c8c-8cae-d890444e737e",
   "metadata": {},
   "source": [
    "## Часть 2: Практическое задание на Python"
   ]
  },
  {
   "cell_type": "markdown",
   "id": "aa53f310-180d-489a-abf6-1126d6f16c68",
   "metadata": {},
   "source": [
    "### Задание 1: Метрики бинарной классификации"
   ]
  },
  {
   "cell_type": "markdown",
   "id": "9e3faf9c-c362-458d-980d-1e8899e7c154",
   "metadata": {},
   "source": [
    "Даны следующие истинные метки и предсказания для задачи бинарной классификации:\n",
    "* Истинные метки (0 - негативный класс, 1 - позитивный класс)\n",
    "\n",
    "y_true = [0, 1, 0, 1, 0, 1, 0, 0, 1, 1]\n",
    "\n",
    "* Предсказанные метки\n",
    "\n",
    "y_pred = [0, 0, 0, 1, 0, 1, 1, 0, 1, 1]\n",
    "\n",
    "__Инструкции:__\n",
    "1. Рассчитайте матрицу ошибок (confusion matrix).\n",
    "2. Вычислите следующие метрики:\n",
    "* Accuracy (доля правильных ответов)\n",
    "* Precision (точность)\n",
    "* Recall (полнота)\n",
    "* F1-мера"
   ]
  },
  {
   "cell_type": "markdown",
   "id": "ba34ca86-27c3-4539-ae25-c9841bb1802b",
   "metadata": {},
   "source": [
    "__Расчет матрицы ошибок__"
   ]
  },
  {
   "cell_type": "markdown",
   "id": "65b8992e-3a63-495d-bb62-9d9a8cf1bb39",
   "metadata": {},
   "source": [
    "* Для формирования матрицы ошибок используем библиотеку numpy"
   ]
  },
  {
   "cell_type": "code",
   "execution_count": 132,
   "id": "9d6b385f-0a51-478e-b9c0-35ade8b3cbad",
   "metadata": {
    "scrolled": true
   },
   "outputs": [
    {
     "data": {
      "text/plain": [
       "array([[0, 0],\n",
       "       [1, 0],\n",
       "       [0, 0],\n",
       "       [1, 1],\n",
       "       [0, 0],\n",
       "       [1, 1],\n",
       "       [0, 1],\n",
       "       [0, 0],\n",
       "       [1, 1],\n",
       "       [1, 1]])"
      ]
     },
     "execution_count": 132,
     "metadata": {},
     "output_type": "execute_result"
    }
   ],
   "source": [
    "import numpy as np\n",
    "\n",
    "y_true = [0, 1, 0, 1, 0, 1, 0, 0, 1, 1]\n",
    "y_pred = [0, 0, 0, 1, 0, 1, 1, 0, 1, 1]\n",
    "\n",
    "# Формируем массив предсказанных и реальных значений\n",
    "result = np.column_stack((y_true, y_pred))\n",
    "\n",
    "result"
   ]
  },
  {
   "cell_type": "markdown",
   "id": "f905f592",
   "metadata": {},
   "source": [
    "* Далее для формирования матрицы ошибок воспользуемся функцией np.histogramdd (распределение результатов классификации по каждому классу)"
   ]
  },
  {
   "cell_type": "code",
   "execution_count": 133,
   "id": "d87f473a",
   "metadata": {
    "scrolled": true
   },
   "outputs": [
    {
     "data": {
      "text/plain": [
       "array([[4., 1.],\n",
       "       [1., 4.]])"
      ]
     },
     "execution_count": 133,
     "metadata": {},
     "output_type": "execute_result"
    }
   ],
   "source": [
    "# функция histogramdd\n",
    "conf_mat = np.histogramdd(result, bins=(2, 2), range=[(0, 2), (0, 2)])\n",
    "conf_mat[0]"
   ]
  },
  {
   "cell_type": "markdown",
   "id": "2f178b38",
   "metadata": {},
   "source": [
    "* __Визуализация данных__"
   ]
  },
  {
   "cell_type": "code",
   "execution_count": 134,
   "id": "cd0c4a67",
   "metadata": {
    "scrolled": true
   },
   "outputs": [
    {
     "data": {
      "text/plain": [
       "<Axes: >"
      ]
     },
     "execution_count": 134,
     "metadata": {},
     "output_type": "execute_result"
    },
    {
     "data": {
      "image/png": "[encoded data removed]",
      "text/plain": [
       "<Figure size 500x400 with 2 Axes>"
      ]
     },
     "metadata": {},
     "output_type": "display_data"
    }
   ],
   "source": [
    "import seaborn as sn\n",
    "import pandas as pd\n",
    "import matplotlib.pyplot as plt\n",
    "\n",
    "# преобразуем матрицу в датафрейм Pandas\n",
    "df_cm = pd.DataFrame(conf_mat[0])\n",
    "\n",
    "# Задаем параметры вывода матрицы\n",
    "plt.figure(figsize = (5, 4))\n",
    "\n",
    "# Визализация датафрейма\n",
    "sn.heatmap(df_cm, annot=True)"
   ]
  },
  {
   "cell_type": "markdown",
   "id": "04af2e4e",
   "metadata": {},
   "source": [
    "* Также матрицу ошибок можно построить с помощью готовой функции библиотеки sklearn"
   ]
  },
  {
   "cell_type": "code",
   "execution_count": 135,
   "id": "fd65e199",
   "metadata": {},
   "outputs": [
    {
     "data": {
      "text/plain": [
       "array([[4, 1],\n",
       "       [1, 4]])"
      ]
     },
     "execution_count": 135,
     "metadata": {},
     "output_type": "execute_result"
    }
   ],
   "source": [
    "from sklearn.metrics import confusion_matrix\n",
    "\n",
    "# Построение матрицы ошибок\n",
    "cf_mat = confusion_matrix(y_true, y_pred)\n",
    "\n",
    "cf_mat"
   ]
  },
  {
   "cell_type": "markdown",
   "id": "63992544-00fe-4edc-a9ad-2c662094b2c1",
   "metadata": {},
   "source": [
    "__Вычисляем метрики__"
   ]
  },
  {
   "cell_type": "markdown",
   "id": "0acec5f7-0f06-4ead-a440-867b9dc6f817",
   "metadata": {},
   "source": [
    "* Для определения метрик необходимо зададим параметры TP, TN, FP, FN из матрицы ошибок"
   ]
  },
  {
   "cell_type": "code",
   "execution_count": 137,
   "id": "4b748082-1205-4b8a-88e5-544447b57a85",
   "metadata": {},
   "outputs": [],
   "source": [
    "TP = cf_mat[0, 0]\n",
    "FN = cf_mat[0, 1]\n",
    "FP = cf_mat[1, 0]\n",
    "TN = cf_mat[1, 1]"
   ]
  },
  {
   "cell_type": "markdown",
   "id": "612c3eb3-c663-49ac-a439-21750d8d8c3a",
   "metadata": {},
   "source": [
    "* Accuracy (доля правильных ответов)"
   ]
  },
  {
   "cell_type": "code",
   "execution_count": 138,
   "id": "193930e9-00de-4f4e-b85e-e074cfeb16e0",
   "metadata": {},
   "outputs": [
    {
     "data": {
      "text/plain": [
       "np.float64(0.8)"
      ]
     },
     "execution_count": 138,
     "metadata": {},
     "output_type": "execute_result"
    }
   ],
   "source": [
    "accuracy = (TP + TN) / (TP + TN + FP + FN)\n",
    "accuracy"
   ]
  },
  {
   "cell_type": "markdown",
   "id": "f902b4fc-60c4-4bd9-8653-6eacb908264f",
   "metadata": {},
   "source": [
    "* Precision (точность)"
   ]
  },
  {
   "cell_type": "code",
   "execution_count": 139,
   "id": "236d47a4-95d8-44a4-9f0f-e28f17197298",
   "metadata": {},
   "outputs": [
    {
     "data": {
      "text/plain": [
       "np.float64(0.8)"
      ]
     },
     "execution_count": 139,
     "metadata": {},
     "output_type": "execute_result"
    }
   ],
   "source": [
    "precision = TP / (TP + FP)\n",
    "precision"
   ]
  },
  {
   "cell_type": "markdown",
   "id": "9f54f4f0-2090-481c-a484-d9b269571f9a",
   "metadata": {},
   "source": [
    "* Recall (полнота)"
   ]
  },
  {
   "cell_type": "code",
   "execution_count": 140,
   "id": "95c119ca-a965-48eb-86fe-dea5396ed768",
   "metadata": {},
   "outputs": [
    {
     "data": {
      "text/plain": [
       "np.float64(0.8)"
      ]
     },
     "execution_count": 140,
     "metadata": {},
     "output_type": "execute_result"
    }
   ],
   "source": [
    "recall = TP / (TP + FN)\n",
    "recall"
   ]
  },
  {
   "cell_type": "markdown",
   "id": "5612bf15-f922-40fe-a5f3-818cfb7d2939",
   "metadata": {},
   "source": [
    "* F1-мера"
   ]
  },
  {
   "cell_type": "code",
   "execution_count": 141,
   "id": "ad9163ea-203d-4575-ae97-a3007c95d047",
   "metadata": {},
   "outputs": [
    {
     "data": {
      "text/plain": [
       "np.float64(0.8000000000000002)"
      ]
     },
     "execution_count": 141,
     "metadata": {},
     "output_type": "execute_result"
    }
   ],
   "source": [
    "f1 = 2 * (precision * recall) / (precision + recall)\n",
    "f1"
   ]
  },
  {
   "cell_type": "markdown",
   "id": "cd8ae133-a390-4be6-b899-1e998c9aae49",
   "metadata": {},
   "source": [
    "### Задание 2: Метрики детекции объектов"
   ]
  },
  {
   "cell_type": "markdown",
   "id": "a60dfe64-e66a-4653-b54f-dedc75d8a303",
   "metadata": {},
   "source": [
    "Предположим, у вас есть модель детекции объектов, которая возвращает ограничивающие рамки (bounding boxes) и оценки уверенности для каждого обнаруженного объекта. Даны следующие истинные рамки и предсказанные рамки для одного изображения:\n",
    "\n",
    "Истинные ограничивающие рамки (формат: [x_min, y_min, x_max, y_max])\n",
    "\n",
    "gt_boxes = [\n",
    "\n",
    "    [50, 50, 150, 150],\n",
    "\n",
    "    [30, 30, 70, 70]\n",
    "\n",
    "]\n",
    "\n",
    "Предсказанные ограничивающие рамки и оценки уверенности\n",
    "\n",
    "pred_boxes = [\n",
    "\n",
    "    {'box': [48, 48, 152, 152], 'score': 0.9},\n",
    "    \n",
    "    {'box': [28, 28, 72, 72], 'score': 0.75},\n",
    "    \n",
    "    {'box': [100, 100, 200, 200], 'score': 0.6}\n",
    "\n",
    "]\n",
    "\n",
    "__Инструкции:__\n",
    "1. Реализуйте функцию для расчета IoU (Intersection over Union) между двумя ограничивающими рамками.\n",
    "2. При заданном пороге IoU 0.5 определите, какие предсказанные рамки являются истинно положительными, а какие — ложноположительными.\n",
    "3. Рассчитайте precision и recall для этой детекции."
   ]
  },
  {
   "cell_type": "markdown",
   "id": "ae629a67-fd76-4bc6-a01a-17dac091e452",
   "metadata": {},
   "source": [
    "__Функция для расчета IoU__"
   ]
  },
  {
   "cell_type": "code",
   "execution_count": 142,
   "id": "45e6d0af-acef-452f-b116-ca02cfc933d8",
   "metadata": {},
   "outputs": [],
   "source": [
    "# функция расчета пересечения областей\n",
    "def get_intersection(gt_box, pred_box):\n",
    "    gt_x_min = max(gt_box[0], pred_box[0])\n",
    "    ls_x_max = min(gt_box[2], pred_box[2])\n",
    "    gt_y_min = max(gt_box[1], pred_box[1])\n",
    "    ls_y_max = min(gt_box[3], pred_box[3])\n",
    "\n",
    "    if gt_x_min >= ls_x_max or gt_y_min >= ls_y_max: \n",
    "        return 0\n",
    "    else:\n",
    "        return (ls_x_max - gt_x_min) * (ls_y_max - gt_y_min)\n",
    "\n",
    "# функция расчета объединения областей\n",
    "def get_union(gt_box, pred_box):\n",
    "    gt_box_area = (gt_box[2] - gt_box[0]) * (gt_box[3] - gt_box[1])\n",
    "    pred_box_area = (pred_box[2] - pred_box[0]) * (pred_box[3] - pred_box[1])\n",
    "    union_area = gt_box_area + pred_box_area - get_intersection(gt_box, pred_box)\n",
    "    return union_area \n",
    "\n",
    "# функция расчета IoU\n",
    "def iou(gt_box, pred_box):\n",
    "    return get_intersection(gt_box, pred_box) / get_union(gt_box, pred_box)    "
   ]
  },
  {
   "cell_type": "markdown",
   "id": "e498c619-76fb-436b-9403-7313705419d2",
   "metadata": {},
   "source": [
    "__Определим, какие предсказанные рамки являются истинно положительными, а какие — ложно положительными__"
   ]
  },
  {
   "cell_type": "markdown",
   "id": "490cbcce-af05-4aa0-b4f2-b59c16d79a93",
   "metadata": {},
   "source": [
    "* Задаем параметры и переменные"
   ]
  },
  {
   "cell_type": "code",
   "execution_count": 143,
   "id": "9381720d-0a79-4634-9a20-45e5ee74556e",
   "metadata": {},
   "outputs": [],
   "source": [
    "conf_score = 0.5\n",
    "TP_status = 'истинно положительная'\n",
    "FP_status = 'ложно попжительная'\n",
    "\n",
    "gt_boxes = [\n",
    "[50, 50, 150, 150],\n",
    "[30, 30, 70, 70]\n",
    "]\n",
    "\n",
    "pred_boxes = [\n",
    "{'box': [48, 48, 152, 152], 'score': 0.9},\n",
    "{'box': [28, 28, 72, 72], 'score': 0.75},\n",
    "{'box': [100, 100, 200, 200], 'score': 0.6}\n",
    "]\n",
    "\n",
    "res_out = []"
   ]
  },
  {
   "cell_type": "markdown",
   "id": "004b6c33-24b3-4df3-81c5-f99cc428531c",
   "metadata": {},
   "source": [
    "* Функция, определяющая, каким является предсказание"
   ]
  },
  {
   "cell_type": "code",
   "execution_count": 144,
   "id": "7cb6a6a2-2571-44b9-bfc8-35be785a2d9e",
   "metadata": {},
   "outputs": [],
   "source": [
    "def TP_or_FP(gt_boxes, pred_boxes):\n",
    "    # проверяем предсказанные рамки относительно истинных\n",
    "    # для этого сравниваем каждую предсказанную рамку с истинной\n",
    "    for pred in pred_boxes:\n",
    "        for gt in gt_boxes:\n",
    "            # здесь необходимо проверить только те рамки,\n",
    "            # у которых статус еще либо не определен, либо определен как ложно положительный\n",
    "            if not 'status' in pred or pred['status'] == FP_status:\n",
    "                # сравниваем полученное значение IoU с пороговым значением\n",
    "                if iou(gt, pred['box']) < conf_score:\n",
    "                    temp = FP_status\n",
    "                else:\n",
    "                    temp = TP_status\n",
    "            # добавляем статус проверки к предсказанной рамке\n",
    "            pred['status'] = temp\n",
    "        # добавляем проверенную рамку к результату\n",
    "        res_out.append(pred)\n",
    "    return res_out"
   ]
  },
  {
   "cell_type": "code",
   "execution_count": 145,
   "id": "b38e1ff1-deb1-4a59-878c-bcccf344e40a",
   "metadata": {},
   "outputs": [
    {
     "data": {
      "text/plain": [
       "[{'box': [48, 48, 152, 152], 'score': 0.9, 'status': 'истинно положительная'},\n",
       " {'box': [28, 28, 72, 72], 'score': 0.75, 'status': 'истинно положительная'},\n",
       " {'box': [100, 100, 200, 200], 'score': 0.6, 'status': 'ложно попжительная'}]"
      ]
     },
     "execution_count": 145,
     "metadata": {},
     "output_type": "execute_result"
    }
   ],
   "source": [
    "TP_or_FP(gt_boxes, pred_boxes)"
   ]
  },
  {
   "cell_type": "markdown",
   "id": "43d8c431-f882-4d2b-a78d-d4716365949c",
   "metadata": {},
   "source": [
    "__Расчет precision и recall для этой детекции__"
   ]
  },
  {
   "cell_type": "markdown",
   "id": "f82080c6-7243-4a4b-9e23-f96253feb942",
   "metadata": {},
   "source": [
    "* В данной детекции отсутстуют реальные объекты, которые модель не смогла обнаружить, т.к. количество реальных рамок совпадает с количеством истинно положительных предсказаний. Поэтому при расчете полноты принимаем FN = 0"
   ]
  },
  {
   "cell_type": "markdown",
   "id": "422707eb-999b-4f24-9d5e-7be8dfed2e5a",
   "metadata": {},
   "source": [
    "* Определяем значения TP и FP, как количество соответствующих значений в полученном списке res_out"
   ]
  },
  {
   "cell_type": "code",
   "execution_count": 146,
   "id": "e8b3168b-e013-45b0-8c79-6990973d6959",
   "metadata": {},
   "outputs": [],
   "source": [
    "FN = 0\n",
    "TP = len([i for i in res_out if i['status']==TP_status])\n",
    "FP = len([i for i in res_out if i['status']==FP_status])"
   ]
  },
  {
   "cell_type": "code",
   "execution_count": 147,
   "id": "1dbd81a1-7116-4cff-a384-0e48980dde33",
   "metadata": {},
   "outputs": [
    {
     "data": {
      "text/plain": [
       "2"
      ]
     },
     "execution_count": 147,
     "metadata": {},
     "output_type": "execute_result"
    }
   ],
   "source": [
    "TP"
   ]
  },
  {
   "cell_type": "code",
   "execution_count": 148,
   "id": "ca8757d2-3091-4945-8aff-d20855da5247",
   "metadata": {},
   "outputs": [
    {
     "data": {
      "text/plain": [
       "1"
      ]
     },
     "execution_count": 148,
     "metadata": {},
     "output_type": "execute_result"
    }
   ],
   "source": [
    "FP"
   ]
  },
  {
   "cell_type": "markdown",
   "id": "b5d11f28-f0eb-4a3f-9540-189909b21221",
   "metadata": {},
   "source": [
    "* Определяем precision"
   ]
  },
  {
   "cell_type": "code",
   "execution_count": 149,
   "id": "1c5030ee-72c0-4f40-ab9f-49cb66a6fd09",
   "metadata": {},
   "outputs": [
    {
     "data": {
      "text/plain": [
       "0.6666666666666666"
      ]
     },
     "execution_count": 149,
     "metadata": {},
     "output_type": "execute_result"
    }
   ],
   "source": [
    "precision = TP / (TP + FP)\n",
    "precision"
   ]
  },
  {
   "cell_type": "markdown",
   "id": "bd773942-f3fa-46b6-82e4-75a8b74ef833",
   "metadata": {},
   "source": [
    "* Определяем recall"
   ]
  },
  {
   "cell_type": "code",
   "execution_count": 150,
   "id": "e4dab407-e1b1-43a9-a59c-e1c1fd2a1ea2",
   "metadata": {},
   "outputs": [
    {
     "data": {
      "text/plain": [
       "1.0"
      ]
     },
     "execution_count": 150,
     "metadata": {},
     "output_type": "execute_result"
    }
   ],
   "source": [
    "recall = TP / (TP + FN)\n",
    "recall"
   ]
  }
 ],
 "metadata": {
  "kernelspec": {
   "display_name": "Python 3 (ipykernel)",
   "language": "python",
   "name": "python3"
  },
  "language_info": {
   "codemirror_mode": {
    "name": "ipython",
    "version": 3
   },
   "file_extension": ".py",
   "mimetype": "text/x-python",
   "name": "python",
   "nbconvert_exporter": "python",
   "pygments_lexer": "ipython3",
   "version": "3.12.3"
  }
 },
 "nbformat": 4,
 "nbformat_minor": 5
}
