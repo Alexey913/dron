{
 "cells": [
  {
   "cell_type": "markdown",
   "id": "7a195243",
   "metadata": {},
   "source": [
    "conda install pytorch torchvision torchaudio pytorch-cuda=11.8 -c pytorch -c nvidia"
   ]
  },
  {
   "cell_type": "markdown",
   "id": "d1093a7a",
   "metadata": {},
   "source": [
    "PyTorch — это популярный открытый фреймворк для машинного обучения, разработанный компанией Facebook (ныне Meta). Он предоставляет гибкую и интуитивно понятную платформу для разработки и обучения моделей глубокого обучения. Благодаря динамической вычислительной графике и простому интерфейсу, PyTorch стал выбором многих исследователей и инженеров в области искусственного интеллекта."
   ]
  },
  {
   "cell_type": "code",
   "execution_count": 3,
   "id": "795fed0e",
   "metadata": {},
   "outputs": [
    {
     "name": "stdout",
     "output_type": "stream",
     "text": [
      "Note: you may need to restart the kernel to use updated packages.\n"
     ]
    },
    {
     "name": "stderr",
     "output_type": "stream",
     "text": [
      "WARNING: Retrying (Retry(total=4, connect=None, read=None, redirect=None, status=None)) after connection broken by 'NewConnectionError('<pip._vendor.urllib3.connection.HTTPSConnection object at 0x000001C30D7855B0>: Failed to establish a new connection: [Errno 11001] getaddrinfo failed')': /simple/torch/\n",
      "WARNING: Retrying (Retry(total=3, connect=None, read=None, redirect=None, status=None)) after connection broken by 'NewConnectionError('<pip._vendor.urllib3.connection.HTTPSConnection object at 0x000001C30ECD4CE0>: Failed to establish a new connection: [Errno 11001] getaddrinfo failed')': /simple/torch/\n",
      "WARNING: Retrying (Retry(total=2, connect=None, read=None, redirect=None, status=None)) after connection broken by 'NewConnectionError('<pip._vendor.urllib3.connection.HTTPSConnection object at 0x000001C30ED42150>: Failed to establish a new connection: [Errno 11001] getaddrinfo failed')': /simple/torch/\n",
      "WARNING: Retrying (Retry(total=1, connect=None, read=None, redirect=None, status=None)) after connection broken by 'NewConnectionError('<pip._vendor.urllib3.connection.HTTPSConnection object at 0x000001C30ED42AB0>: Failed to establish a new connection: [Errno 11001] getaddrinfo failed')': /simple/torch/\n",
      "WARNING: Retrying (Retry(total=0, connect=None, read=None, redirect=None, status=None)) after connection broken by 'NewConnectionError('<pip._vendor.urllib3.connection.HTTPSConnection object at 0x000001C30ED313A0>: Failed to establish a new connection: [Errno 11001] getaddrinfo failed')': /simple/torch/\n",
      "ERROR: Could not find a version that satisfies the requirement torch (from versions: none)\n",
      "ERROR: No matching distribution found for torch\n"
     ]
    }
   ],
   "source": [
    "pip install torch torchvision"
   ]
  },
  {
   "cell_type": "code",
   "execution_count": 1,
   "id": "f14e6798",
   "metadata": {},
   "outputs": [],
   "source": [
    "import torch"
   ]
  },
  {
   "cell_type": "markdown",
   "id": "b072711c",
   "metadata": {},
   "source": [
    "Тензоры — это основная структура данных в PyTorch, аналогичная массивам NumPy, но с возможностью выполнения на GPU для ускорения вычислений."
   ]
  },
  {
   "cell_type": "code",
   "execution_count": null,
   "id": "7bf50cf1",
   "metadata": {},
   "outputs": [],
   "source": [
    "# создание тензора"
   ]
  },
  {
   "cell_type": "code",
   "execution_count": 4,
   "id": "02c66072",
   "metadata": {},
   "outputs": [
    {
     "data": {
      "text/plain": [
       "tensor([[1., 2.],\n",
       "        [3., 4.]])"
      ]
     },
     "execution_count": 4,
     "metadata": {},
     "output_type": "execute_result"
    }
   ],
   "source": [
    "x = torch.tensor([[1,2],[3,4]], dtype=torch.float32)\n",
    "x"
   ]
  },
  {
   "cell_type": "code",
   "execution_count": 5,
   "id": "0f100ba4",
   "metadata": {},
   "outputs": [],
   "source": [
    "# Автоматическое дифференцирование (Autograd)"
   ]
  },
  {
   "cell_type": "code",
   "execution_count": 6,
   "id": "b50735ec",
   "metadata": {},
   "outputs": [],
   "source": [
    "# PyTorch автоматически вычисляет градиенты, необходимые для обучения нейронных сетей."
   ]
  },
  {
   "cell_type": "code",
   "execution_count": 1,
   "id": "0c0a748e",
   "metadata": {},
   "outputs": [
    {
     "ename": "NameError",
     "evalue": "name 'torch' is not defined",
     "output_type": "error",
     "traceback": [
      "\u001b[1;31m---------------------------------------------------------------------------\u001b[0m",
      "\u001b[1;31mNameError\u001b[0m                                 Traceback (most recent call last)",
      "Cell \u001b[1;32mIn[1], line 2\u001b[0m\n\u001b[0;32m      1\u001b[0m \u001b[38;5;66;03m# Тензор с отслеживанием градиента\u001b[39;00m\n\u001b[1;32m----> 2\u001b[0m x \u001b[38;5;241m=\u001b[39m torch\u001b[38;5;241m.\u001b[39mtensor(\u001b[38;5;241m2.0\u001b[39m, requires_grad\u001b[38;5;241m=\u001b[39m\u001b[38;5;28;01mTrue\u001b[39;00m)\n\u001b[0;32m      3\u001b[0m y \u001b[38;5;241m=\u001b[39m x \u001b[38;5;241m*\u001b[39m\u001b[38;5;241m*\u001b[39m \u001b[38;5;241m2\u001b[39m\n\u001b[0;32m      4\u001b[0m y\u001b[38;5;241m.\u001b[39mbackward()\n",
      "\u001b[1;31mNameError\u001b[0m: name 'torch' is not defined"
     ]
    }
   ],
   "source": [
    "# Тензор с отслеживанием градиента\n",
    "x = torch.tensor(2.0, requires_grad=True)\n",
    "y = x ** 2\n",
    "y.backward()\n",
    "print(x.grad)"
   ]
  },
  {
   "cell_type": "code",
   "execution_count": 9,
   "id": "0b7e0066",
   "metadata": {},
   "outputs": [
    {
     "data": {
      "text/plain": [
       "tensor([[0., 0., 0.],\n",
       "        [0., 0., 0.]])"
      ]
     },
     "execution_count": 9,
     "metadata": {},
     "output_type": "execute_result"
    }
   ],
   "source": [
    "x = torch.Tensor(2, 3)\n",
    "x"
   ]
  },
  {
   "cell_type": "code",
   "execution_count": 10,
   "id": "4a339942",
   "metadata": {},
   "outputs": [
    {
     "data": {
      "text/plain": [
       "tensor([[0.2153, 0.0137, 0.8034],\n",
       "        [0.6197, 0.4880, 0.4337]])"
      ]
     },
     "execution_count": 10,
     "metadata": {},
     "output_type": "execute_result"
    }
   ],
   "source": [
    "x = torch.rand(2, 3)\n",
    "x"
   ]
  },
  {
   "cell_type": "code",
   "execution_count": 11,
   "id": "e0e68c99",
   "metadata": {},
   "outputs": [
    {
     "data": {
      "text/plain": [
       "tensor([[1., 1., 1.],\n",
       "        [1., 1., 1.]])"
      ]
     },
     "execution_count": 11,
     "metadata": {},
     "output_type": "execute_result"
    }
   ],
   "source": [
    "x = torch.ones(2,3)\n",
    "x"
   ]
  },
  {
   "cell_type": "code",
   "execution_count": 12,
   "id": "bff783f0",
   "metadata": {},
   "outputs": [
    {
     "data": {
      "text/plain": [
       "tensor([[2., 2., 2.],\n",
       "        [2., 2., 2.]])"
      ]
     },
     "execution_count": 12,
     "metadata": {},
     "output_type": "execute_result"
    }
   ],
   "source": [
    "y = torch.ones(2,3) * 2\n",
    "y"
   ]
  },
  {
   "cell_type": "code",
   "execution_count": 13,
   "id": "6d9abcbf",
   "metadata": {},
   "outputs": [
    {
     "data": {
      "text/plain": [
       "tensor([[3., 3., 3.],\n",
       "        [3., 3., 3.]])"
      ]
     },
     "execution_count": 13,
     "metadata": {},
     "output_type": "execute_result"
    }
   ],
   "source": [
    "x + y"
   ]
  },
  {
   "cell_type": "code",
   "execution_count": 15,
   "id": "943811e7",
   "metadata": {},
   "outputs": [
    {
     "data": {
      "text/plain": [
       "tensor([[2., 3., 2.],\n",
       "        [2., 3., 2.]])"
      ]
     },
     "execution_count": 15,
     "metadata": {},
     "output_type": "execute_result"
    }
   ],
   "source": [
    "y[:,1] = y[:,1] + 1\n",
    "y"
   ]
  },
  {
   "cell_type": "code",
   "execution_count": 22,
   "id": "41fed432",
   "metadata": {},
   "outputs": [
    {
     "name": "stdout",
     "output_type": "stream",
     "text": [
      "tensor([[9., 9.],\n",
      "        [9., 9.]])\n"
     ]
    }
   ],
   "source": [
    "import torch\n",
    "\n",
    "# Создайте тензор размером (2, 2) с requires_grad=True\n",
    "x = torch.ones((2, 2), requires_grad=True)\n",
    "\n",
    "# Вычисление\n",
    "z = 2 * (x * x) + 5 * x\n",
    "\n",
    "# Применение backward\n",
    "z.backward(torch.ones(2, 2))\n",
    "\n",
    "# Вывод градиентов\n",
    "print(x.grad)\n"
   ]
  },
  {
   "cell_type": "code",
   "execution_count": 23,
   "id": "f766966e",
   "metadata": {},
   "outputs": [],
   "source": [
    "import torch.nn as nn"
   ]
  },
  {
   "cell_type": "code",
   "execution_count": 24,
   "id": "4e99ed67",
   "metadata": {},
   "outputs": [],
   "source": [
    "class SimpleModel(nn.Module):\n",
    "    def __init__(self):\n",
    "        super(SimpleModel, self).__init__()\n",
    "        self.linear == nn.Linear(10,1)\n",
    "        \n",
    "    def forward(self, x):\n",
    "        return self.linear(x)"
   ]
  },
  {
   "cell_type": "markdown",
   "id": "8cc36934",
   "metadata": {},
   "source": [
    "Оптимизаторы в PyTorch играют ключевую роль в процессе обучения нейронных сетей. Они определяют, как параметры модели (веса и смещения) обновляются на каждой итерации обучения на основе вычисленных градиентов. Правильный выбор оптимизатора и его гиперпараметров может значительно повлиять на скорость сходимости и качество обучения модели."
   ]
  },
  {
   "cell_type": "markdown",
   "id": "7f413ea6",
   "metadata": {},
   "source": [
    "1. SGD (Stochastic Gradient Descent)\n",
    "\n",
    "Описание: Классический стохастический градиентный спуск.\n",
    "\n",
    "Особенности:\n",
    "Может использовать моментум (momentum) для ускорения сходимости.\n",
    "\n",
    "Поддерживает Nesterov momentum.\n",
    "Простой в реализации, но может быть медленным без моментума."
   ]
  },
  {
   "cell_type": "code",
   "execution_count": 25,
   "id": "76566d97",
   "metadata": {},
   "outputs": [],
   "source": [
    "# optimizer = torch.optim.SGD(model.parameters(), lr=0.01, momentum=0.9)\n"
   ]
  },
  {
   "cell_type": "markdown",
   "id": "c2d3470b",
   "metadata": {},
   "source": [
    " Adam (Adaptive Moment Estimation)\n",
    "    \n",
    "Описание: Адаптивный оптимизатор, который сочетает в себе преимущества AdaGrad и RMSProp.\n",
    "    \n",
    "Особенности:\n",
    "Адаптирует скорость обучения для каждого параметра.\n",
    "\n",
    "Использует скользящее среднее градиентов и их квадратов.\n",
    "\n",
    "Хорошо работает на больших и шумных данных."
   ]
  },
  {
   "cell_type": "code",
   "execution_count": 28,
   "id": "571fe2b3",
   "metadata": {},
   "outputs": [],
   "source": [
    "# optimizer = torch.optim.Adam(model.parameters(), lr=0.001)"
   ]
  },
  {
   "cell_type": "markdown",
   "id": "515a4246",
   "metadata": {},
   "source": [
    "RMSprop"
   ]
  },
  {
   "cell_type": "markdown",
   "id": "19aa3154",
   "metadata": {},
   "source": [
    "Описание: Адаптивный оптимизатор, который поддерживает скорость обучения на оптимальном уровне.\n",
    "    \n",
    "Особенности:\n",
    "    \n",
    "Подходит для рекуррентных нейронных сетей.\n",
    "\n",
    "Учитывает среднеквадратичное значение градиента."
   ]
  },
  {
   "cell_type": "code",
   "execution_count": 30,
   "id": "74deba97",
   "metadata": {},
   "outputs": [],
   "source": [
    "# optimizer = torch.optim.RMSprop(model.parameters(), lr=0.001)"
   ]
  },
  {
   "cell_type": "markdown",
   "id": "f0c427ed",
   "metadata": {},
   "source": [
    "Adagrad"
   ]
  },
  {
   "cell_type": "markdown",
   "id": "aa843937",
   "metadata": {},
   "source": [
    "Описание: Адаптивный оптимизатор, изменяющий скорость обучения на основе частоты обновлений параметров.\n",
    "    \n",
    "Особенности:\n",
    "    \n",
    "Хорош для разреженных данных.\n",
    "\n",
    "Скорость обучения уменьшается со временем, что может быть недостатком."
   ]
  },
  {
   "cell_type": "code",
   "execution_count": 31,
   "id": "cc2b80ec",
   "metadata": {},
   "outputs": [],
   "source": [
    "import torch\n",
    "import torch.nn as nn\n",
    "import torch.optim as optim"
   ]
  },
  {
   "cell_type": "code",
   "execution_count": 33,
   "id": "e4fc7f02",
   "metadata": {},
   "outputs": [],
   "source": [
    "# Определяем модель\n",
    "# model = MyModel()"
   ]
  },
  {
   "cell_type": "code",
   "execution_count": 34,
   "id": "94b391b9",
   "metadata": {},
   "outputs": [],
   "source": [
    "criterion = nn.CrossEntropyLoss() # Выбираем функцию потерь"
   ]
  },
  {
   "cell_type": "code",
   "execution_count": 36,
   "id": "49318584",
   "metadata": {},
   "outputs": [],
   "source": [
    "# Инициализируем оптимизатор\n",
    "# optimizer = optim.Adam(model.parameters(), lr=0.001)"
   ]
  },
  {
   "cell_type": "code",
   "execution_count": 41,
   "id": "92bf47b4",
   "metadata": {},
   "outputs": [],
   "source": [
    "import torch.nn as nn\n",
    "\n",
    "# Простая модель\n",
    "class SimpleModel(nn.Module):\n",
    "    def __init__(self):\n",
    "        super(SimpleModel, self).__init__()\n",
    "        self.linear = nn.Linear(10, 1)\n",
    "    \n",
    "    def forward(self, x):\n",
    "        return self.linear(x)\n"
   ]
  },
  {
   "cell_type": "code",
   "execution_count": 42,
   "id": "56e83afe",
   "metadata": {},
   "outputs": [],
   "source": [
    "import torch.optim as optim\n",
    "\n",
    "model = SimpleModel()\n",
    "optimizer = optim.SGD(model.parameters(), lr=0.01)"
   ]
  },
  {
   "cell_type": "markdown",
   "id": "5fdc356f",
   "metadata": {},
   "source": [
    " ## Практический пример: Классификация изображений CIFAR-10"
   ]
  },
  {
   "cell_type": "code",
   "execution_count": 43,
   "id": "b2af1757",
   "metadata": {},
   "outputs": [],
   "source": [
    "import torch\n",
    "import torch.nn as nn\n",
    "import torch.optim as optim\n",
    "import torchvision\n",
    "import torchvision.transforms as transforms"
   ]
  },
  {
   "cell_type": "code",
   "execution_count": 44,
   "id": "2586c21f",
   "metadata": {},
   "outputs": [],
   "source": [
    "# Подготовка данных"
   ]
  },
  {
   "cell_type": "code",
   "execution_count": null,
   "id": "12e95167",
   "metadata": {},
   "outputs": [],
   "source": [
    "# Трансформации\n",
    "transform = transforms.Compose([\n",
    "    transforms.RandomHorizontalFlip(),\n",
    "    transforms.RandomCrop(32, padding=4),\n",
    "    transforms.ToTensor(),\n",
    "    transforms.Normalize((0.5,), (0.5,))\n",
    "])"
   ]
  },
  {
   "cell_type": "markdown",
   "id": "fd3de0d6",
   "metadata": {},
   "source": [
    "- **`transforms.Compose([...])`**: Эта функция позволяет объединить несколько трансформаций в одну последовательность, которая будет применяться к данным. Все перечисленные трансформации будут выполняться в указанном порядке.\n",
    "  \n",
    "- **`transforms.RandomHorizontalFlip()`**: С вероятностью 0.5 выполняет случайное горизонтальное отражение изображений. Это помогает улучшить обобщающую способность модели, добавляя разнообразие в данные.\n",
    "\n",
    "- **`transforms.RandomCrop(32, padding=4)`**: Изображения случайным образом обрезаются до размера 32x32 пикселя с добавлением отступа в 4 пикселя вокруг каждого изображения перед обрезкой. Это также используется для увеличения разнообразия в обучающем наборе данных.\n",
    "\n",
    "- **`transforms.ToTensor()`**: Преобразует изображение из формата PIL (или `numpy.ndarray`) в тензор PyTorch. Значения пикселов также нормализуются в диапазон [0, 1].\n",
    "\n",
    "- **`transforms.Normalize((0.5,), (0.5,))`**: Нормализует данные, изменяя среднее значение пикселов на 0.5 и стандартное отклонение также на 0.5. Здесь подразумевается, что мы работаем с одномерными данными в канале, но в случае RGB изображений было бы три значения (по одному на канал)."
   ]
  },
  {
   "cell_type": "code",
   "execution_count": 45,
   "id": "57e6035c",
   "metadata": {},
   "outputs": [
    {
     "name": "stdout",
     "output_type": "stream",
     "text": [
      "Downloading https://www.cs.toronto.edu/~kriz/cifar-10-python.tar.gz to ./data\\cifar-10-python.tar.gz\n"
     ]
    },
    {
     "name": "stderr",
     "output_type": "stream",
     "text": [
      "100%|██████████████████████████████████████████████████████████████| 170498071/170498071 [00:11<00:00, 15265143.46it/s]\n"
     ]
    },
    {
     "name": "stdout",
     "output_type": "stream",
     "text": [
      "Extracting ./data\\cifar-10-python.tar.gz to ./data\n"
     ]
    }
   ],
   "source": [
    "\n",
    "# Загрузка данных\n",
    "train_dataset = torchvision.datasets.CIFAR10(root='./data', train=True, download=True, transform=transform)\n",
    "train_loader = torch.utils.data.DataLoader(train_dataset, batch_size=100, shuffle=True)\n"
   ]
  },
  {
   "cell_type": "markdown",
   "id": "d272dc57",
   "metadata": {},
   "source": [
    "- **`torchvision.datasets.CIFAR10`**: Класс для работы с набором данных CIFAR-10, содержит 60,000 цветных 32x32 изображений в 10 классах. \n",
    "  - **`root='./data'`**: Указывает путь, где будет храниться загруженный набор данных.\n",
    "  - **`train=True`**: Задает загрузку обучающей части набора данных (вместо тестовой, если бы было `False`).\n",
    "  - **`download=True`**: Набор данных будет автоматически загружен с интернета, если это необходимо.\n",
    "  - **`transform=transform`**: Применяет созданную ранее последовательность трансформаций к каждому изображению.\n",
    "\n",
    "- **`torch.utils.data.DataLoader`**: Создает загрузчик данных, который будет эффективно перебирать элементы набора данных.\n",
    "  - **`train_dataset`**: Ваш набор данных CIFAR-10, к которому будут применяться трансформации.\n",
    "  - **`batch_size=100`**: Размер пакета (батча), который будет загружаться за одно использование.\n",
    "  - **`shuffle=True`**: Каждый раз перед началом новой эпохи данные будут перемешаны, чтобы обеспечить высокую обобщающую способность модели за счет разнообразия в порядке поступления данных для обучения."
   ]
  },
  {
   "cell_type": "markdown",
   "id": "de2ed044",
   "metadata": {},
   "source": [
    "Шаг 3: Определение модели"
   ]
  },
  {
   "cell_type": "code",
   "execution_count": 48,
   "id": "6376f5e7",
   "metadata": {},
   "outputs": [],
   "source": [
    "class CNN(nn.Module):\n",
    "    def __init__(self):\n",
    "        super(CNN, self).__init__()\n",
    "        self.conv_layer = nn.Sequential(\n",
    "            nn.Conv2d(3, 32, kernel_size=3),\n",
    "            nn.BatchNorm2d(32),\n",
    "            nn.ReLU(inplace=True),\n",
    "            nn.MaxPool2d(2)\n",
    "        )\n",
    "        self.fc_layer = nn.Sequential(\n",
    "            nn.Linear(32 * 15 * 15, 10)\n",
    "        )\n",
    "    \n",
    "    def forward(self, x):\n",
    "        x = self.conv_layer(x)\n",
    "        x = x.view(x.size(0), -1)\n",
    "        x = self.fc_layer(x)\n",
    "        return x\n",
    "\n",
    "model = CNN()\n"
   ]
  },
  {
   "cell_type": "markdown",
   "id": "583ee386",
   "metadata": {},
   "source": [
    "- **Метод `__init__`:** Убедитесь, что используете `__init__`, чтобы определить конструктор.\n",
    "- **Параметры `nn.Conv2d`:** Это определяет свертку с 3 входными каналами и 32 выходными каналами с ядром `3x3`.\n",
    "- **Слой подвыборки:** `MaxPool2d(2)` применяет 2x2 подвыборку, поэтому размер карты признаков уменьшится вдвое по каждому измерению.\n",
    "- **Расчет входа для `nn.Linear`:** Важно, чтобы входной размер для слоя `Linear` совпадал с выровненным размером после сверточных и подвыборочных операций. Если ваши входные изображения имеют размер, отличный от `32x32`, вам нужно будет правильно рассчитать размер после слоев свертки и подвыборки."
   ]
  },
  {
   "cell_type": "code",
   "execution_count": 49,
   "id": "26e86c33",
   "metadata": {},
   "outputs": [],
   "source": [
    "criterion = nn.CrossEntropyLoss()\n",
    "optimizer = optim.Adam(model.parameters(), lr=0.001)\n"
   ]
  },
  {
   "cell_type": "code",
   "execution_count": 50,
   "id": "e01fb2e0",
   "metadata": {},
   "outputs": [],
   "source": [
    "# Обучение модели"
   ]
  },
  {
   "cell_type": "code",
   "execution_count": 51,
   "id": "4a576b3b",
   "metadata": {},
   "outputs": [
    {
     "name": "stdout",
     "output_type": "stream",
     "text": [
      "Epoch [1/5], Loss: 1.7427\n",
      "Epoch [2/5], Loss: 1.4731\n",
      "Epoch [3/5], Loss: 1.3740\n",
      "Epoch [4/5], Loss: 1.3174\n",
      "Epoch [5/5], Loss: 1.2841\n"
     ]
    }
   ],
   "source": [
    "device = torch.device('cuda' if torch.cuda.is_available() else 'cpu')\n",
    "num_epochs = 5\n",
    "\n",
    "for epoch in range(num_epochs):\n",
    "    total_loss = 0\n",
    "    for images, labels in train_loader:\n",
    "        # Обнуление градиентов\n",
    "        optimizer.zero_grad()\n",
    "        \n",
    "        # Прямой проход\n",
    "        outputs = model(images)\n",
    "        \n",
    "        # Вычисление потерь\n",
    "        loss = criterion(outputs, labels)\n",
    "        \n",
    "        # Обратный проход\n",
    "        loss.backward()\n",
    "        \n",
    "        # Обновление параметров\n",
    "        optimizer.step()\n",
    "        \n",
    "        total_loss += loss.item()\n",
    "    \n",
    "    print(f'Epoch [{epoch+1}/{num_epochs}], Loss: {total_loss/len(train_loader):.4f}')\n"
   ]
  },
  {
   "cell_type": "code",
   "execution_count": null,
   "id": "fafc1783",
   "metadata": {},
   "outputs": [],
   "source": []
  }
 ],
 "metadata": {
  "kernelspec": {
   "display_name": "Python 3 (ipykernel)",
   "language": "python",
   "name": "python3"
  },
  "language_info": {
   "codemirror_mode": {
    "name": "ipython",
    "version": 3
   },
   "file_extension": ".py",
   "mimetype": "text/x-python",
   "name": "python",
   "nbconvert_exporter": "python",
   "pygments_lexer": "ipython3",
   "version": "3.12.4"
  }
 },
 "nbformat": 4,
 "nbformat_minor": 5
}
