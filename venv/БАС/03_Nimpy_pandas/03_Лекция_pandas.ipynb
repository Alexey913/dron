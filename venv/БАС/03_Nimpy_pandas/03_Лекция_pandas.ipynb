{
 "cells": [
  {
   "cell_type": "markdown",
   "id": "057867ab",
   "metadata": {},
   "source": [
    "Работа с временными данными в Pandas является важной частью анализа данных, особенно в задачах, связанных с временными рядами. В этой лекции мы рассмотрим основные аспекты работы с временными данными в Pandas, начиная с их загрузки и преобразования, до выполнения операций агрегации и ресемплинга."
   ]
  },
  {
   "cell_type": "markdown",
   "id": "6a8a0371",
   "metadata": {},
   "source": [
    "## 1. Создание и загрузка временных данных"
   ]
  },
  {
   "cell_type": "markdown",
   "id": "76230706",
   "metadata": {},
   "source": [
    "Pandas поддерживает различные форматы временных данных. Чаще всего данные загружаются из CSV-файлов или других источников, где одна из колонок содержит даты или временные метки."
   ]
  },
  {
   "cell_type": "code",
   "execution_count": 1,
   "id": "9f87adad",
   "metadata": {},
   "outputs": [],
   "source": [
    "import pandas as pd"
   ]
  },
  {
   "cell_type": "code",
   "execution_count": 2,
   "id": "c717b22a",
   "metadata": {},
   "outputs": [
    {
     "name": "stdout",
     "output_type": "stream",
     "text": [
      "2024-01-01 00:00:00\n"
     ]
    }
   ],
   "source": [
    "# создание временной метки\n",
    "date = pd.to_datetime('2024-01-01')\n",
    "print(date)"
   ]
  },
  {
   "cell_type": "code",
   "execution_count": 3,
   "id": "d82c0782",
   "metadata": {},
   "outputs": [
    {
     "name": "stdout",
     "output_type": "stream",
     "text": [
      "<class 'pandas._libs.tslibs.timestamps.Timestamp'>\n"
     ]
    }
   ],
   "source": [
    "print(type(date))"
   ]
  },
  {
   "cell_type": "code",
   "execution_count": 20,
   "id": "69b64c78",
   "metadata": {},
   "outputs": [
    {
     "data": {
      "text/html": [
       "<div>\n",
       "<style scoped>\n",
       "    .dataframe tbody tr th:only-of-type {\n",
       "        vertical-align: middle;\n",
       "    }\n",
       "\n",
       "    .dataframe tbody tr th {\n",
       "        vertical-align: top;\n",
       "    }\n",
       "\n",
       "    .dataframe thead th {\n",
       "        text-align: right;\n",
       "    }\n",
       "</style>\n",
       "<table border=\"1\" class=\"dataframe\">\n",
       "  <thead>\n",
       "    <tr style=\"text-align: right;\">\n",
       "      <th></th>\n",
       "      <th>date,\"Brent crude oil spot price, Monthly (dollars per barrel)\"</th>\n",
       "    </tr>\n",
       "  </thead>\n",
       "  <tbody>\n",
       "    <tr>\n",
       "      <th>1990 01</th>\n",
       "      <td>21.251</td>\n",
       "    </tr>\n",
       "    <tr>\n",
       "      <th>1990 02</th>\n",
       "      <td>19.813</td>\n",
       "    </tr>\n",
       "    <tr>\n",
       "      <th>1990 03</th>\n",
       "      <td>18.387</td>\n",
       "    </tr>\n",
       "    <tr>\n",
       "      <th>1990 04</th>\n",
       "      <td>16.612</td>\n",
       "    </tr>\n",
       "    <tr>\n",
       "      <th>1990 05</th>\n",
       "      <td>16.352</td>\n",
       "    </tr>\n",
       "  </tbody>\n",
       "</table>\n",
       "</div>"
      ],
      "text/plain": [
       "          date,\"Brent crude oil spot price, Monthly (dollars per barrel)\"\n",
       "1990 01                                              21.251              \n",
       "1990 02                                              19.813              \n",
       "1990 03                                              18.387              \n",
       "1990 04                                              16.612              \n",
       "1990 05                                              16.352              "
      ]
     },
     "execution_count": 20,
     "metadata": {},
     "output_type": "execute_result"
    }
   ],
   "source": [
    "# Чтение данных с датами из CSV\n",
    "data = pd.read_csv(r\"C:\\Users\\vahahat\\Downloads\\Brent Spot Price.csv\",sep=',')\n",
    "data.head()"
   ]
  },
  {
   "cell_type": "code",
   "execution_count": null,
   "id": "5b14a2c3",
   "metadata": {},
   "outputs": [],
   "source": [
    "# Аргумент parse_dates указывает Pandas автоматически преобразовать столбец с датами в объект типа Datetime."
   ]
  },
  {
   "cell_type": "markdown",
   "id": "8ee65545",
   "metadata": {},
   "source": [
    "### 2. Индексация с использованием дат"
   ]
  },
  {
   "cell_type": "markdown",
   "id": "462d3c95",
   "metadata": {},
   "source": [
    "Для работы с временными рядами важно установить даты как индекс. Это позволяет использовать мощные функции для работы с временными данными, такие как ресемплинг и агрегация."
   ]
  },
  {
   "cell_type": "code",
   "execution_count": 22,
   "id": "dcb93453",
   "metadata": {},
   "outputs": [],
   "source": [
    "# data.set_index('date', inplace=True)\n",
    "# data.head()"
   ]
  },
  {
   "cell_type": "markdown",
   "id": "9d6398a5",
   "metadata": {},
   "source": [
    "### 3. Основные операции с временными данными"
   ]
  },
  {
   "cell_type": "code",
   "execution_count": null,
   "id": "e4e703d5",
   "metadata": {},
   "outputs": [],
   "source": [
    "# Извлечение года, месяца, дня недели\n",
    "data['year'] = data.index.year\n",
    "data['month'] = data.index.month\n",
    "data['day_of_week'] = data.index.day_name()\n",
    "print(data.head())"
   ]
  },
  {
   "cell_type": "code",
   "execution_count": null,
   "id": "61ff7853",
   "metadata": {},
   "outputs": [],
   "source": [
    "# Фильтрация данных за определенный год\n",
    "data_2023 = data['2023']\n",
    "print(data_2023)"
   ]
  },
  {
   "cell_type": "code",
   "execution_count": null,
   "id": "850594de",
   "metadata": {},
   "outputs": [],
   "source": [
    "# Фильтрация по диапазону дат\n",
    "data_range = data['2023-01-01':'2023-06-30']\n",
    "print(data_range)"
   ]
  },
  {
   "cell_type": "markdown",
   "id": "0aae2b01",
   "metadata": {},
   "source": [
    "### Ресемплинг данных"
   ]
  },
  {
   "cell_type": "markdown",
   "id": "0e00c3dc",
   "metadata": {},
   "source": [
    "Ресемплинг — это изменение частоты временных данных. Например, можно преобразовать данные с дневной частоты на ежемесячную."
   ]
  },
  {
   "cell_type": "code",
   "execution_count": null,
   "id": "50991d5b",
   "metadata": {},
   "outputs": [],
   "source": [
    "# Ресемплинг данных до месячной частоты, суммируя значения\n",
    "monthly_data = data.resample('M').sum()\n",
    "print(monthly_data)\n"
   ]
  },
  {
   "cell_type": "code",
   "execution_count": 23,
   "id": "499002c7",
   "metadata": {},
   "outputs": [],
   "source": [
    "# Популярные параметры для ресемплинга:\n",
    "\n",
    "# 'D': дневная частота\n",
    "# 'M': месячная частота\n",
    "# 'Y': годовая частота\n",
    "# 'H': часовая частота\n",
    "# 'T': минутная частота"
   ]
  },
  {
   "cell_type": "code",
   "execution_count": null,
   "id": "a762e077",
   "metadata": {},
   "outputs": [],
   "source": [
    "# Среднее значение для каждой недели\n",
    "weekly_mean = data.resample('W').mean()\n",
    "print(weekly_mean)\n",
    "# sum(), mean(), min(), max()."
   ]
  },
  {
   "cell_type": "markdown",
   "id": "0d283885",
   "metadata": {},
   "source": [
    "## Работа с отсутствующими значениями (NaN) после ресемплинга"
   ]
  },
  {
   "cell_type": "markdown",
   "id": "e85c81a8",
   "metadata": {},
   "source": [
    "После ресемплинга могут появляться пропуски в данных. Pandas предоставляет методы для работы с такими пропусками, такие как заполнение предыдущими значениями или линейная интерполяция."
   ]
  },
  {
   "cell_type": "code",
   "execution_count": null,
   "id": "0967ab0c",
   "metadata": {},
   "outputs": [],
   "source": [
    "# Заполнение пропусков предыдущим значением\n",
    "filled_data = data.resample('D').ffill()\n",
    "\n",
    "# Линейная интерполяция\n",
    "interpolated_data = data.resample('D').interpolate()\n"
   ]
  },
  {
   "cell_type": "markdown",
   "id": "ef3d723f",
   "metadata": {},
   "source": [
    "## Поддержка временных интервалов"
   ]
  },
  {
   "cell_type": "markdown",
   "id": "1d095e85",
   "metadata": {},
   "source": [
    "Pandas поддерживает работу с временными интервалами (длительностью), что полезно при анализе длительности событий."
   ]
  },
  {
   "cell_type": "code",
   "execution_count": 24,
   "id": "13e43143",
   "metadata": {},
   "outputs": [
    {
     "name": "stdout",
     "output_type": "stream",
     "text": [
      "0 days 02:00:00\n"
     ]
    }
   ],
   "source": [
    "# Создание временных интервалов\n",
    "start_time = pd.to_datetime('2024-01-01 08:00')\n",
    "end_time = pd.to_datetime('2024-01-01 10:00')\n",
    "\n",
    "# Продолжительность\n",
    "duration = end_time - start_time\n",
    "print(duration)\n"
   ]
  },
  {
   "cell_type": "code",
   "execution_count": null,
   "id": "0771f9d1",
   "metadata": {},
   "outputs": [],
   "source": [
    "# Оперирование с временными сдвигами"
   ]
  },
  {
   "cell_type": "markdown",
   "id": "89ee1fae",
   "metadata": {},
   "source": [
    "Pandas позволяет сдвигать временные ряды на определенное количество временных единиц. Это часто используется для вычисления скользящих средних или других индикаторов."
   ]
  },
  {
   "cell_type": "code",
   "execution_count": null,
   "id": "8437f49e",
   "metadata": {},
   "outputs": [],
   "source": [
    "# Сдвиг данных на один день вперед\n",
    "shifted_data = data.shift(1)\n",
    "\n",
    "# Вычисление разницы между текущим и предыдущим днем\n",
    "data['daily_change'] = data['value'] - data['value'].shift(1)"
   ]
  },
  {
   "cell_type": "code",
   "execution_count": null,
   "id": "05df3899",
   "metadata": {},
   "outputs": [],
   "source": [
    "# Скользящее среднее по 7 дням\n",
    "data['7_day_avg'] = data['value'].rolling(window=7).mean()\n",
    "print(data.head())\n"
   ]
  },
  {
   "cell_type": "code",
   "execution_count": 27,
   "id": "30ac4c64",
   "metadata": {},
   "outputs": [
    {
     "data": {
      "image/png": "[encoded data removed]",
      "text/plain": [
       "<Figure size 1000x600 with 1 Axes>"
      ]
     },
     "metadata": {},
     "output_type": "display_data"
    }
   ],
   "source": [
    "import matplotlib.pyplot as plt\n",
    "\n",
    "# Построение графика временных данных\n",
    "data['date,\"Brent crude oil spot price, Monthly (dollars per barrel)\"'].plot(figsize=(10, 6))\n",
    "plt.show()\n"
   ]
  },
  {
   "cell_type": "markdown",
   "id": "5e045cfc",
   "metadata": {},
   "source": [
    "Ошибка преобразования даты: Если в данных присутствуют неправильные форматы даты, можно использовать параметр errors='coerce' при преобразовании даты.\n"
   ]
  },
  {
   "cell_type": "code",
   "execution_count": null,
   "id": "59263885",
   "metadata": {},
   "outputs": [],
   "source": [
    "# data['date_column'] = pd.to_datetime(data['date_column'], errors='coerce')"
   ]
  },
  {
   "cell_type": "code",
   "execution_count": null,
   "id": "b7f51a4e",
   "metadata": {},
   "outputs": [],
   "source": [
    "# ffill(), bfill() или interpolate()"
   ]
  }
 ],
 "metadata": {
  "kernelspec": {
   "display_name": "Python 3 (ipykernel)",
   "language": "python",
   "name": "python3"
  },
  "language_info": {
   "codemirror_mode": {
    "name": "ipython",
    "version": 3
   },
   "file_extension": ".py",
   "mimetype": "text/x-python",
   "name": "python",
   "nbconvert_exporter": "python",
   "pygments_lexer": "ipython3",
   "version": "3.9.13"
  }
 },
 "nbformat": 4,
 "nbformat_minor": 5
}
