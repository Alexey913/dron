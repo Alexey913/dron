{
 "cells": [
  {
   "cell_type": "markdown",
   "id": "71a9ee02",
   "metadata": {},
   "source": [
    "# Практическое задание\n",
    "\n",
    "**Настройка общих параметров модели через конфигурационный файл default.yaml**\n",
    "\n",
    "**Установите в общем конфигурационном файле default.yaml параметры, рекомендуемые преподавателями для запуска обучения модели: epochs 50, batch 16, imgsz 640.**\n",
    "\n",
    "**Загрузите отредактированный файл default.yaml на Платформу.**"
   ]
  },
  {
   "cell_type": "markdown",
   "id": "b9c4eeb2-48da-43b3-b441-c232f43f1433",
   "metadata": {},
   "source": [
    "## Сруктура проекта "
   ]
  },
  {
   "cell_type": "markdown",
   "id": "5a63653b-6797-4cc8-9da8-0456452d235e",
   "metadata": {},
   "source": [
    "**Для проекта используется следующая структура**"
   ]
  },
  {
   "cell_type": "raw",
   "id": "249817e3-e2a2-4440-98b9-35ebadcc8e47",
   "metadata": {},
   "source": [
    "data\n",
    "├── images\n",
    "│   ├── train\n",
    "│   └── val\n",
    "|\n",
    "├── labels\n",
    "│   ├── train\n",
    "│   └── val\n",
    "|\n",
    "├── default.yaml\n",
    "│\n",
    "└── data.yaml"
   ]
  },
  {
   "cell_type": "markdown",
   "id": "4686674c-49a8-4386-9c8a-f6874d71156c",
   "metadata": {},
   "source": [
    "### Файл настроек используется для задания конфигураций обучений, проверки и инференса модели\n",
    "\n",
    "#### Содержимое файле **default.yaml** - файл настроек:\n",
    "**Основные параметры**:\n",
    "* Задача обучения - детекция\n",
    "* Модель - предобученная, yolo8n\n",
    "* Обучение на 20 эпохах\n",
    "* Время эпох переопределения эпох\n",
    "* Размер батча - 16\n",
    "* Размер изображения 640х640\n",
    "* Заданы гиперпараметры:\n",
    "  * lr0=lrf=0,01 (lerning rate не меняется в процессе обучения);\n",
    "  * momentum = 0,937;\n",
    "  * оптимизатор весов = 0.0005 и др."
   ]
  },
  {
   "cell_type": "markdown",
   "id": "7227c756-08f7-44e7-a59c-231cc509f1f4",
   "metadata": {},
   "source": [
    "### Запуск обучения с использованием конфигурационного файла"
   ]
  },
  {
   "cell_type": "code",
   "execution_count": 4,
   "id": "438e0257-4836-40f1-a394-d3345bb44a03",
   "metadata": {},
   "outputs": [],
   "source": [
    "model_npt = YOLO(\"yolov8n.pt\")\n",
    "model_npt.train(data='data.yaml', cfg='default.yaml')"
   ]
  }
 ],
 "metadata": {
  "kernelspec": {
   "display_name": "Python 3 (ipykernel)",
   "language": "python",
   "name": "python3"
  },
  "language_info": {
   "codemirror_mode": {
    "name": "ipython",
    "version": 3
   },
   "file_extension": ".py",
   "mimetype": "text/x-python",
   "name": "python",
   "nbconvert_exporter": "python",
   "pygments_lexer": "ipython3",
   "version": "3.12.7"
  }
 },
 "nbformat": 4,
 "nbformat_minor": 5
}
