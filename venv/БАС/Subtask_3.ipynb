{
 "cells": [
  {
   "cell_type": "markdown",
   "id": "71a9ee02",
   "metadata": {},
   "source": [
    "# Практическое задание\n",
    "\n",
    "**Настройка параметров пути и числа классов модели через конфигурационный файл data.yaml**\n",
    "**Отредактируйте базовый файл data.yaml, предоставленный преподавателями чтобы при запуске обучения:**\n",
    "- модель обращалась к нужной директории с данными,\n",
    "- модель получила информацию о числе и именах классов целевых объектов\n",
    "  \n",
    "**Загрузите отредактированный файл data.yaml на Платформу**"
   ]
  },
  {
   "cell_type": "markdown",
   "id": "b9c4eeb2-48da-43b3-b441-c232f43f1433",
   "metadata": {},
   "source": [
    "## Сруктура проекта "
   ]
  },
  {
   "cell_type": "markdown",
   "id": "5a63653b-6797-4cc8-9da8-0456452d235e",
   "metadata": {},
   "source": [
    "**Для проекта используется следующая структура**"
   ]
  },
  {
   "cell_type": "raw",
   "id": "249817e3-e2a2-4440-98b9-35ebadcc8e47",
   "metadata": {},
   "source": [
    "data\n",
    "├── images\n",
    "│   ├── train\n",
    "│   └── val\n",
    "|\n",
    "├── labels\n",
    "│   ├── train\n",
    "│   └── val\n",
    "|\n",
    "├── default.yaml\n",
    "│\n",
    "└── data.yaml"
   ]
  },
  {
   "cell_type": "markdown",
   "id": "4686674c-49a8-4386-9c8a-f6874d71156c",
   "metadata": {},
   "source": [
    "### Содержимое файле **data.yaml** - файл путей и переменных:\n",
    "* в переменной ```path``` абсолютный путь к корневой директории Проекта **data**\n",
    "* в соответствующих переменных - относитльные адреса директорий с изображениями и разметкой в соответствии с выбранной структурой.\n",
    "*  в переменной ```names``` - индексы и номера классов в формате ```0: name_0```, ```1: name_1``` ... и т.д., где name_0, name_1... - реальные имена ваших классов. В данной задаче объекты представлены единственным классом **```car```**."
   ]
  },
  {
   "cell_type": "markdown",
   "id": "7227c756-08f7-44e7-a59c-231cc509f1f4",
   "metadata": {},
   "source": [
    "### Запуск обучения с использованием файла путей"
   ]
  },
  {
   "cell_type": "code",
   "execution_count": 4,
   "id": "438e0257-4836-40f1-a394-d3345bb44a03",
   "metadata": {},
   "outputs": [],
   "source": [
    "model_npt = YOLO(\"yolov8n.pt\")\n",
    "model_npt.train(data='data.yaml', cfg='default.yaml')"
   ]
  }
 ],
 "metadata": {
  "kernelspec": {
   "display_name": "Python 3 (ipykernel)",
   "language": "python",
   "name": "python3"
  },
  "language_info": {
   "codemirror_mode": {
    "name": "ipython",
    "version": 3
   },
   "file_extension": ".py",
   "mimetype": "text/x-python",
   "name": "python",
   "nbconvert_exporter": "python",
   "pygments_lexer": "ipython3",
   "version": "3.12.7"
  }
 },
 "nbformat": 4,
 "nbformat_minor": 5
}
