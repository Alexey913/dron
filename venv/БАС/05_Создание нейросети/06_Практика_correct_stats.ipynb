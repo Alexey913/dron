{
 "cells": [
  {
   "cell_type": "markdown",
   "id": "e16fd105",
   "metadata": {},
   "source": [
    "# Исправленная функция подсчета статистик"
   ]
  },
  {
   "cell_type": "code",
   "execution_count": 1,
   "id": "7c9e5408",
   "metadata": {},
   "outputs": [],
   "source": [
    "import torch\n",
    "import numpy as np\n",
    "import torch.nn as nn\n",
    "import torchvision\n",
    "import torch.nn.functional as F\n",
    "import torchvision.transforms as T\n",
    "from torchvision import datasets\n",
    "import matplotlib.pyplot as plt"
   ]
  },
  {
   "cell_type": "markdown",
   "id": "98277a77",
   "metadata": {},
   "source": [
    "Тут вместо `'./data_2'` вставьте свою директорию, где хранится ноутбук со скриптом. Если датасет не закачан - при `download=True` произойдет закачка. Если скачан - и в той же директории что и скрипт - закачки не будет, датасет доступен."
   ]
  },
  {
   "cell_type": "code",
   "execution_count": 5,
   "id": "2958a326",
   "metadata": {},
   "outputs": [
    {
     "data": {
      "text/plain": [
       "Dataset CIFAR10\n",
       "    Number of datapoints: 50000\n",
       "    Root location: ./data_2\n",
       "    Split: Train"
      ]
     },
     "execution_count": 5,
     "metadata": {},
     "output_type": "execute_result"
    }
   ],
   "source": [
    "train_set = datasets.CIFAR10(root='./data_2', train=True, download=True)\n",
    "train_set # краткие сведеиня по датасету"
   ]
  },
  {
   "cell_type": "code",
   "execution_count": null,
   "id": "7ad6578c",
   "metadata": {},
   "outputs": [],
   "source": [
    "train_set.data # весь датасет в одном массиве (не тензоре!) Данные не нормированы (в диапазоне от 0 до 255)"
   ]
  },
  {
   "cell_type": "code",
   "execution_count": 11,
   "id": "802a663e",
   "metadata": {
    "scrolled": true
   },
   "outputs": [
    {
     "data": {
      "text/plain": [
       "(50000, 32, 32, 3)"
      ]
     },
     "execution_count": 11,
     "metadata": {},
     "output_type": "execute_result"
    }
   ],
   "source": [
    "train_set.data.shape # если датасет из RGB-изображений: 4 измерения, каналы в последнем (нотация N,H,W,C)"
   ]
  },
  {
   "cell_type": "markdown",
   "id": "906c8a44",
   "metadata": {},
   "source": [
    "Испавил функцию подсчета среднего и ст. отклонения. ToTensor() там было лишним, хотя ни на что не влияло. **Спасибо что заметили!** Эта функция нужна лишь для подсчета mean и std, но не переводит данные в тензоры (для подсчета это и не нужно)."
   ]
  },
  {
   "cell_type": "code",
   "execution_count": 1,
   "id": "3314d355",
   "metadata": {},
   "outputs": [],
   "source": [
    "def get_mean_std_train_data(dataset, data_root):\n",
    "    \n",
    "#     train_trans = T.Compose([T.ToTensor()]) это лишний параметр - он не влияет на расчеты, тут не нужен\n",
    "    train_set = datasets.CIFAR10(root=data_root, train=True, download=True) # тут параметр transforms можно опустить\n",
    "    '''Вместо CIFAR10 можно подставить MNIST, FashioMNIST или другой датасет из trochvision.datasets,\n",
    "    поменяв также data_root на другую директорию: тогда другой датасет загрузится туда. Потом из ноутбука к нему\n",
    "    удобно обращаться для подгрузки'''\n",
    "    \n",
    "    if len(train_set.data.shape) > 3:\n",
    "        r_mean = train_set.data[...,0].mean()/255 # каналы в последнем измерении\n",
    "        r_std = train_set.data[...,0].std()/255\n",
    "        g_mean = train_set.data[...,1].mean()/255\n",
    "        g_std = train_set.data[...,1].std()/255\n",
    "        b_mean = train_set.data[...,2].mean()/255\n",
    "        b_std = train_set.data[...,2].std()/255\n",
    "\n",
    "        mean = np.array([r_mean, g_mean, b_mean])\n",
    "        std = np.array([r_std, g_std, b_std])\n",
    "\n",
    "    else:\n",
    "        mean = train_set.data.float().mean()/255\n",
    "        std = train_set.data.float().std()/255\n",
    "    \n",
    "    return mean, std"
   ]
  },
  {
   "cell_type": "markdown",
   "id": "5a1d4946",
   "metadata": {},
   "source": [
    "Вместо `'./data_2'` вставьте свою директорию, ту же где ноутбук со скриптом:"
   ]
  },
  {
   "cell_type": "code",
   "execution_count": 2,
   "id": "79ca6012",
   "metadata": {},
   "outputs": [
    {
     "ename": "TypeError",
     "evalue": "get_mean_std_train_data() missing 1 required positional argument: 'data_root'",
     "output_type": "error",
     "traceback": [
      "\u001b[1;31m---------------------------------------------------------------------------\u001b[0m",
      "\u001b[1;31mTypeError\u001b[0m                                 Traceback (most recent call last)",
      "\u001b[1;32m~\\AppData\\Local\\Temp\\ipykernel_11068\\3327501809.py\u001b[0m in \u001b[0;36m<module>\u001b[1;34m\u001b[0m\n\u001b[1;32m----> 1\u001b[1;33m \u001b[0mmean\u001b[0m\u001b[1;33m,\u001b[0m \u001b[0mstd\u001b[0m \u001b[1;33m=\u001b[0m \u001b[0mget_mean_std_train_data\u001b[0m\u001b[1;33m(\u001b[0m\u001b[1;34m'./data_2'\u001b[0m\u001b[1;33m)\u001b[0m\u001b[1;33m\u001b[0m\u001b[1;33m\u001b[0m\u001b[0m\n\u001b[0m\u001b[0;32m      2\u001b[0m \u001b[0mprint\u001b[0m\u001b[1;33m(\u001b[0m\u001b[0mmean\u001b[0m\u001b[1;33m,\u001b[0m \u001b[0mstd\u001b[0m\u001b[1;33m)\u001b[0m\u001b[1;33m\u001b[0m\u001b[1;33m\u001b[0m\u001b[0m\n",
      "\u001b[1;31mTypeError\u001b[0m: get_mean_std_train_data() missing 1 required positional argument: 'data_root'"
     ]
    }
   ],
   "source": [
    "mean, std = get_mean_std_train_data('./data_2')\n",
    "print(mean, std)"
   ]
  },
  {
   "cell_type": "code",
   "execution_count": null,
   "id": "e3644f3f",
   "metadata": {},
   "outputs": [],
   "source": []
  }
 ],
 "metadata": {
  "kernelspec": {
   "display_name": "Python 3 (ipykernel)",
   "language": "python",
   "name": "python3"
  },
  "language_info": {
   "codemirror_mode": {
    "name": "ipython",
    "version": 3
   },
   "file_extension": ".py",
   "mimetype": "text/x-python",
   "name": "python",
   "nbconvert_exporter": "python",
   "pygments_lexer": "ipython3",
   "version": "3.9.13"
  }
 },
 "nbformat": 4,
 "nbformat_minor": 5
}
